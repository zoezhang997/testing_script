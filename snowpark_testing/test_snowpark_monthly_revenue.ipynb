{
 "cells": [
  {
   "cell_type": "code",
   "execution_count": 1,
   "id": "0a879853",
   "metadata": {},
   "outputs": [],
   "source": [
    "from snowflake.snowpark.session import Session\n",
    "from snowflake.snowpark.types import *\n",
    "from snowflake.snowpark.functions import col, lit\n",
    "import getpass\n",
    "import pandas as pd\n",
    "import json\n",
    "from get_secret import get_secret\n",
    "from datetime import datetime\n",
    "import snowflake.snowpark.functions as F"
   ]
  },
  {
   "cell_type": "code",
   "execution_count": 2,
   "id": "d3693af2",
   "metadata": {},
   "outputs": [],
   "source": [
    "connection_parameters = json.loads(get_secret())\n",
    "connection_parameters.update({'warehouse':'COMPUTE_WH', 'database':'ANALYTICS_PROD','schema': 'IOATAWARE',\"loglevel\":'DEBUG'})\n",
    "session = Session.builder.configs(connection_parameters).create()"
   ]
  },
  {
   "cell_type": "code",
   "execution_count": 3,
   "id": "486af731",
   "metadata": {},
   "outputs": [
    {
     "name": "stdout",
     "output_type": "stream",
     "text": [
      "Current Database and schema: \"ANALYTICS_PROD\".\"IOATAWARE\"\n",
      "Current Warehouse: \"COMPUTE_WH\"\n"
     ]
    }
   ],
   "source": [
    "print(f\"Current Database and schema: {session.get_fully_qualified_current_schema()}\")\n",
    "print(f\"Current Warehouse: {session.get_current_warehouse()}\")"
   ]
  },
  {
   "cell_type": "markdown",
   "id": "2d67dcc2",
   "metadata": {},
   "source": [
    "# Import and clean snowflake views"
   ]
  },
  {
   "cell_type": "code",
   "execution_count": 33,
   "id": "91f41bed",
   "metadata": {},
   "outputs": [],
   "source": [
    "view_name = \"VW_MONTHLY_REVENUE\""
   ]
  },
  {
   "cell_type": "code",
   "execution_count": 34,
   "id": "b3160ace",
   "metadata": {},
   "outputs": [],
   "source": [
    "snowpark_df = session.table(view_name)"
   ]
  },
  {
   "cell_type": "code",
   "execution_count": 35,
   "id": "645cd163",
   "metadata": {},
   "outputs": [],
   "source": [
    "snowflake_pd_df = snowpark_df.to_pandas()"
   ]
  },
  {
   "cell_type": "code",
   "execution_count": 41,
   "id": "05013ca5",
   "metadata": {},
   "outputs": [],
   "source": [
    "snowflake_pd_df['Flight Date'] = pd.to_datetime(snowflake_pd_df['Flight Date'])\n",
    "snowflake_pd_df['Daily Base Revenue'] = snowflake_pd_df['Daily Base Revenue'].astype(float)\n",
    "snowflake_pd_df['Daily Ancillary Revenue'] = snowflake_pd_df['Daily Ancillary Revenue'].astype(float)\n",
    "snowflake_pd_df['Total'] = snowflake_pd_df['Total'].astype(float)"
   ]
  },
  {
   "cell_type": "code",
   "execution_count": 20,
   "id": "32f60f43",
   "metadata": {
    "scrolled": true
   },
   "outputs": [],
   "source": [
    "# snowflake_pd_df['combined_timestamp'] = pd.to_datetime(snowflake_pd_df['Flight Date'] + ' ' + snowflake_pd_df['Flight time'])\n",
    "# snowflake_pd_df['combined_timestamp_mt'] = snowflake_pd_df['combined_timestamp'].dt.tz_localize('UTC').dt.tz_convert('US/Mountain')\n",
    "# snowflake_pd_df['Flight Date'] = snowflake_pd_df['combined_timestamp_mt'].dt.date\n",
    "\n",
    "#snowflake_pd_df['Charge Date'] = pd.to_datetime(snowflake_pd_df['Charge Date']).dt.tz_localize('UTC').dt.tz_convert('US/Mountain')"
   ]
  },
  {
   "cell_type": "code",
   "execution_count": 38,
   "id": "f5110c7e",
   "metadata": {},
   "outputs": [],
   "source": [
    "start_date = '2022-07-31'\n",
    "end_date = '2023-07-31'\n",
    "mask  = (snowflake_pd_df['Flight Date'] > start_date) & (snowflake_pd_df['Flight Date'] <= end_date)\n",
    "snowflake_pd_df1 = snowflake_pd_df.loc[mask]"
   ]
  },
  {
   "cell_type": "code",
   "execution_count": 54,
   "id": "5c4ce7b2",
   "metadata": {},
   "outputs": [
    {
     "data": {
      "text/html": [
       "<div>\n",
       "<style scoped>\n",
       "    .dataframe tbody tr th:only-of-type {\n",
       "        vertical-align: middle;\n",
       "    }\n",
       "\n",
       "    .dataframe tbody tr th {\n",
       "        vertical-align: top;\n",
       "    }\n",
       "\n",
       "    .dataframe thead th {\n",
       "        text-align: right;\n",
       "    }\n",
       "</style>\n",
       "<table border=\"1\" class=\"dataframe\">\n",
       "  <thead>\n",
       "    <tr style=\"text-align: right;\">\n",
       "      <th></th>\n",
       "      <th>Flight Date</th>\n",
       "      <th>Daily Base Revenue</th>\n",
       "      <th>Daily Ancillary Revenue</th>\n",
       "      <th>Total</th>\n",
       "    </tr>\n",
       "  </thead>\n",
       "  <tbody>\n",
       "    <tr>\n",
       "      <th>0</th>\n",
       "      <td>2023-06-19</td>\n",
       "      <td>874179.47</td>\n",
       "      <td>544661.35</td>\n",
       "      <td>1418840.82</td>\n",
       "    </tr>\n",
       "  </tbody>\n",
       "</table>\n",
       "</div>"
      ],
      "text/plain": [
       "  Flight Date  Daily Base Revenue  Daily Ancillary Revenue       Total\n",
       "0  2023-06-19           874179.47                544661.35  1418840.82"
      ]
     },
     "execution_count": 54,
     "metadata": {},
     "output_type": "execute_result"
    }
   ],
   "source": [
    "snowflake_pd_df1[snowflake_pd_df1[\"Flight Date\"] == \"2023-06-19\t\"]"
   ]
  },
  {
   "cell_type": "code",
   "execution_count": 795,
   "id": "d1ab6f08",
   "metadata": {},
   "outputs": [],
   "source": [
    "#Remove the column we are not testing for now"
   ]
  },
  {
   "cell_type": "markdown",
   "id": "0040d98b",
   "metadata": {},
   "source": [
    "# Import and clean report data"
   ]
  },
  {
   "cell_type": "code",
   "execution_count": 42,
   "id": "a1d27d5e",
   "metadata": {},
   "outputs": [],
   "source": [
    "report_df = pd.read_csv('MonthlyRevenue/Monthly_Revenue_Summary.csv', skiprows=0)   "
   ]
  },
  {
   "cell_type": "code",
   "execution_count": 43,
   "id": "abedafb4",
   "metadata": {},
   "outputs": [
    {
     "data": {
      "text/plain": [
       "Index(['FlightDate', 'DailyBaseRevenue', 'DailyAncillaryRevenue', 'Total'], dtype='object')"
      ]
     },
     "execution_count": 43,
     "metadata": {},
     "output_type": "execute_result"
    }
   ],
   "source": [
    "report_df.columns "
   ]
  },
  {
   "cell_type": "code",
   "execution_count": 48,
   "id": "4c168dc3",
   "metadata": {},
   "outputs": [],
   "source": [
    "report_df['DailyBaseRevenue'] = report_df['DailyBaseRevenue'].str.replace('$', '')\n",
    "report_df['DailyBaseRevenue'] = report_df['DailyBaseRevenue'].str.replace(',', '')\n",
    "report_df['DailyAncillaryRevenue'] = report_df['DailyAncillaryRevenue'].str.replace('$', '')\n",
    "report_df['DailyAncillaryRevenue'] = report_df['DailyAncillaryRevenue'].str.replace(',', '')\n",
    "report_df['Total'] = report_df['Total'].str.replace('$', '')\n",
    "report_df['Total'] = report_df['Total'].str.replace(',', '')"
   ]
  },
  {
   "cell_type": "code",
   "execution_count": 49,
   "id": "fcc7587b",
   "metadata": {},
   "outputs": [],
   "source": [
    "report_df['FlightDate'] = pd.to_datetime(report_df['FlightDate'])\n",
    "report_df['DailyBaseRevenue'] = report_df['DailyBaseRevenue'].astype(float)\n",
    "report_df['DailyAncillaryRevenue'] = report_df['DailyAncillaryRevenue'].astype(float)\n",
    "report_df['Total'] = report_df['Total'].astype(float)"
   ]
  },
  {
   "cell_type": "code",
   "execution_count": 60,
   "id": "e596e54b",
   "metadata": {},
   "outputs": [
    {
     "data": {
      "text/html": [
       "<div>\n",
       "<style scoped>\n",
       "    .dataframe tbody tr th:only-of-type {\n",
       "        vertical-align: middle;\n",
       "    }\n",
       "\n",
       "    .dataframe tbody tr th {\n",
       "        vertical-align: top;\n",
       "    }\n",
       "\n",
       "    .dataframe thead th {\n",
       "        text-align: right;\n",
       "    }\n",
       "</style>\n",
       "<table border=\"1\" class=\"dataframe\">\n",
       "  <thead>\n",
       "    <tr style=\"text-align: right;\">\n",
       "      <th></th>\n",
       "      <th>FlightDate</th>\n",
       "      <th>DailyBaseRevenue</th>\n",
       "      <th>DailyAncillaryRevenue</th>\n",
       "      <th>Total</th>\n",
       "    </tr>\n",
       "  </thead>\n",
       "  <tbody>\n",
       "    <tr>\n",
       "      <th>323</th>\n",
       "      <td>2023-06-19</td>\n",
       "      <td>882676.34</td>\n",
       "      <td>706390.84</td>\n",
       "      <td>1589067.18</td>\n",
       "    </tr>\n",
       "  </tbody>\n",
       "</table>\n",
       "</div>"
      ],
      "text/plain": [
       "    FlightDate  DailyBaseRevenue  DailyAncillaryRevenue       Total\n",
       "323 2023-06-19         882676.34              706390.84  1589067.18"
      ]
     },
     "execution_count": 60,
     "metadata": {},
     "output_type": "execute_result"
    }
   ],
   "source": [
    "report_df[report_df[\"FlightDate\"] == \"2023-06-19\"]"
   ]
  },
  {
   "cell_type": "code",
   "execution_count": 50,
   "id": "1cae5c97",
   "metadata": {},
   "outputs": [
    {
     "data": {
      "text/html": [
       "<div>\n",
       "<style scoped>\n",
       "    .dataframe tbody tr th:only-of-type {\n",
       "        vertical-align: middle;\n",
       "    }\n",
       "\n",
       "    .dataframe tbody tr th {\n",
       "        vertical-align: top;\n",
       "    }\n",
       "\n",
       "    .dataframe thead th {\n",
       "        text-align: right;\n",
       "    }\n",
       "</style>\n",
       "<table border=\"1\" class=\"dataframe\">\n",
       "  <thead>\n",
       "    <tr style=\"text-align: right;\">\n",
       "      <th></th>\n",
       "      <th>FlightDate</th>\n",
       "      <th>DailyBaseRevenue</th>\n",
       "      <th>DailyAncillaryRevenue</th>\n",
       "      <th>Total</th>\n",
       "    </tr>\n",
       "  </thead>\n",
       "  <tbody>\n",
       "    <tr>\n",
       "      <th>0</th>\n",
       "      <td>2022-07-31</td>\n",
       "      <td>1563392.70</td>\n",
       "      <td>732167.89</td>\n",
       "      <td>2295560.59</td>\n",
       "    </tr>\n",
       "    <tr>\n",
       "      <th>1</th>\n",
       "      <td>2022-08-01</td>\n",
       "      <td>1875110.19</td>\n",
       "      <td>735743.09</td>\n",
       "      <td>2610853.28</td>\n",
       "    </tr>\n",
       "    <tr>\n",
       "      <th>2</th>\n",
       "      <td>2022-08-02</td>\n",
       "      <td>1401295.00</td>\n",
       "      <td>655608.04</td>\n",
       "      <td>2056903.04</td>\n",
       "    </tr>\n",
       "    <tr>\n",
       "      <th>3</th>\n",
       "      <td>2022-08-03</td>\n",
       "      <td>1433307.82</td>\n",
       "      <td>657460.27</td>\n",
       "      <td>2090768.09</td>\n",
       "    </tr>\n",
       "    <tr>\n",
       "      <th>4</th>\n",
       "      <td>2022-08-04</td>\n",
       "      <td>1213723.53</td>\n",
       "      <td>633084.74</td>\n",
       "      <td>1846808.26</td>\n",
       "    </tr>\n",
       "    <tr>\n",
       "      <th>...</th>\n",
       "      <td>...</td>\n",
       "      <td>...</td>\n",
       "      <td>...</td>\n",
       "      <td>...</td>\n",
       "    </tr>\n",
       "    <tr>\n",
       "      <th>361</th>\n",
       "      <td>2023-07-27</td>\n",
       "      <td>1287112.40</td>\n",
       "      <td>849252.17</td>\n",
       "      <td>2136364.57</td>\n",
       "    </tr>\n",
       "    <tr>\n",
       "      <th>362</th>\n",
       "      <td>2023-07-28</td>\n",
       "      <td>1509426.89</td>\n",
       "      <td>634531.07</td>\n",
       "      <td>2143957.96</td>\n",
       "    </tr>\n",
       "    <tr>\n",
       "      <th>363</th>\n",
       "      <td>2023-07-29</td>\n",
       "      <td>1357027.59</td>\n",
       "      <td>566700.95</td>\n",
       "      <td>1923728.54</td>\n",
       "    </tr>\n",
       "    <tr>\n",
       "      <th>364</th>\n",
       "      <td>2023-07-30</td>\n",
       "      <td>1545718.81</td>\n",
       "      <td>541945.63</td>\n",
       "      <td>2087664.44</td>\n",
       "    </tr>\n",
       "    <tr>\n",
       "      <th>365</th>\n",
       "      <td>2023-07-31</td>\n",
       "      <td>1352356.61</td>\n",
       "      <td>506974.84</td>\n",
       "      <td>1859331.45</td>\n",
       "    </tr>\n",
       "  </tbody>\n",
       "</table>\n",
       "<p>366 rows × 4 columns</p>\n",
       "</div>"
      ],
      "text/plain": [
       "    FlightDate  DailyBaseRevenue  DailyAncillaryRevenue       Total\n",
       "0   2022-07-31        1563392.70              732167.89  2295560.59\n",
       "1   2022-08-01        1875110.19              735743.09  2610853.28\n",
       "2   2022-08-02        1401295.00              655608.04  2056903.04\n",
       "3   2022-08-03        1433307.82              657460.27  2090768.09\n",
       "4   2022-08-04        1213723.53              633084.74  1846808.26\n",
       "..         ...               ...                    ...         ...\n",
       "361 2023-07-27        1287112.40              849252.17  2136364.57\n",
       "362 2023-07-28        1509426.89              634531.07  2143957.96\n",
       "363 2023-07-29        1357027.59              566700.95  1923728.54\n",
       "364 2023-07-30        1545718.81              541945.63  2087664.44\n",
       "365 2023-07-31        1352356.61              506974.84  1859331.45\n",
       "\n",
       "[366 rows x 4 columns]"
      ]
     },
     "execution_count": 50,
     "metadata": {},
     "output_type": "execute_result"
    }
   ],
   "source": [
    "report_df"
   ]
  },
  {
   "cell_type": "markdown",
   "id": "72f05fe9",
   "metadata": {},
   "source": [
    "# Compare two dataframes"
   ]
  },
  {
   "cell_type": "code",
   "execution_count": 61,
   "id": "7260879d",
   "metadata": {},
   "outputs": [],
   "source": [
    "set_snowflake = set(map(tuple, snowflake_pd_df.to_numpy()))\n",
    "set_report = set(map(tuple, report_df.to_numpy()))\n",
    "common_rows = set_snowflake.intersection(set_report)"
   ]
  },
  {
   "cell_type": "code",
   "execution_count": 62,
   "id": "b0885d36",
   "metadata": {},
   "outputs": [],
   "source": [
    "in_both_df = snowflake_pd_df[snowflake_pd_df.apply(tuple, axis=1).isin(common_rows)]\n",
    "only_in_snowflake_df = snowflake_pd_df[~snowflake_pd_df.apply(tuple, axis=1).isin(common_rows)]\n",
    "only_in_report_df = report_df[~report_df.apply(tuple, axis=1).isin(common_rows)]\n"
   ]
  },
  {
   "cell_type": "code",
   "execution_count": 63,
   "id": "4a4c8213",
   "metadata": {},
   "outputs": [
    {
     "data": {
      "text/html": [
       "<div>\n",
       "<style scoped>\n",
       "    .dataframe tbody tr th:only-of-type {\n",
       "        vertical-align: middle;\n",
       "    }\n",
       "\n",
       "    .dataframe tbody tr th {\n",
       "        vertical-align: top;\n",
       "    }\n",
       "\n",
       "    .dataframe thead th {\n",
       "        text-align: right;\n",
       "    }\n",
       "</style>\n",
       "<table border=\"1\" class=\"dataframe\">\n",
       "  <thead>\n",
       "    <tr style=\"text-align: right;\">\n",
       "      <th></th>\n",
       "      <th>Flight Date</th>\n",
       "      <th>Daily Base Revenue</th>\n",
       "      <th>Daily Ancillary Revenue</th>\n",
       "      <th>Total</th>\n",
       "    </tr>\n",
       "  </thead>\n",
       "  <tbody>\n",
       "  </tbody>\n",
       "</table>\n",
       "</div>"
      ],
      "text/plain": [
       "Empty DataFrame\n",
       "Columns: [Flight Date, Daily Base Revenue, Daily Ancillary Revenue, Total]\n",
       "Index: []"
      ]
     },
     "execution_count": 63,
     "metadata": {},
     "output_type": "execute_result"
    }
   ],
   "source": [
    "in_both_df"
   ]
  },
  {
   "cell_type": "markdown",
   "id": "ca291f20",
   "metadata": {},
   "source": [
    "# Accuracy and output the difference file"
   ]
  },
  {
   "cell_type": "code",
   "execution_count": 820,
   "id": "191609cb",
   "metadata": {},
   "outputs": [
    {
     "name": "stdout",
     "output_type": "stream",
     "text": [
      "accuracy is:  85.75791485988717\n"
     ]
    }
   ],
   "source": [
    "print(\"accuracy is: \",(len(in_both_df)/len(report_df))* 100)"
   ]
  },
  {
   "cell_type": "code",
   "execution_count": 823,
   "id": "bfac25f7",
   "metadata": {},
   "outputs": [],
   "source": [
    "try:\n",
    "    only_in_snowflake_df.to_csv(\"snowflake_only_record.csv\", index=False) \n",
    "except:\n",
    "    print(\"No snowflake only records\")\n",
    "try:\n",
    "    only_in_report_df.to_csv(\"report_only_record.csv\", index=False) \n",
    "except:\n",
    "    print(\"No report only records\")"
   ]
  },
  {
   "cell_type": "code",
   "execution_count": null,
   "id": "e547d267",
   "metadata": {},
   "outputs": [],
   "source": []
  },
  {
   "cell_type": "code",
   "execution_count": null,
   "id": "419a07f4",
   "metadata": {},
   "outputs": [],
   "source": []
  },
  {
   "cell_type": "code",
   "execution_count": 665,
   "id": "fb597347",
   "metadata": {},
   "outputs": [],
   "source": [
    "merged = snowflake_pd_df.merge(report_df, how = 'outer', indicator = True)\n",
    "snowflake_only = merged[merged['_merge'] == \"left_only\"]\n",
    "common = merged[merged['_merge'] == \"both\"]\n",
    "report_only = merged[merged['_merge'] == \"right_only\"]"
   ]
  },
  {
   "cell_type": "code",
   "execution_count": 666,
   "id": "acf54069",
   "metadata": {},
   "outputs": [
    {
     "data": {
      "text/html": [
       "<div>\n",
       "<style scoped>\n",
       "    .dataframe tbody tr th:only-of-type {\n",
       "        vertical-align: middle;\n",
       "    }\n",
       "\n",
       "    .dataframe tbody tr th {\n",
       "        vertical-align: top;\n",
       "    }\n",
       "\n",
       "    .dataframe thead th {\n",
       "        text-align: right;\n",
       "    }\n",
       "</style>\n",
       "<table border=\"1\" class=\"dataframe\">\n",
       "  <thead>\n",
       "    <tr style=\"text-align: right;\">\n",
       "      <th></th>\n",
       "      <th>Flight Date</th>\n",
       "      <th>Reservation Nmbr</th>\n",
       "      <th>Sked Detail Id Nmbr</th>\n",
       "      <th>Departure</th>\n",
       "      <th>Arrival</th>\n",
       "      <th>Legs Id Nmbr</th>\n",
       "      <th>Charge Type</th>\n",
       "      <th>Net Charge</th>\n",
       "      <th>Taxes</th>\n",
       "      <th>Total Charge</th>\n",
       "      <th>...</th>\n",
       "      <th>Currency Ident</th>\n",
       "      <th>Agency Name</th>\n",
       "      <th>Sales Username</th>\n",
       "      <th>Transborder</th>\n",
       "      <th>Category</th>\n",
       "      <th>Ancillary Category</th>\n",
       "      <th>Purchase Cnt</th>\n",
       "      <th>Classification</th>\n",
       "      <th>Channel</th>\n",
       "      <th>_merge</th>\n",
       "    </tr>\n",
       "  </thead>\n",
       "  <tbody>\n",
       "  </tbody>\n",
       "</table>\n",
       "<p>0 rows × 28 columns</p>\n",
       "</div>"
      ],
      "text/plain": [
       "Empty DataFrame\n",
       "Columns: [Flight Date, Reservation Nmbr, Sked Detail Id Nmbr, Departure, Arrival, Legs Id Nmbr, Charge Type, Net Charge, Taxes, Total Charge, Charge Type Desc, Flight Nmbr, Charges Desc, User Id Nmbr, Leg Nmbr, Segments Id Nmbr, Agency Id Nmbr, Reference, Currency Ident, Agency Name, Sales Username, Transborder, Category, Ancillary Category, Purchase Cnt, Classification, Channel, _merge]\n",
       "Index: []\n",
       "\n",
       "[0 rows x 28 columns]"
      ]
     },
     "execution_count": 666,
     "metadata": {},
     "output_type": "execute_result"
    }
   ],
   "source": [
    "common"
   ]
  },
  {
   "cell_type": "code",
   "execution_count": 542,
   "id": "8761b75e",
   "metadata": {},
   "outputs": [],
   "source": [
    "#str(test1[\"Percent of Full Leg\"]) == str(test2[\"Percent of Full Leg\"])"
   ]
  },
  {
   "cell_type": "code",
   "execution_count": 643,
   "id": "8ad61759",
   "metadata": {},
   "outputs": [],
   "source": [
    "def calculate_accuracy(df1, df2):\n",
    "    merged = df1.merge(df2, how = 'outer', indicator = True)\n",
    "    matched = merged[merged['_merge'] == \"both\"]\n",
    "\n",
    "    # Calculate the total number of elements\n",
    "    total_elements = len(df2)\n",
    "\n",
    "    # Calculate accuracy as a percentage\n",
    "    accuracy = (len(matched) / total_elements) * 100\n",
    "\n",
    "    return accuracy\n"
   ]
  },
  {
   "cell_type": "code",
   "execution_count": 644,
   "id": "92cea7e6",
   "metadata": {},
   "outputs": [
    {
     "name": "stdout",
     "output_type": "stream",
     "text": [
      "Accuracy: 67.77%\n"
     ]
    }
   ],
   "source": [
    "accuracy_percentage = calculate_accuracy(snowflake_pd_df, report_df)\n",
    "print(f\"Accuracy: {accuracy_percentage:.2f}%\")"
   ]
  },
  {
   "cell_type": "markdown",
   "id": "10d27906",
   "metadata": {},
   "source": [
    "# Output the difference file"
   ]
  },
  {
   "cell_type": "code",
   "execution_count": 545,
   "id": "62792626",
   "metadata": {},
   "outputs": [],
   "source": [
    "try:\n",
    "    snowflake_only.to_csv(\"snowflake_only_record.csv\", index=False) \n",
    "except:\n",
    "    print(\"No snowflake only records\")\n",
    "try:\n",
    "    report_only.to_csv(\"report_only_record.csv\", index=False) \n",
    "except:\n",
    "    print(\"No report only records\")"
   ]
  },
  {
   "cell_type": "code",
   "execution_count": null,
   "id": "80343a0b",
   "metadata": {},
   "outputs": [],
   "source": []
  }
 ],
 "metadata": {
  "kernelspec": {
   "display_name": "Python 3 (ipykernel)",
   "language": "python",
   "name": "python3"
  },
  "language_info": {
   "codemirror_mode": {
    "name": "ipython",
    "version": 3
   },
   "file_extension": ".py",
   "mimetype": "text/x-python",
   "name": "python",
   "nbconvert_exporter": "python",
   "pygments_lexer": "ipython3",
   "version": "3.8.17"
  }
 },
 "nbformat": 4,
 "nbformat_minor": 5
}
