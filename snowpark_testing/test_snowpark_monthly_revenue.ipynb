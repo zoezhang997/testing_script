{
 "cells": [
  {
   "cell_type": "code",
   "execution_count": 1,
   "id": "0a879853",
   "metadata": {},
   "outputs": [],
   "source": [
    "from snowflake.snowpark.session import Session\n",
    "from snowflake.snowpark.types import *\n",
    "from snowflake.snowpark.functions import col, lit\n",
    "import getpass\n",
    "import pandas as pd\n",
    "import json\n",
    "from get_secret import get_secret\n",
    "from datetime import datetime\n",
    "import snowflake.snowpark.functions as F"
   ]
  },
  {
   "cell_type": "code",
   "execution_count": 2,
   "id": "d3693af2",
   "metadata": {},
   "outputs": [],
   "source": [
    "connection_parameters = json.loads(get_secret())\n",
    "connection_parameters.update({'warehouse':'COMPUTE_WH', 'database':'ANALYTICS_PROD','schema': 'IOATAWARE',\"loglevel\":'DEBUG'})\n",
    "session = Session.builder.configs(connection_parameters).create()"
   ]
  },
  {
   "cell_type": "code",
   "execution_count": 3,
   "id": "486af731",
   "metadata": {},
   "outputs": [
    {
     "name": "stdout",
     "output_type": "stream",
     "text": [
      "Current Database and schema: \"ANALYTICS_PROD\".\"IOATAWARE\"\n",
      "Current Warehouse: \"COMPUTE_WH\"\n"
     ]
    }
   ],
   "source": [
    "print(f\"Current Database and schema: {session.get_fully_qualified_current_schema()}\")\n",
    "print(f\"Current Warehouse: {session.get_current_warehouse()}\")"
   ]
  },
  {
   "cell_type": "markdown",
   "id": "2d67dcc2",
   "metadata": {},
   "source": [
    "# Import and clean snowflake views"
   ]
  },
  {
   "cell_type": "code",
   "execution_count": 7,
   "id": "91f41bed",
   "metadata": {},
   "outputs": [],
   "source": [
    "view_name = \"VW_MONTHLY_REVENUE\""
   ]
  },
  {
   "cell_type": "code",
   "execution_count": 8,
   "id": "b3160ace",
   "metadata": {},
   "outputs": [],
   "source": [
    "snowpark_df = session.table(view_name)"
   ]
  },
  {
   "cell_type": "code",
   "execution_count": 9,
   "id": "7ebdd7b4",
   "metadata": {},
   "outputs": [],
   "source": [
    "snowflake_pd_df = snowpark_df.to_pandas()"
   ]
  },
  {
   "cell_type": "code",
   "execution_count": 10,
   "id": "355b3127",
   "metadata": {},
   "outputs": [],
   "source": [
    "snowflake_pd_df['Flight Date'] = pd.to_datetime(snowflake_pd_df['Flight Date'])\n",
    "snowflake_pd_df['Daily Base Revenue'] = snowflake_pd_df['Daily Base Revenue'].astype(float)\n",
    "snowflake_pd_df['Daily Ancillary Revenue'] = snowflake_pd_df['Daily Ancillary Revenue'].astype(float)\n",
    "snowflake_pd_df['Total'] = snowflake_pd_df['Total'].astype(float)"
   ]
  },
  {
   "cell_type": "code",
   "execution_count": 12,
   "id": "ec80be46",
   "metadata": {},
   "outputs": [],
   "source": [
    "start_date = '2022-07-31'\n",
    "end_date = '2023-07-31'\n",
    "mask  = (snowflake_pd_df['Flight Date'] > start_date) & (snowflake_pd_df['Flight Date'] <= end_date)\n",
    "snowflake_pd_df1 = snowflake_pd_df.loc[mask]"
   ]
  },
  {
   "cell_type": "code",
   "execution_count": 17,
   "id": "5c4ce7b2",
   "metadata": {},
   "outputs": [
    {
     "data": {
      "text/html": [
       "<div>\n",
       "<style scoped>\n",
       "    .dataframe tbody tr th:only-of-type {\n",
       "        vertical-align: middle;\n",
       "    }\n",
       "\n",
       "    .dataframe tbody tr th {\n",
       "        vertical-align: top;\n",
       "    }\n",
       "\n",
       "    .dataframe thead th {\n",
       "        text-align: right;\n",
       "    }\n",
       "</style>\n",
       "<table border=\"1\" class=\"dataframe\">\n",
       "  <thead>\n",
       "    <tr style=\"text-align: right;\">\n",
       "      <th></th>\n",
       "      <th>Flight Date</th>\n",
       "      <th>Daily Base Revenue</th>\n",
       "      <th>Daily Ancillary Revenue</th>\n",
       "      <th>Total</th>\n",
       "    </tr>\n",
       "  </thead>\n",
       "  <tbody>\n",
       "    <tr>\n",
       "      <th>1089</th>\n",
       "      <td>2023-05-01</td>\n",
       "      <td>732975.53</td>\n",
       "      <td>555411.12</td>\n",
       "      <td>1288386.65</td>\n",
       "    </tr>\n",
       "  </tbody>\n",
       "</table>\n",
       "</div>"
      ],
      "text/plain": [
       "     Flight Date  Daily Base Revenue  Daily Ancillary Revenue       Total\n",
       "1089  2023-05-01           732975.53                555411.12  1288386.65"
      ]
     },
     "execution_count": 17,
     "metadata": {},
     "output_type": "execute_result"
    }
   ],
   "source": [
    "snowflake_pd_df1[snowflake_pd_df1[\"Flight Date\"] == \"2023-05-01\t\"]"
   ]
  },
  {
   "cell_type": "code",
   "execution_count": 18,
   "id": "9150db08",
   "metadata": {},
   "outputs": [
    {
     "data": {
      "text/html": [
       "<div>\n",
       "<style scoped>\n",
       "    .dataframe tbody tr th:only-of-type {\n",
       "        vertical-align: middle;\n",
       "    }\n",
       "\n",
       "    .dataframe tbody tr th {\n",
       "        vertical-align: top;\n",
       "    }\n",
       "\n",
       "    .dataframe thead th {\n",
       "        text-align: right;\n",
       "    }\n",
       "</style>\n",
       "<table border=\"1\" class=\"dataframe\">\n",
       "  <thead>\n",
       "    <tr style=\"text-align: right;\">\n",
       "      <th></th>\n",
       "      <th>FlightDate</th>\n",
       "      <th>DailyBaseRevenue</th>\n",
       "      <th>DailyAncillaryRevenue</th>\n",
       "      <th>Total</th>\n",
       "    </tr>\n",
       "  </thead>\n",
       "  <tbody>\n",
       "    <tr>\n",
       "      <th>274</th>\n",
       "      <td>2023-05-01</td>\n",
       "      <td>727066.95</td>\n",
       "      <td>722803.74</td>\n",
       "      <td>1449870.69</td>\n",
       "    </tr>\n",
       "  </tbody>\n",
       "</table>\n",
       "</div>"
      ],
      "text/plain": [
       "    FlightDate  DailyBaseRevenue  DailyAncillaryRevenue       Total\n",
       "274 2023-05-01         727066.95              722803.74  1449870.69"
      ]
     },
     "execution_count": 18,
     "metadata": {},
     "output_type": "execute_result"
    }
   ],
   "source": [
    "report_df[report_df[\"FlightDate\"] == \"2023-05-01\"]"
   ]
  },
  {
   "cell_type": "code",
   "execution_count": 24,
   "id": "eb90edde",
   "metadata": {},
   "outputs": [
    {
     "data": {
      "text/html": [
       "<div>\n",
       "<style scoped>\n",
       "    .dataframe tbody tr th:only-of-type {\n",
       "        vertical-align: middle;\n",
       "    }\n",
       "\n",
       "    .dataframe tbody tr th {\n",
       "        vertical-align: top;\n",
       "    }\n",
       "\n",
       "    .dataframe thead th {\n",
       "        text-align: right;\n",
       "    }\n",
       "</style>\n",
       "<table border=\"1\" class=\"dataframe\">\n",
       "  <thead>\n",
       "    <tr style=\"text-align: right;\">\n",
       "      <th></th>\n",
       "      <th>Flight Date</th>\n",
       "      <th>Daily Base Revenue</th>\n",
       "      <th>Daily Ancillary Revenue</th>\n",
       "      <th>Total</th>\n",
       "    </tr>\n",
       "  </thead>\n",
       "  <tbody>\n",
       "    <tr>\n",
       "      <th>8</th>\n",
       "      <td>2023-07-19</td>\n",
       "      <td>1131266.45</td>\n",
       "      <td>632493.4</td>\n",
       "      <td>1763759.85</td>\n",
       "    </tr>\n",
       "  </tbody>\n",
       "</table>\n",
       "</div>"
      ],
      "text/plain": [
       "  Flight Date  Daily Base Revenue  Daily Ancillary Revenue       Total\n",
       "8  2023-07-19          1131266.45                 632493.4  1763759.85"
      ]
     },
     "execution_count": 24,
     "metadata": {},
     "output_type": "execute_result"
    }
   ],
   "source": [
    "snowflake_pd_df1[snowflake_pd_df1[\"Flight Date\"] == \"2023-07-19\t\"]"
   ]
  },
  {
   "cell_type": "code",
   "execution_count": 25,
   "id": "6e497e4d",
   "metadata": {},
   "outputs": [
    {
     "data": {
      "text/html": [
       "<div>\n",
       "<style scoped>\n",
       "    .dataframe tbody tr th:only-of-type {\n",
       "        vertical-align: middle;\n",
       "    }\n",
       "\n",
       "    .dataframe tbody tr th {\n",
       "        vertical-align: top;\n",
       "    }\n",
       "\n",
       "    .dataframe thead th {\n",
       "        text-align: right;\n",
       "    }\n",
       "</style>\n",
       "<table border=\"1\" class=\"dataframe\">\n",
       "  <thead>\n",
       "    <tr style=\"text-align: right;\">\n",
       "      <th></th>\n",
       "      <th>FlightDate</th>\n",
       "      <th>DailyBaseRevenue</th>\n",
       "      <th>DailyAncillaryRevenue</th>\n",
       "      <th>Total</th>\n",
       "    </tr>\n",
       "  </thead>\n",
       "  <tbody>\n",
       "    <tr>\n",
       "      <th>353</th>\n",
       "      <td>2023-07-19</td>\n",
       "      <td>1105147.37</td>\n",
       "      <td>809052.79</td>\n",
       "      <td>1914200.16</td>\n",
       "    </tr>\n",
       "  </tbody>\n",
       "</table>\n",
       "</div>"
      ],
      "text/plain": [
       "    FlightDate  DailyBaseRevenue  DailyAncillaryRevenue       Total\n",
       "353 2023-07-19        1105147.37              809052.79  1914200.16"
      ]
     },
     "execution_count": 25,
     "metadata": {},
     "output_type": "execute_result"
    }
   ],
   "source": [
    "report_df[report_df[\"FlightDate\"] == \"2023-07-19\"]"
   ]
  },
  {
   "cell_type": "code",
   "execution_count": null,
   "id": "d1ab6f08",
   "metadata": {},
   "outputs": [],
   "source": [
    "#Remove the column we are not testing for now"
   ]
  },
  {
   "cell_type": "markdown",
   "id": "0040d98b",
   "metadata": {},
   "source": [
    "# Import and clean report data"
   ]
  },
  {
   "cell_type": "code",
   "execution_count": 21,
   "id": "a1d27d5e",
   "metadata": {},
   "outputs": [],
   "source": [
    "report_df = pd.read_csv('MonthlyRevenue/Monthly_Revenue_Summary.csv', skiprows=0)   "
   ]
  },
  {
   "cell_type": "code",
   "execution_count": 22,
   "id": "c4e70c42",
   "metadata": {},
   "outputs": [],
   "source": [
    "report_df['DailyBaseRevenue'] = report_df['DailyBaseRevenue'].str.replace('$', '')\n",
    "report_df['DailyBaseRevenue'] = report_df['DailyBaseRevenue'].str.replace(',', '')\n",
    "report_df['DailyAncillaryRevenue'] = report_df['DailyAncillaryRevenue'].str.replace('$', '')\n",
    "report_df['DailyAncillaryRevenue'] = report_df['DailyAncillaryRevenue'].str.replace(',', '')\n",
    "report_df['Total'] = report_df['Total'].str.replace('$', '')\n",
    "report_df['Total'] = report_df['Total'].str.replace(',', '')"
   ]
  },
  {
   "cell_type": "code",
   "execution_count": 23,
   "id": "dd96de36",
   "metadata": {},
   "outputs": [],
   "source": [
    "report_df['FlightDate'] = pd.to_datetime(report_df['FlightDate'])\n",
    "report_df['DailyBaseRevenue'] = report_df['DailyBaseRevenue'].astype(float)\n",
    "report_df['DailyAncillaryRevenue'] = report_df['DailyAncillaryRevenue'].astype(float)\n",
    "report_df['Total'] = report_df['Total'].astype(float)"
   ]
  },
  {
   "cell_type": "markdown",
   "id": "72f05fe9",
   "metadata": {},
   "source": [
    "# Compare two dataframes"
   ]
  },
  {
   "cell_type": "code",
   "execution_count": null,
   "id": "7260879d",
   "metadata": {},
   "outputs": [],
   "source": [
    "set_snowflake = set(map(tuple, snowflake_pd_df.to_numpy()))\n",
    "set_report = set(map(tuple, report_df.to_numpy()))\n",
    "common_rows = set_snowflake.intersection(set_report)"
   ]
  },
  {
   "cell_type": "code",
   "execution_count": null,
   "id": "b0885d36",
   "metadata": {},
   "outputs": [],
   "source": [
    "in_both_df = snowflake_pd_df[snowflake_pd_df.apply(tuple, axis=1).isin(common_rows)]\n",
    "only_in_snowflake_df = snowflake_pd_df[~snowflake_pd_df.apply(tuple, axis=1).isin(common_rows)]\n",
    "only_in_report_df = report_df[~report_df.apply(tuple, axis=1).isin(common_rows)]\n"
   ]
  },
  {
   "cell_type": "code",
   "execution_count": null,
   "id": "4a4c8213",
   "metadata": {},
   "outputs": [],
   "source": [
    "in_both_df"
   ]
  },
  {
   "cell_type": "markdown",
   "id": "ca291f20",
   "metadata": {},
   "source": [
    "# Accuracy and output the difference file"
   ]
  },
  {
   "cell_type": "code",
   "execution_count": null,
   "id": "191609cb",
   "metadata": {},
   "outputs": [],
   "source": [
    "print(\"accuracy is: \",(len(in_both_df)/len(report_df))* 100)"
   ]
  },
  {
   "cell_type": "code",
   "execution_count": null,
   "id": "bfac25f7",
   "metadata": {},
   "outputs": [],
   "source": [
    "try:\n",
    "    only_in_snowflake_df.to_csv(\"snowflake_only_record.csv\", index=False) \n",
    "except:\n",
    "    print(\"No snowflake only records\")\n",
    "try:\n",
    "    only_in_report_df.to_csv(\"report_only_record.csv\", index=False) \n",
    "except:\n",
    "    print(\"No report only records\")"
   ]
  }
 ],
 "metadata": {
  "kernelspec": {
   "display_name": "Python 3 (ipykernel)",
   "language": "python",
   "name": "python3"
  },
  "language_info": {
   "codemirror_mode": {
    "name": "ipython",
    "version": 3
   },
   "file_extension": ".py",
   "mimetype": "text/x-python",
   "name": "python",
   "nbconvert_exporter": "python",
   "pygments_lexer": "ipython3",
   "version": "3.8.17"
  }
 },
 "nbformat": 4,
 "nbformat_minor": 5
}
