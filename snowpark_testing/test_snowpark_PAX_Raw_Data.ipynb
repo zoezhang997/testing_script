{
 "cells": [
  {
   "cell_type": "markdown",
   "id": "edbf9cc9",
   "metadata": {},
   "source": [
    "Column removed: \n",
    "['str User Logon Name','Sales Date']\n",
    "\n",
    "Column is not matched:\n",
    "'StrIndex','str_First_Name','str_Last_Name','PAX_Rev','BookedPAX','ValidPAX','Airport_CheckedIn'"
   ]
  },
  {
   "cell_type": "code",
   "execution_count": 11,
   "id": "094a3578",
   "metadata": {},
   "outputs": [],
   "source": [
    "from helpfile import *"
   ]
  },
  {
   "cell_type": "markdown",
   "id": "2d67dcc2",
   "metadata": {},
   "source": [
    "# Import and clean snowflake views"
   ]
  },
  {
   "cell_type": "code",
   "execution_count": 2,
   "id": "b3baad24",
   "metadata": {},
   "outputs": [],
   "source": [
    "query = \"\"\"select * from ANALYTICS_PROD.IOATAWARE.VW_PAX_RAW_DATA where \\\"Flight Date\\\" ='08/01/2023' \n",
    "    \"\"\"\n",
    "snowflake_pd_df = get_data(query)"
   ]
  },
  {
   "cell_type": "code",
   "execution_count": 3,
   "id": "341838fc",
   "metadata": {},
   "outputs": [
    {
     "name": "stderr",
     "output_type": "stream",
     "text": [
      "C:\\Users\\Ruiying.Zhang\\AppData\\Local\\Temp\\ipykernel_106264\\619146900.py:13: UserWarning: Could not infer format, so each element will be parsed individually, falling back to `dateutil`. To ensure parsing is consistent and as-expected, please specify a format.\n",
      "  snowflake_pd_df['dtm Local Dep Date'] = pd.to_datetime(snowflake_pd_df['dtm Local Dep Date'])\n",
      "C:\\Users\\Ruiying.Zhang\\AppData\\Local\\Temp\\ipykernel_106264\\619146900.py:14: UserWarning: Could not infer format, so each element will be parsed individually, falling back to `dateutil`. To ensure parsing is consistent and as-expected, please specify a format.\n",
      "  snowflake_pd_df['dtm Sked Local Dep Date'] = pd.to_datetime(snowflake_pd_df['dtm Sked Local Dep Date'])\n",
      "C:\\Users\\Ruiying.Zhang\\AppData\\Local\\Temp\\ipykernel_106264\\619146900.py:15: UserWarning: Could not infer format, so each element will be parsed individually, falling back to `dateutil`. To ensure parsing is consistent and as-expected, please specify a format.\n",
      "  snowflake_pd_df['dtm DOB Date'] = pd.to_datetime(snowflake_pd_df['dtm DOB Date'])\n",
      "C:\\Users\\Ruiying.Zhang\\AppData\\Local\\Temp\\ipykernel_106264\\619146900.py:18: UserWarning: Could not infer format, so each element will be parsed individually, falling back to `dateutil`. To ensure parsing is consistent and as-expected, please specify a format.\n",
      "  snowflake_pd_df['dtm Boarding Time'] = pd.to_datetime(snowflake_pd_df['dtm Boarding Time'])\n",
      "C:\\Users\\Ruiying.Zhang\\AppData\\Local\\Temp\\ipykernel_106264\\619146900.py:19: UserWarning: Could not infer format, so each element will be parsed individually, falling back to `dateutil`. To ensure parsing is consistent and as-expected, please specify a format.\n",
      "  snowflake_pd_df['Check In Time'] = pd.to_datetime(snowflake_pd_df['Check In Time'])\n",
      "C:\\Users\\Ruiying.Zhang\\AppData\\Local\\Temp\\ipykernel_106264\\619146900.py:20: UserWarning: Could not infer format, so each element will be parsed individually, falling back to `dateutil`. To ensure parsing is consistent and as-expected, please specify a format.\n",
      "  snowflake_pd_df['Board Time'] = pd.to_datetime(snowflake_pd_df['Board Time'])\n"
     ]
    }
   ],
   "source": [
    "columns_to_remove = ['Valid PAX','str User Logon Name','Sales Date']\n",
    "snowflake_pd_df = snowflake_pd_df.drop(columns=columns_to_remove)\n",
    "\n",
    "# columns_to_process = ['Flight Date','Actual Flight Date','dtm Local Dep Dat','dtm Sked Local Dep Date','dtm DOB Date','Sales Date','dtm Last Mod Date','dtm Boarding Time','Check In Time','Board Time']\n",
    "\n",
    "# # Apply the function to specified columns in the dataframe\n",
    "# for col in columns_to_process:\n",
    "#     snowflake_pd_df[col] = snowflake_pd_df[col].apply(changetodate)\n",
    "#     print(col,\"finished\")\n",
    "    \n",
    "snowflake_pd_df['Flight Date'] = pd.to_datetime(snowflake_pd_df['Flight Date'])\n",
    "snowflake_pd_df['Actual Flight Date'] = pd.to_datetime(snowflake_pd_df['Actual Flight Date'])\n",
    "snowflake_pd_df['dtm Local Dep Date'] = pd.to_datetime(snowflake_pd_df['dtm Local Dep Date'])\n",
    "snowflake_pd_df['dtm Sked Local Dep Date'] = pd.to_datetime(snowflake_pd_df['dtm Sked Local Dep Date'])\n",
    "snowflake_pd_df['dtm DOB Date'] = pd.to_datetime(snowflake_pd_df['dtm DOB Date'])\n",
    "#snowflake_pd_df['Sales Date'] = pd.to_datetime(snowflake_pd_df['Sales Date'])\n",
    "snowflake_pd_df['dtm Last Mod Date'] = pd.to_datetime(snowflake_pd_df['dtm Last Mod Date'])\n",
    "snowflake_pd_df['dtm Boarding Time'] = pd.to_datetime(snowflake_pd_df['dtm Boarding Time'])\n",
    "snowflake_pd_df['Check In Time'] = pd.to_datetime(snowflake_pd_df['Check In Time'])\n",
    "snowflake_pd_df['Board Time'] = pd.to_datetime(snowflake_pd_df['Board Time'])\n",
    "\n",
    "snowflake_pd_df['str Flight Nmbr'].replace('', np.nan, inplace=True)\n",
    "snowflake_pd_df['str Flight Nmbr'] = snowflake_pd_df['str Flight Nmbr'].fillna(0)\n",
    "snowflake_pd_df['str Flight Nmbr'] = snowflake_pd_df['str Flight Nmbr'].astype(int)\n",
    "snowflake_pd_df['str Infant Pass Sequence Number'].replace('', np.nan, inplace=True)\n",
    "snowflake_pd_df['str Infant Pass Sequence Number'] = snowflake_pd_df['str Infant Pass Sequence Number'].fillna(0)\n",
    "snowflake_pd_df['str Infant Pass Sequence Number'] = snowflake_pd_df['str Infant Pass Sequence Number'].astype(float)\n",
    "snowflake_pd_df['Time Zone Adjustment'] = snowflake_pd_df['Time Zone Adjustment'].astype(float)\n",
    "\n",
    "# snowflake_pd_df['str City'].replace('', np.nan, inplace=True)\n",
    "# snowflake_pd_df['str Postal Code'].replace('', np.nan, inplace=True)\n",
    "\n",
    "snowflake_pd_df['str Special Needs'].replace('', np.nan, inplace=True)\n",
    "snowflake_pd_df['str Special Needs'] = snowflake_pd_df['str Special Needs'].fillna(0)\n",
    "snowflake_pd_df['str Special Needs'] = snowflake_pd_df['str Special Needs'].astype(float)"
   ]
  },
  {
   "cell_type": "code",
   "execution_count": 4,
   "id": "cd211de3",
   "metadata": {},
   "outputs": [],
   "source": [
    "# for col in snowflake_pd_df.columns:\n",
    "#     print(f\"{col}: {snowflake_pd_df[col].dtype}\")\n",
    "    "
   ]
  },
  {
   "cell_type": "markdown",
   "id": "0040d98b",
   "metadata": {},
   "source": [
    "# Import and clean report data"
   ]
  },
  {
   "cell_type": "code",
   "execution_count": 5,
   "id": "a1d27d5e",
   "metadata": {},
   "outputs": [
    {
     "name": "stderr",
     "output_type": "stream",
     "text": [
      "C:\\Users\\Ruiying.Zhang\\AppData\\Local\\Temp\\ipykernel_106264\\3231810684.py:1: DtypeWarning: Columns (46,47) have mixed types. Specify dtype option on import or set low_memory=False.\n",
      "  report_df = pd.read_csv('Pax_Raw_Data/PAX_Raw_Data_0801.csv', skiprows=0)\n"
     ]
    }
   ],
   "source": [
    "report_df = pd.read_csv('Pax_Raw_Data/PAX_Raw_Data_0801.csv', skiprows=0)   "
   ]
  },
  {
   "cell_type": "code",
   "execution_count": 6,
   "id": "5bcde455",
   "metadata": {},
   "outputs": [],
   "source": [
    "columns_to_remove = ['ValidPAX','str_GeneralNumber1','SalesDate','str_GeneralNumber2',\n",
    "                     'str_Addr1','str_Addr2','str_User_Logon_Name']\n",
    "report_df = report_df.drop(columns=columns_to_remove)"
   ]
  },
  {
   "cell_type": "code",
   "execution_count": 7,
   "id": "c2329ccc",
   "metadata": {},
   "outputs": [
    {
     "name": "stderr",
     "output_type": "stream",
     "text": [
      "C:\\Users\\Ruiying.Zhang\\AppData\\Local\\Temp\\ipykernel_106264\\2508785233.py:3: UserWarning: Could not infer format, so each element will be parsed individually, falling back to `dateutil`. To ensure parsing is consistent and as-expected, please specify a format.\n",
      "  report_df['dtm_Local_Dep_Date'] = pd.to_datetime(report_df['dtm_Local_Dep_Date'])\n",
      "C:\\Users\\Ruiying.Zhang\\AppData\\Local\\Temp\\ipykernel_106264\\2508785233.py:4: UserWarning: Could not infer format, so each element will be parsed individually, falling back to `dateutil`. To ensure parsing is consistent and as-expected, please specify a format.\n",
      "  report_df['dtm_Sked_Local_Dep_Date'] = pd.to_datetime(report_df['dtm_Sked_Local_Dep_Date'])\n",
      "C:\\Users\\Ruiying.Zhang\\AppData\\Local\\Temp\\ipykernel_106264\\2508785233.py:5: UserWarning: Could not infer format, so each element will be parsed individually, falling back to `dateutil`. To ensure parsing is consistent and as-expected, please specify a format.\n",
      "  report_df['dtm_DOB_Date'] = pd.to_datetime(report_df['dtm_DOB_Date'])\n",
      "C:\\Users\\Ruiying.Zhang\\AppData\\Local\\Temp\\ipykernel_106264\\2508785233.py:8: UserWarning: Could not infer format, so each element will be parsed individually, falling back to `dateutil`. To ensure parsing is consistent and as-expected, please specify a format.\n",
      "  report_df['dtm_Boarding_Time'] = pd.to_datetime(report_df['dtm_Boarding_Time'])\n"
     ]
    }
   ],
   "source": [
    "report_df['FlightDate'] = pd.to_datetime(report_df['FlightDate'])\n",
    "report_df['ActualFlightDate'] = pd.to_datetime(report_df['ActualFlightDate'])\n",
    "report_df['dtm_Local_Dep_Date'] = pd.to_datetime(report_df['dtm_Local_Dep_Date'])\n",
    "report_df['dtm_Sked_Local_Dep_Date'] = pd.to_datetime(report_df['dtm_Sked_Local_Dep_Date'])\n",
    "report_df['dtm_DOB_Date'] = pd.to_datetime(report_df['dtm_DOB_Date'])\n",
    "#report_df['SalesDate'] = pd.to_datetime(report_df['SalesDate'])\n",
    "report_df['dtm_Last_Mod_Date'] = pd.to_datetime(report_df['dtm_Last_Mod_Date'])\n",
    "report_df['dtm_Boarding_Time'] = pd.to_datetime(report_df['dtm_Boarding_Time'])\n",
    "report_df['CheckInTime'] = pd.to_datetime(report_df['CheckInTime'])\n",
    "report_df['BoardTime'] = pd.to_datetime(report_df['BoardTime'])\n",
    "\n",
    "report_df['str_Infant_Pass_Sequence_Number']= report_df['str_Infant_Pass_Sequence_Number'].fillna(0)\n",
    "report_df['str_Special_Needs']= report_df['str_Special_Needs'].fillna(0)\n",
    "\n",
    "report_df['str_City']= report_df['str_City'].fillna('')\n",
    "report_df['str_Postal_Code'] = report_df['str_Postal_Code'].fillna('')\n",
    "\n",
    "\n",
    "report_df['TimeZoneAdjustment'] = report_df['TimeZoneAdjustment'].astype(float)"
   ]
  },
  {
   "cell_type": "code",
   "execution_count": 8,
   "id": "a7ef0877",
   "metadata": {},
   "outputs": [],
   "source": [
    "# for col in report_df.columns:\n",
    "#     print(f\"{col}: {report_df[col].dtype}\")\n",
    "    "
   ]
  },
  {
   "cell_type": "markdown",
   "id": "72f05fe9",
   "metadata": {},
   "source": [
    "# Compare two dataframes"
   ]
  },
  {
   "cell_type": "code",
   "execution_count": 10,
   "id": "691c6edd",
   "metadata": {},
   "outputs": [],
   "source": [
    "snowflake_pd_df.columns = report_df.columns"
   ]
  },
  {
   "cell_type": "code",
   "execution_count": 11,
   "id": "9f9d0783",
   "metadata": {},
   "outputs": [],
   "source": [
    "snowflake_pd_df =snowflake_pd_df.fillna('')\n",
    "report_df =report_df.fillna('')"
   ]
  },
  {
   "cell_type": "code",
   "execution_count": 22,
   "id": "dc8e9d3c",
   "metadata": {},
   "outputs": [
    {
     "data": {
      "text/plain": [
       "Index(['lng Reservation Nmbr', 'lng Sked Detail Id Nmbr', 'Str Index',\n",
       "       'Flight Date', 'Departure', 'Actual Flight Date', 'Arrival',\n",
       "       'lng Res Legs Id Nmbr', 'dtm Local Dep Date', 'dtm Sked Local Dep Date',\n",
       "       'str First Name', 'Time Zone Adjustment', 'str Last Name',\n",
       "       'str Res Status', 'str Res Check In Boarded', 'PAXStatus',\n",
       "       'str Flight Nmbr', 'lng Pax Id Nmbr', 'NRPS', 'lng Leg Nmbr',\n",
       "       'dtm DOB Date', 'NRSA', 'lng Creation User Id Nmbr', 'str Gender',\n",
       "       'str Flight Status', 'lng Res Segments Id Nmbr', 'Connecting',\n",
       "       'lng Pax Type Codes Id Nmbr', 'No Show PAX', 'lng Agency Id Nmbr',\n",
       "       'Child', 'PAX Rev', 'PNR', 'str Agency Name', 'Booked PAX',\n",
       "       'International', 'Flown PAX', 'str Res Thru Segment',\n",
       "       'str Tail Number Identifier', 'str Boarding Pass Nmbr', 'tsp Timestamp',\n",
       "       'dtm Last Mod Date', 'str email', 'strHomeTel', 'lng Cax Num',\n",
       "       'str City', 'str Postal Code', 'str Special Needs', 'str Seat Ident',\n",
       "       'lng Last Mod User Id   Nmbr', 'Check In Agent', 'Local',\n",
       "       'dtm Boarding Time', 'str Infant Pass Sequence Number', 'Check In Time',\n",
       "       'On Plane', 'Online Checked In', 'Airport Checked In', 'Infant',\n",
       "       'str Check In Status', 'Board Time'],\n",
       "      dtype='object')"
      ]
     },
     "execution_count": 22,
     "metadata": {},
     "output_type": "execute_result"
    }
   ],
   "source": [
    "snowflake_pd_df.columns"
   ]
  },
  {
   "cell_type": "code",
   "execution_count": 23,
   "id": "4d38a1c9",
   "metadata": {},
   "outputs": [
    {
     "data": {
      "text/plain": [
       "Index(['lng_Reservation_Nmbr', 'lng_Sked_Detail_Id_Nmbr', 'StrIndex',\n",
       "       'FlightDate', 'Departure', 'ActualFlightDate', 'Arrival',\n",
       "       'lng_Res_Legs_Id_Nmbr', 'dtm_Local_Dep_Date', 'dtm_Sked_Local_Dep_Date',\n",
       "       'str_First_Name', 'TimeZoneAdjustment', 'str_Last_Name',\n",
       "       'str_Res_Status', 'str_Res_CheckIn_Boarded', 'PAXStatus',\n",
       "       'str_Flight_Nmbr', 'lng_Pax_Id_Nmbr', 'NRPS', 'lng_Leg_Nmbr',\n",
       "       'dtm_DOB_Date', 'NRSA', 'lng_Creation_User_Id_Nmbr', 'str_Gender',\n",
       "       'str_Flight_Status', 'lng_Res_Segments_Id_Nmbr', 'Connecting',\n",
       "       'lng_Pax_Type_Codes_Id_Nmbr', 'NoShowPAX', 'lng_Agency_Id_Nmbr',\n",
       "       'Child', 'PAX_Rev', 'PNR', 'str_Agency_Name', 'BookedPAX',\n",
       "       'International', 'FlownPAX', 'str_Res_Thru_Segment',\n",
       "       'str_Tail_Number_Identifier', 'str_Boarding_Pass_Nmbr', 'tsp_Timestamp',\n",
       "       'dtm_Last_Mod_Date', 'str_Email', 'str_Home_Tel', 'lng_Cax_Num',\n",
       "       'str_City', 'str_Postal_Code', 'str_Special_Needs', 'str_Seat_Ident',\n",
       "       'lng_Last_Mod_User_Id_Nmbr', 'CheckInAgent', 'Local',\n",
       "       'dtm_Boarding_Time', 'str_Infant_Pass_Sequence_Number', 'CheckInTime',\n",
       "       'OnPlane', 'Online_CheckedIn', 'Airport_CheckedIn', 'Infant',\n",
       "       'str_CheckIn_Status', 'BoardTime'],\n",
       "      dtype='object')"
      ]
     },
     "execution_count": 23,
     "metadata": {},
     "output_type": "execute_result"
    }
   ],
   "source": [
    "report_df.columns"
   ]
  },
  {
   "cell_type": "code",
   "execution_count": 9,
   "id": "88b719ba",
   "metadata": {},
   "outputs": [],
   "source": [
    "# Convert numeric columns to strings before concatenation\n",
    "report_df['key'] = report_df['lng_Reservation_Nmbr'].astype(str) + '/' + report_df['str_Flight_Nmbr'].astype(str) + '/' + report_df['lng_Res_Legs_Id_Nmbr'].astype(str)+report_df['lng_Pax_Id_Nmbr'].astype(str)\n",
    "snowflake_pd_df['key'] = snowflake_pd_df['lng Reservation Nmbr'].astype(str) + '/' + snowflake_pd_df['str Flight Nmbr'].astype(str) + '/' + snowflake_pd_df['lng Res Legs Id Nmbr'].astype(str)+snowflake_pd_df['lng Pax Id Nmbr'].astype(str)"
   ]
  },
  {
   "cell_type": "code",
   "execution_count": 14,
   "id": "adcc8a6a",
   "metadata": {},
   "outputs": [
    {
     "name": "stdout",
     "output_type": "stream",
     "text": [
      "Accuracy: 6.24% snowflake records in report\n",
      "The number of records in snowflake but not in report is 167354\n",
      "Accuracy: 58.06% report records in snowflake\n",
      "The number of records in report but not in snowflake is 6480\n"
     ]
    }
   ],
   "source": [
    "report_accuracy,snowflake_accuracy,report_only,snowflake_only = calculate_accuracy(report_df,snowflake_pd_df)\n",
    "\n",
    "print(f\"Accuracy: {snowflake_accuracy:.2f}%\" \" snowflake records in report\\nThe number of records in snowflake but not in report is\", len(snowflake_only))\n",
    "print(f\"Accuracy: {report_accuracy:.2f}%\"\" report records in snowflake\\nThe number of records in report but not in snowflake is\", len(report_only))\n"
   ]
  },
  {
   "cell_type": "code",
   "execution_count": 25,
   "id": "a3e3f855",
   "metadata": {},
   "outputs": [],
   "source": [
    "mismatch_snowflake = snowflake_only[snowflake_only['key'].isin(report_only['key'])]\n",
    "mismatch_report = report_only[report_only['key'].isin(snowflake_only['key'])]"
   ]
  },
  {
   "cell_type": "markdown",
   "id": "10d27906",
   "metadata": {},
   "source": [
    "# Output the difference file"
   ]
  },
  {
   "cell_type": "code",
   "execution_count": 26,
   "id": "62792626",
   "metadata": {},
   "outputs": [],
   "source": [
    "try:\n",
    "    snowflake_only.to_csv(\"Pax_Raw_Data/snowflake_only_record.csv\", index=False) \n",
    "except:\n",
    "    print(\"No snowflake only records\")\n",
    "try:\n",
    "    report_only.to_csv(\"Pax_Raw_Data/report_only_record.csv\", index=False) \n",
    "except:\n",
    "    print(\"No report only records\")\n",
    "    \n",
    "try:\n",
    "    mismatch_snowflake.to_csv(\"Pax_Raw_Data/mismatch_snowflake.csv\", index=False) \n",
    "except:\n",
    "    print(\"No report only records\")\n",
    "    \n",
    "try:\n",
    "    mismatch_report.to_csv(\"Pax_Raw_Data/mismatch_report.csv\", index=False) \n",
    "except:\n",
    "    print(\"No report only records\")"
   ]
  }
 ],
 "metadata": {
  "kernelspec": {
   "display_name": "Python 3 (ipykernel)",
   "language": "python",
   "name": "python3"
  },
  "language_info": {
   "codemirror_mode": {
    "name": "ipython",
    "version": 3
   },
   "file_extension": ".py",
   "mimetype": "text/x-python",
   "name": "python",
   "nbconvert_exporter": "python",
   "pygments_lexer": "ipython3",
   "version": "3.8.17"
  }
 },
 "nbformat": 4,
 "nbformat_minor": 5
}
