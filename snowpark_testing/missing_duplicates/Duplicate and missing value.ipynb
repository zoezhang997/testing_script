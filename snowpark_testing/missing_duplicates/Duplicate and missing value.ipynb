{
 "cells": [
  {
   "cell_type": "code",
   "execution_count": 1,
   "id": "0a879853",
   "metadata": {},
   "outputs": [],
   "source": [
    "from snowflake.snowpark.session import Session\n",
    "from snowflake.snowpark.types import *\n",
    "from snowflake.snowpark.functions import col, lit\n",
    "import getpass\n",
    "import pandas as pd\n",
    "import json\n",
    "from get_secret import get_secret\n",
    "from datetime import datetime\n",
    "import snowflake.snowpark.functions as F"
   ]
  },
  {
   "cell_type": "code",
   "execution_count": 2,
   "id": "d3693af2",
   "metadata": {},
   "outputs": [],
   "source": [
    "connection_parameters = json.loads(get_secret())\n",
    "connection_parameters.update({'warehouse':'COMPUTE_WH', 'database':'ANALYTICS_PROD','schema': 'IOATAWARE',\"loglevel\":'DEBUG'})\n",
    "session = Session.builder.configs(connection_parameters).create()"
   ]
  },
  {
   "cell_type": "code",
   "execution_count": 3,
   "id": "486af731",
   "metadata": {},
   "outputs": [
    {
     "name": "stdout",
     "output_type": "stream",
     "text": [
      "Current Database and schema: \"ANALYTICS_PROD\".\"IOATAWARE\"\n",
      "Current Warehouse: \"COMPUTE_WH\"\n"
     ]
    }
   ],
   "source": [
    "print(f\"Current Database and schema: {session.get_fully_qualified_current_schema()}\")\n",
    "print(f\"Current Warehouse: {session.get_current_warehouse()}\")"
   ]
  },
  {
   "cell_type": "code",
   "execution_count": 4,
   "id": "8b5f0959",
   "metadata": {},
   "outputs": [],
   "source": [
    "import warnings\n",
    "\n",
    "# Ignore all warnings\n",
    "warnings.filterwarnings('ignore', category=Warning)"
   ]
  },
  {
   "cell_type": "markdown",
   "id": "2d67dcc2",
   "metadata": {},
   "source": [
    "# For snowflake views"
   ]
  },
  {
   "cell_type": "code",
   "execution_count": 5,
   "id": "91f41bed",
   "metadata": {},
   "outputs": [],
   "source": [
    "view_name = \"VW_SALES_RAW_DATA\"\n",
    "date1 = \"07/30/2023\"\n",
    "date2 = \"07/31/2023\""
   ]
  },
  {
   "cell_type": "code",
   "execution_count": 6,
   "id": "b3160ace",
   "metadata": {},
   "outputs": [],
   "source": [
    "snowpark_df = session.table(view_name)"
   ]
  },
  {
   "cell_type": "code",
   "execution_count": 7,
   "id": "f29f3ac0",
   "metadata": {},
   "outputs": [],
   "source": [
    "snowflake_pd_df = snowpark_df.filter(F.col('Charge Date') == date1).to_pandas()\n",
    "#snowflake_pd_df2 = snowpark_df.filter(F.col('Flight Date') == flight_date2).to_pandas() "
   ]
  },
  {
   "cell_type": "code",
   "execution_count": 8,
   "id": "7fb13d24",
   "metadata": {},
   "outputs": [
    {
     "data": {
      "text/plain": [
       "97945"
      ]
     },
     "execution_count": 8,
     "metadata": {},
     "output_type": "execute_result"
    }
   ],
   "source": [
    "len(snowflake_pd_df)"
   ]
  },
  {
   "cell_type": "code",
   "execution_count": 9,
   "id": "52a92b0f",
   "metadata": {},
   "outputs": [
    {
     "name": "stdout",
     "output_type": "stream",
     "text": [
      "Exact Duplicate records percentage:  0.6197355658788095 %\n"
     ]
    }
   ],
   "source": [
    "duplicates = snowflake_pd_df[snowflake_pd_df.duplicated() == True]\n",
    "print( \"Exact Duplicate records percentage: \",(len(duplicates)/len(snowflake_pd_df))*100,\"%\")"
   ]
  },
  {
   "cell_type": "code",
   "execution_count": 10,
   "id": "e31856dd",
   "metadata": {},
   "outputs": [
    {
     "data": {
      "text/html": [
       "<div>\n",
       "<style scoped>\n",
       "    .dataframe tbody tr th:only-of-type {\n",
       "        vertical-align: middle;\n",
       "    }\n",
       "\n",
       "    .dataframe tbody tr th {\n",
       "        vertical-align: top;\n",
       "    }\n",
       "\n",
       "    .dataframe thead th {\n",
       "        text-align: right;\n",
       "    }\n",
       "</style>\n",
       "<table border=\"1\" class=\"dataframe\">\n",
       "  <thead>\n",
       "    <tr style=\"text-align: right;\">\n",
       "      <th></th>\n",
       "      <th>Charge Date</th>\n",
       "      <th>Reservation Nmbr</th>\n",
       "      <th>Sked Detail Id Nmbr</th>\n",
       "      <th>Flight Date</th>\n",
       "      <th>Flight Time</th>\n",
       "      <th>Departure</th>\n",
       "      <th>Arrival</th>\n",
       "      <th>Legs Id Nmbr</th>\n",
       "      <th>Charge Type</th>\n",
       "      <th>Net Charge</th>\n",
       "      <th>...</th>\n",
       "      <th>Sales Username</th>\n",
       "      <th>Ancillary Category</th>\n",
       "      <th>Purchase Cnt</th>\n",
       "      <th>Classification</th>\n",
       "      <th>Channel</th>\n",
       "      <th>Residency</th>\n",
       "      <th>Resident Exchange Rate</th>\n",
       "      <th>Resident Base Charge</th>\n",
       "      <th>Resident Base Discount</th>\n",
       "      <th>Resident Base Taxes</th>\n",
       "    </tr>\n",
       "  </thead>\n",
       "  <tbody>\n",
       "    <tr>\n",
       "      <th>1614</th>\n",
       "      <td>07/30/2023</td>\n",
       "      <td>7651807</td>\n",
       "      <td>107482.0</td>\n",
       "      <td>07/31/2023</td>\n",
       "      <td>17:30:00</td>\n",
       "      <td>YYC</td>\n",
       "      <td>YKF</td>\n",
       "      <td>15746526</td>\n",
       "      <td>1002</td>\n",
       "      <td>100.00</td>\n",
       "      <td>...</td>\n",
       "      <td>ABBAPI</td>\n",
       "      <td>Basic Bundle</td>\n",
       "      <td>1</td>\n",
       "      <td>Long Haul</td>\n",
       "      <td>InDirect</td>\n",
       "      <td>CAD</td>\n",
       "      <td>1.0</td>\n",
       "      <td>100.00</td>\n",
       "      <td>0.0</td>\n",
       "      <td>5.00</td>\n",
       "    </tr>\n",
       "    <tr>\n",
       "      <th>1918</th>\n",
       "      <td>07/30/2023</td>\n",
       "      <td>8137354</td>\n",
       "      <td>108774.0</td>\n",
       "      <td>08/03/2023</td>\n",
       "      <td>11:40:00</td>\n",
       "      <td>YYC</td>\n",
       "      <td>YOW</td>\n",
       "      <td>16659966</td>\n",
       "      <td>1</td>\n",
       "      <td>-35.00</td>\n",
       "      <td>...</td>\n",
       "      <td>ABBAPI</td>\n",
       "      <td>Airport Improvement Fee</td>\n",
       "      <td>0</td>\n",
       "      <td>Long Haul</td>\n",
       "      <td>Direct</td>\n",
       "      <td>CAD</td>\n",
       "      <td>1.0</td>\n",
       "      <td>-35.00</td>\n",
       "      <td>0.0</td>\n",
       "      <td>-1.75</td>\n",
       "    </tr>\n",
       "    <tr>\n",
       "      <th>2083</th>\n",
       "      <td>07/30/2023</td>\n",
       "      <td>7169789</td>\n",
       "      <td>104516.0</td>\n",
       "      <td>08/08/2023</td>\n",
       "      <td>13:15:00</td>\n",
       "      <td>YOW</td>\n",
       "      <td>YHZ</td>\n",
       "      <td>14770740</td>\n",
       "      <td>1002</td>\n",
       "      <td>82.00</td>\n",
       "      <td>...</td>\n",
       "      <td>ABBAPI</td>\n",
       "      <td>Basic Bundle</td>\n",
       "      <td>1</td>\n",
       "      <td>Mid Stage</td>\n",
       "      <td>Direct</td>\n",
       "      <td>CAD</td>\n",
       "      <td>1.0</td>\n",
       "      <td>82.00</td>\n",
       "      <td>0.0</td>\n",
       "      <td>12.30</td>\n",
       "    </tr>\n",
       "    <tr>\n",
       "      <th>2090</th>\n",
       "      <td>07/30/2023</td>\n",
       "      <td>7169789</td>\n",
       "      <td>104516.0</td>\n",
       "      <td>08/08/2023</td>\n",
       "      <td>13:15:00</td>\n",
       "      <td>YOW</td>\n",
       "      <td>YHZ</td>\n",
       "      <td>14770740</td>\n",
       "      <td>1002</td>\n",
       "      <td>82.00</td>\n",
       "      <td>...</td>\n",
       "      <td>ABBAPI</td>\n",
       "      <td>Basic Bundle</td>\n",
       "      <td>1</td>\n",
       "      <td>Mid Stage</td>\n",
       "      <td>Direct</td>\n",
       "      <td>CAD</td>\n",
       "      <td>1.0</td>\n",
       "      <td>82.00</td>\n",
       "      <td>0.0</td>\n",
       "      <td>12.30</td>\n",
       "    </tr>\n",
       "    <tr>\n",
       "      <th>2319</th>\n",
       "      <td>07/30/2023</td>\n",
       "      <td>8137354</td>\n",
       "      <td>108774.0</td>\n",
       "      <td>08/03/2023</td>\n",
       "      <td>11:40:00</td>\n",
       "      <td>YYC</td>\n",
       "      <td>YOW</td>\n",
       "      <td>16659966</td>\n",
       "      <td>5</td>\n",
       "      <td>7.12</td>\n",
       "      <td>...</td>\n",
       "      <td>ABBAPI</td>\n",
       "      <td>Air Traveller Security Charge</td>\n",
       "      <td>0</td>\n",
       "      <td>Long Haul</td>\n",
       "      <td>Direct</td>\n",
       "      <td>CAD</td>\n",
       "      <td>1.0</td>\n",
       "      <td>7.12</td>\n",
       "      <td>0.0</td>\n",
       "      <td>0.93</td>\n",
       "    </tr>\n",
       "    <tr>\n",
       "      <th>...</th>\n",
       "      <td>...</td>\n",
       "      <td>...</td>\n",
       "      <td>...</td>\n",
       "      <td>...</td>\n",
       "      <td>...</td>\n",
       "      <td>...</td>\n",
       "      <td>...</td>\n",
       "      <td>...</td>\n",
       "      <td>...</td>\n",
       "      <td>...</td>\n",
       "      <td>...</td>\n",
       "      <td>...</td>\n",
       "      <td>...</td>\n",
       "      <td>...</td>\n",
       "      <td>...</td>\n",
       "      <td>...</td>\n",
       "      <td>...</td>\n",
       "      <td>...</td>\n",
       "      <td>...</td>\n",
       "      <td>...</td>\n",
       "      <td>...</td>\n",
       "    </tr>\n",
       "    <tr>\n",
       "      <th>97444</th>\n",
       "      <td>07/30/2023</td>\n",
       "      <td>7526982</td>\n",
       "      <td>127725.0</td>\n",
       "      <td>08/04/2023</td>\n",
       "      <td>19:15:00</td>\n",
       "      <td>YXU</td>\n",
       "      <td>YVR</td>\n",
       "      <td>15492896</td>\n",
       "      <td>1</td>\n",
       "      <td>12.00</td>\n",
       "      <td>...</td>\n",
       "      <td>ABBAPI</td>\n",
       "      <td>Airport Improvement Fee</td>\n",
       "      <td>0</td>\n",
       "      <td>Long Haul</td>\n",
       "      <td>Direct</td>\n",
       "      <td>CAD</td>\n",
       "      <td>1.0</td>\n",
       "      <td>12.00</td>\n",
       "      <td>0.0</td>\n",
       "      <td>1.56</td>\n",
       "    </tr>\n",
       "    <tr>\n",
       "      <th>97528</th>\n",
       "      <td>07/30/2023</td>\n",
       "      <td>8829722</td>\n",
       "      <td>145875.0</td>\n",
       "      <td>08/31/2023</td>\n",
       "      <td>07:00:00</td>\n",
       "      <td>YVR</td>\n",
       "      <td>LAX</td>\n",
       "      <td>18260137</td>\n",
       "      <td>1018</td>\n",
       "      <td>5.15</td>\n",
       "      <td>...</td>\n",
       "      <td>ABBAPI</td>\n",
       "      <td>US APHIS User Fee</td>\n",
       "      <td>0</td>\n",
       "      <td>Sun</td>\n",
       "      <td>Direct</td>\n",
       "      <td>CAD</td>\n",
       "      <td>1.0</td>\n",
       "      <td>5.15</td>\n",
       "      <td>0.0</td>\n",
       "      <td>0.00</td>\n",
       "    </tr>\n",
       "    <tr>\n",
       "      <th>97737</th>\n",
       "      <td>07/30/2023</td>\n",
       "      <td>7169789</td>\n",
       "      <td>104516.0</td>\n",
       "      <td>08/08/2023</td>\n",
       "      <td>13:15:00</td>\n",
       "      <td>YOW</td>\n",
       "      <td>YHZ</td>\n",
       "      <td>14770740</td>\n",
       "      <td>1002</td>\n",
       "      <td>82.00</td>\n",
       "      <td>...</td>\n",
       "      <td>ABBAPI</td>\n",
       "      <td>Basic Bundle</td>\n",
       "      <td>1</td>\n",
       "      <td>Mid Stage</td>\n",
       "      <td>Direct</td>\n",
       "      <td>CAD</td>\n",
       "      <td>1.0</td>\n",
       "      <td>82.00</td>\n",
       "      <td>0.0</td>\n",
       "      <td>12.30</td>\n",
       "    </tr>\n",
       "    <tr>\n",
       "      <th>97757</th>\n",
       "      <td>07/30/2023</td>\n",
       "      <td>7651807</td>\n",
       "      <td>107482.0</td>\n",
       "      <td>07/31/2023</td>\n",
       "      <td>17:30:00</td>\n",
       "      <td>YYC</td>\n",
       "      <td>YKF</td>\n",
       "      <td>15746526</td>\n",
       "      <td>1002</td>\n",
       "      <td>100.00</td>\n",
       "      <td>...</td>\n",
       "      <td>ABBAPI</td>\n",
       "      <td>Basic Bundle</td>\n",
       "      <td>1</td>\n",
       "      <td>Long Haul</td>\n",
       "      <td>InDirect</td>\n",
       "      <td>CAD</td>\n",
       "      <td>1.0</td>\n",
       "      <td>100.00</td>\n",
       "      <td>0.0</td>\n",
       "      <td>5.00</td>\n",
       "    </tr>\n",
       "    <tr>\n",
       "      <th>97795</th>\n",
       "      <td>07/30/2023</td>\n",
       "      <td>8830386</td>\n",
       "      <td>123691.0</td>\n",
       "      <td>08/16/2023</td>\n",
       "      <td>15:00:00</td>\n",
       "      <td>YVR</td>\n",
       "      <td>SFO</td>\n",
       "      <td>18261469</td>\n",
       "      <td>1020</td>\n",
       "      <td>9.41</td>\n",
       "      <td>...</td>\n",
       "      <td>TRAVELFUSION-F8</td>\n",
       "      <td>US Immigration User Fee</td>\n",
       "      <td>0</td>\n",
       "      <td>International</td>\n",
       "      <td>InDirect</td>\n",
       "      <td>CAD</td>\n",
       "      <td>1.0</td>\n",
       "      <td>9.41</td>\n",
       "      <td>0.0</td>\n",
       "      <td>0.00</td>\n",
       "    </tr>\n",
       "  </tbody>\n",
       "</table>\n",
       "<p>607 rows × 35 columns</p>\n",
       "</div>"
      ],
      "text/plain": [
       "      Charge Date  Reservation Nmbr  Sked Detail Id Nmbr Flight Date  \\\n",
       "1614   07/30/2023           7651807             107482.0  07/31/2023   \n",
       "1918   07/30/2023           8137354             108774.0  08/03/2023   \n",
       "2083   07/30/2023           7169789             104516.0  08/08/2023   \n",
       "2090   07/30/2023           7169789             104516.0  08/08/2023   \n",
       "2319   07/30/2023           8137354             108774.0  08/03/2023   \n",
       "...           ...               ...                  ...         ...   \n",
       "97444  07/30/2023           7526982             127725.0  08/04/2023   \n",
       "97528  07/30/2023           8829722             145875.0  08/31/2023   \n",
       "97737  07/30/2023           7169789             104516.0  08/08/2023   \n",
       "97757  07/30/2023           7651807             107482.0  07/31/2023   \n",
       "97795  07/30/2023           8830386             123691.0  08/16/2023   \n",
       "\n",
       "      Flight Time Departure Arrival  Legs Id Nmbr  Charge Type Net Charge  \\\n",
       "1614     17:30:00     YYC     YKF        15746526         1002     100.00   \n",
       "1918     11:40:00     YYC     YOW        16659966            1     -35.00   \n",
       "2083     13:15:00     YOW     YHZ        14770740         1002      82.00   \n",
       "2090     13:15:00     YOW     YHZ        14770740         1002      82.00   \n",
       "2319     11:40:00     YYC     YOW        16659966            5       7.12   \n",
       "...           ...       ...     ...           ...          ...        ...   \n",
       "97444    19:15:00     YXU     YVR        15492896            1      12.00   \n",
       "97528    07:00:00     YVR     LAX        18260137         1018       5.15   \n",
       "97737    13:15:00     YOW     YHZ        14770740         1002      82.00   \n",
       "97757    17:30:00     YYC     YKF        15746526         1002     100.00   \n",
       "97795    15:00:00     YVR     SFO        18261469         1020       9.41   \n",
       "\n",
       "       ...   Sales Username             Ancillary Category Purchase Cnt  \\\n",
       "1614   ...           ABBAPI                   Basic Bundle            1   \n",
       "1918   ...           ABBAPI        Airport Improvement Fee            0   \n",
       "2083   ...           ABBAPI                   Basic Bundle            1   \n",
       "2090   ...           ABBAPI                   Basic Bundle            1   \n",
       "2319   ...           ABBAPI  Air Traveller Security Charge            0   \n",
       "...    ...              ...                            ...          ...   \n",
       "97444  ...           ABBAPI        Airport Improvement Fee            0   \n",
       "97528  ...           ABBAPI              US APHIS User Fee            0   \n",
       "97737  ...           ABBAPI                   Basic Bundle            1   \n",
       "97757  ...           ABBAPI                   Basic Bundle            1   \n",
       "97795  ...  TRAVELFUSION-F8        US Immigration User Fee            0   \n",
       "\n",
       "      Classification   Channel Residency  Resident Exchange Rate  \\\n",
       "1614       Long Haul  InDirect       CAD                     1.0   \n",
       "1918       Long Haul    Direct       CAD                     1.0   \n",
       "2083       Mid Stage    Direct       CAD                     1.0   \n",
       "2090       Mid Stage    Direct       CAD                     1.0   \n",
       "2319       Long Haul    Direct       CAD                     1.0   \n",
       "...              ...       ...       ...                     ...   \n",
       "97444      Long Haul    Direct       CAD                     1.0   \n",
       "97528            Sun    Direct       CAD                     1.0   \n",
       "97737      Mid Stage    Direct       CAD                     1.0   \n",
       "97757      Long Haul  InDirect       CAD                     1.0   \n",
       "97795  International  InDirect       CAD                     1.0   \n",
       "\n",
       "       Resident Base Charge  Resident Base Discount  Resident Base Taxes  \n",
       "1614                 100.00                     0.0                 5.00  \n",
       "1918                 -35.00                     0.0                -1.75  \n",
       "2083                  82.00                     0.0                12.30  \n",
       "2090                  82.00                     0.0                12.30  \n",
       "2319                   7.12                     0.0                 0.93  \n",
       "...                     ...                     ...                  ...  \n",
       "97444                 12.00                     0.0                 1.56  \n",
       "97528                  5.15                     0.0                 0.00  \n",
       "97737                 82.00                     0.0                12.30  \n",
       "97757                100.00                     0.0                 5.00  \n",
       "97795                  9.41                     0.0                 0.00  \n",
       "\n",
       "[607 rows x 35 columns]"
      ]
     },
     "execution_count": 10,
     "metadata": {},
     "output_type": "execute_result"
    }
   ],
   "source": [
    "duplicates"
   ]
  },
  {
   "cell_type": "code",
   "execution_count": 11,
   "id": "55e18d8a",
   "metadata": {},
   "outputs": [],
   "source": [
    "#snowflake_pd_df = pd.concat([snowflake_pd_df1,snowflake_pd_df2]).reset_index()"
   ]
  },
  {
   "cell_type": "code",
   "execution_count": 12,
   "id": "32f60f43",
   "metadata": {
    "scrolled": true
   },
   "outputs": [],
   "source": [
    "#snowflake_pd_df = snowflake_pd_df[snowflake_pd_df['Flight Date'] == \"07/30/2023\"]"
   ]
  },
  {
   "cell_type": "code",
   "execution_count": 13,
   "id": "3d058f2d",
   "metadata": {
    "tags": [
     "hide_code"
    ]
   },
   "outputs": [],
   "source": [
    "\n",
    "#columns_check = ['Legs Id Nmbr','Charge Date','Total Charge' ,'Charges Desc']"
   ]
  },
  {
   "cell_type": "code",
   "execution_count": 14,
   "id": "466d796c",
   "metadata": {
    "tags": [
     "hide_code"
    ]
   },
   "outputs": [],
   "source": [
    "#duplicate_mask = snowflake_pd_df.duplicated(subset=columns_check, keep=False)\n",
    "\n",
    "# Filter the DataFrame to show only the duplicate rows\n",
    "#duplicates_df = snowflake_pd_df[duplicate_mask]"
   ]
  },
  {
   "cell_type": "code",
   "execution_count": 15,
   "id": "3cdb3a45",
   "metadata": {
    "tags": [
     "hide_code"
    ]
   },
   "outputs": [],
   "source": [
    "#duplicates_df.to_csv(\"Duplicate_records.csv\")"
   ]
  },
  {
   "cell_type": "code",
   "execution_count": 16,
   "id": "80343a0b",
   "metadata": {
    "tags": [
     "hide_code"
    ]
   },
   "outputs": [],
   "source": [
    "#print( \"Duplicate records percentage: \",(len(duplicates_df)/len(snowflake_pd_df))*100,\"%\")"
   ]
  },
  {
   "cell_type": "markdown",
   "id": "ea6a838b",
   "metadata": {},
   "source": [
    "# For report"
   ]
  },
  {
   "cell_type": "code",
   "execution_count": 17,
   "id": "91098c0b",
   "metadata": {},
   "outputs": [],
   "source": [
    "reprot_path= 'Sales/Sales_Raw_Data_0730.csv'"
   ]
  },
  {
   "cell_type": "code",
   "execution_count": 18,
   "id": "283a6628",
   "metadata": {},
   "outputs": [],
   "source": [
    "report_df = pd.read_csv(reprot_path, skiprows=0)   "
   ]
  },
  {
   "cell_type": "code",
   "execution_count": 19,
   "id": "9471806a",
   "metadata": {},
   "outputs": [
    {
     "data": {
      "text/plain": [
       "57728"
      ]
     },
     "execution_count": 19,
     "metadata": {},
     "output_type": "execute_result"
    }
   ],
   "source": [
    "len(report_df)"
   ]
  },
  {
   "cell_type": "code",
   "execution_count": 20,
   "id": "97058851",
   "metadata": {},
   "outputs": [],
   "source": [
    "report_select = report_df[['lng_Reservation_Nmbr','TotalCharge']]\n",
    "\n",
    "report_select['TotalCharge'] = report_select['TotalCharge'].str.replace('$', '')\n",
    "report_select['TotalCharge'] = report_select['TotalCharge'].str.replace(')', '')\n",
    "report_select['TotalCharge'] = report_select['TotalCharge'].str.replace('(', '-')\n",
    "report_select['TotalCharge'] = report_select['TotalCharge'].astype(float)"
   ]
  },
  {
   "cell_type": "code",
   "execution_count": 21,
   "id": "19ce57cc",
   "metadata": {},
   "outputs": [],
   "source": [
    "iot_count_df = report_select.groupby(by =['lng_Reservation_Nmbr']).size().to_frame()\n",
    "iot_sum_df = report_select.groupby(by =['lng_Reservation_Nmbr']).sum()\n",
    "iot_df = iot_sum_df.join(iot_count_df, on = 'lng_Reservation_Nmbr', how= 'left',lsuffix='sum')\n",
    "iot_df.columns = ['TotalCharge','Count']"
   ]
  },
  {
   "cell_type": "code",
   "execution_count": 22,
   "id": "e3947178",
   "metadata": {},
   "outputs": [],
   "source": [
    "iot_df['Reservation Number'] = iot_df.index\n",
    "iot_df = iot_df.reset_index(drop=True)"
   ]
  },
  {
   "cell_type": "markdown",
   "id": "b19b5dcd",
   "metadata": {},
   "source": [
    "# Check duplicates for report"
   ]
  },
  {
   "cell_type": "code",
   "execution_count": 23,
   "id": "c709fac9",
   "metadata": {},
   "outputs": [],
   "source": [
    "columns_check = ['lng_Res_Legs_Id_Nmbr','ChargeDate','TotalCharge' ,'str_GL_Charges_Desc']"
   ]
  },
  {
   "cell_type": "code",
   "execution_count": 24,
   "id": "fa433355",
   "metadata": {},
   "outputs": [
    {
     "name": "stdout",
     "output_type": "stream",
     "text": [
      "Exact Duplicate records percentage:  0.22172949002217296 %\n"
     ]
    }
   ],
   "source": [
    "duplicates = report_df[report_df.duplicated() == True]\n",
    "print( \"Exact Duplicate records percentage: \",(len(duplicates)/len(report_df))*100,\"%\")"
   ]
  },
  {
   "cell_type": "markdown",
   "id": "88b5662d",
   "metadata": {},
   "source": [
    "# Missing records"
   ]
  },
  {
   "cell_type": "code",
   "execution_count": 25,
   "id": "fbd5a3dd",
   "metadata": {},
   "outputs": [],
   "source": [
    "snow_df = snowflake_pd_df[['Reservation Nmbr','Total Charge']]\n",
    "\n",
    "snow_df['Total Charge'] = snow_df['Total Charge'].astype(float)"
   ]
  },
  {
   "cell_type": "code",
   "execution_count": 26,
   "id": "354e4617",
   "metadata": {},
   "outputs": [],
   "source": [
    "snow_count_df = snow_df.groupby(by =['Reservation Nmbr']).size().to_frame()\n",
    "snow_sum_df = snow_df.groupby(by =['Reservation Nmbr']).sum()\n",
    "snow_result_df = snow_sum_df.join(snow_count_df, on = 'Reservation Nmbr', how= 'left',lsuffix='sum')\n",
    "snow_result_df.columns = ['Total Charge','Count']"
   ]
  },
  {
   "cell_type": "code",
   "execution_count": 27,
   "id": "52e9fc5a",
   "metadata": {},
   "outputs": [],
   "source": [
    "snow_result_df['Reservation Number'] = snow_result_df.index\n",
    "snow_result_df = snow_result_df.reset_index(drop=True)"
   ]
  },
  {
   "cell_type": "code",
   "execution_count": 28,
   "id": "7c9ff6b3",
   "metadata": {},
   "outputs": [],
   "source": [
    "iot_df.columns = snow_result_df.columns"
   ]
  },
  {
   "cell_type": "code",
   "execution_count": 29,
   "id": "008ab2e1",
   "metadata": {},
   "outputs": [],
   "source": [
    "iot_df['Total Charge'] = iot_df['Total Charge'].round(2)\n",
    "snow_result_df['Total Charge'] = snow_result_df['Total Charge'].round(2)"
   ]
  },
  {
   "cell_type": "code",
   "execution_count": 30,
   "id": "0b48d742",
   "metadata": {},
   "outputs": [
    {
     "data": {
      "text/plain": [
       "Total Charge          2.101863e+06\n",
       "Count                 5.772800e+04\n",
       "Reservation Number    6.114632e+10\n",
       "dtype: float64"
      ]
     },
     "execution_count": 30,
     "metadata": {},
     "output_type": "execute_result"
    }
   ],
   "source": [
    "iot_df.sum()"
   ]
  },
  {
   "cell_type": "code",
   "execution_count": 31,
   "id": "44a08d7c",
   "metadata": {},
   "outputs": [
    {
     "data": {
      "text/plain": [
       "Total Charge          2.101717e+06\n",
       "Count                 9.794500e+04\n",
       "Reservation Number    8.067182e+10\n",
       "dtype: float64"
      ]
     },
     "execution_count": 31,
     "metadata": {},
     "output_type": "execute_result"
    }
   ],
   "source": [
    "snow_result_df.sum()"
   ]
  },
  {
   "cell_type": "code",
   "execution_count": 32,
   "id": "41abc0e9",
   "metadata": {},
   "outputs": [],
   "source": [
    "#iot_df"
   ]
  },
  {
   "cell_type": "code",
   "execution_count": 33,
   "id": "2339834b",
   "metadata": {},
   "outputs": [],
   "source": [
    "missing_in_report =  pd.merge(snow_result_df, iot_df, on='Reservation Number', how='outer',suffixes=('_snowflake', '_iot'))\n",
    "missing_in_report = missing_in_report.fillna(0)"
   ]
  },
  {
   "cell_type": "code",
   "execution_count": 34,
   "id": "9afd4fd4",
   "metadata": {},
   "outputs": [],
   "source": [
    "missing_in_report ['Difference abs Charge'] = abs(missing_in_report['Total Charge_snowflake'] - missing_in_report['Total Charge_iot'])\n",
    "missing_in_report ['Difference abs Count'] = abs(missing_in_report['Count_snowflake'] - missing_in_report['Count_iot'])\n",
    "missing_in_report ['Difference Count'] = missing_in_report['Count_snowflake'] - missing_in_report['Count_iot']"
   ]
  },
  {
   "cell_type": "code",
   "execution_count": 35,
   "id": "ecb53d3f",
   "metadata": {},
   "outputs": [],
   "source": [
    "missing = missing_in_report[(missing_in_report['Difference abs Charge'] != 0) | (missing_in_report['Difference abs Count'] != 0)]"
   ]
  },
  {
   "cell_type": "code",
   "execution_count": 36,
   "id": "2961af47",
   "metadata": {},
   "outputs": [],
   "source": [
    "reservation_number = duplicates['lng_Reservation_Nmbr'].unique()\n",
    "final_missing_df = missing[~missing['Reservation Number'].isin(reservation_number)]"
   ]
  },
  {
   "cell_type": "code",
   "execution_count": 37,
   "id": "3659e93c",
   "metadata": {},
   "outputs": [],
   "source": [
    "final_missing_df.set_index('Reservation Number', inplace=True)"
   ]
  },
  {
   "cell_type": "code",
   "execution_count": 38,
   "id": "28a4efce",
   "metadata": {},
   "outputs": [],
   "source": [
    "final_df_sum = final_missing_df.sum()\n",
    "final_missing_df.loc['Sum'] = final_df_sum"
   ]
  },
  {
   "cell_type": "code",
   "execution_count": 39,
   "id": "c08c7794",
   "metadata": {
    "scrolled": true
   },
   "outputs": [],
   "source": [
    "#final_missing_df"
   ]
  },
  {
   "cell_type": "code",
   "execution_count": 40,
   "id": "651f37a1",
   "metadata": {},
   "outputs": [],
   "source": [
    "final_missing_df.to_csv(\"final_missing_records.csv\")"
   ]
  },
  {
   "cell_type": "markdown",
   "id": "57ac408b",
   "metadata": {},
   "source": [
    "# Summary Table"
   ]
  },
  {
   "cell_type": "code",
   "execution_count": 41,
   "id": "6aded86f",
   "metadata": {},
   "outputs": [],
   "source": [
    "df = pd.DataFrame()\n",
    "df['Date'] = [date1]\n",
    "df['Total count of records'] = [len(report_df)]\n",
    "df['Total charge of records'] = [report_select['TotalCharge'].sum() ]\n",
    "df['Percentage of duplicate records'] = [(len(duplicates)/len(report_df))*100]\n",
    "df['Number of duplicate records'] = [len(duplicates)]\n",
    "df['Percentage of missing records'] = [((final_missing_df.loc['Sum','Difference abs Count'])/len(report_df))*100 ]\n",
    "df['Number of missing records'] = [(final_missing_df.loc['Sum','Difference abs Count'])]\n",
    "df['Number of missing records in report'] = [final_missing_df[final_missing_df['Difference Count'] >= 0]['Difference abs Count'].sum() - final_missing_df['Difference abs Count']['Sum']] \n",
    "df['Number of missing records in snowflake'] = [final_missing_df[final_missing_df['Difference Count'] < 0]['Difference abs Count'].sum()]"
   ]
  },
  {
   "cell_type": "code",
   "execution_count": 42,
   "id": "cce04ac6",
   "metadata": {},
   "outputs": [
    {
     "data": {
      "text/html": [
       "<div>\n",
       "<style scoped>\n",
       "    .dataframe tbody tr th:only-of-type {\n",
       "        vertical-align: middle;\n",
       "    }\n",
       "\n",
       "    .dataframe tbody tr th {\n",
       "        vertical-align: top;\n",
       "    }\n",
       "\n",
       "    .dataframe thead th {\n",
       "        text-align: right;\n",
       "    }\n",
       "</style>\n",
       "<table border=\"1\" class=\"dataframe\">\n",
       "  <thead>\n",
       "    <tr style=\"text-align: right;\">\n",
       "      <th></th>\n",
       "      <th>Date</th>\n",
       "      <th>Total count of records</th>\n",
       "      <th>Total charge of records</th>\n",
       "      <th>Percentage of duplicate records</th>\n",
       "      <th>Number of duplicate records</th>\n",
       "      <th>Percentage of missing records</th>\n",
       "      <th>Number of missing records</th>\n",
       "      <th>Number of missing records in report</th>\n",
       "      <th>Number of missing records in snowflake</th>\n",
       "    </tr>\n",
       "  </thead>\n",
       "  <tbody>\n",
       "    <tr>\n",
       "      <th>0</th>\n",
       "      <td>07/30/2023</td>\n",
       "      <td>57728</td>\n",
       "      <td>2101863.01</td>\n",
       "      <td>0.221729</td>\n",
       "      <td>128</td>\n",
       "      <td>69.683689</td>\n",
       "      <td>40227.0</td>\n",
       "      <td>40222.0</td>\n",
       "      <td>5.0</td>\n",
       "    </tr>\n",
       "  </tbody>\n",
       "</table>\n",
       "</div>"
      ],
      "text/plain": [
       "         Date  Total count of records  Total charge of records  \\\n",
       "0  07/30/2023                   57728               2101863.01   \n",
       "\n",
       "   Percentage of duplicate records  Number of duplicate records  \\\n",
       "0                         0.221729                          128   \n",
       "\n",
       "   Percentage of missing records  Number of missing records  \\\n",
       "0                      69.683689                    40227.0   \n",
       "\n",
       "   Number of missing records in report  Number of missing records in snowflake  \n",
       "0                              40222.0                                     5.0  "
      ]
     },
     "execution_count": 42,
     "metadata": {},
     "output_type": "execute_result"
    }
   ],
   "source": [
    "df"
   ]
  },
  {
   "cell_type": "code",
   "execution_count": 43,
   "id": "48bb6dd0",
   "metadata": {},
   "outputs": [],
   "source": [
    "df.to_csv(\"result.csv\")"
   ]
  },
  {
   "cell_type": "code",
   "execution_count": null,
   "id": "c6adea04",
   "metadata": {},
   "outputs": [],
   "source": []
  }
 ],
 "metadata": {
  "kernelspec": {
   "display_name": "Python 3 (ipykernel)",
   "language": "python",
   "name": "python3"
  },
  "language_info": {
   "codemirror_mode": {
    "name": "ipython",
    "version": 3
   },
   "file_extension": ".py",
   "mimetype": "text/x-python",
   "name": "python",
   "nbconvert_exporter": "python",
   "pygments_lexer": "ipython3",
   "version": "3.8.17"
  }
 },
 "nbformat": 4,
 "nbformat_minor": 5
}
