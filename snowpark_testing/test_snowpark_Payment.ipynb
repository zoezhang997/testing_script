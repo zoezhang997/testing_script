{
 "cells": [
  {
   "attachments": {},
   "cell_type": "markdown",
   "id": "ea681461",
   "metadata": {},
   "source": [
    "## Accuracy: 100%\n",
    "Things to note\n",
    "\n",
    "1.\t08/07/2023\tRes num: 8,959,169 PNR is null in snow"
   ]
  },
  {
   "cell_type": "code",
   "execution_count": 1,
   "id": "b80fcc6d",
   "metadata": {},
   "outputs": [],
   "source": [
    "from snowflake.snowpark.session import Session\n",
    "from snowflake.snowpark.types import *\n",
    "from snowflake.snowpark.functions import col, lit\n",
    "import getpass\n",
    "import pandas as pd\n",
    "import json\n",
    "from get_secret import get_secret\n",
    "from datetime import datetime\n",
    "import snowflake.snowpark.functions as F\n",
    "import numpy as np"
   ]
  },
  {
   "cell_type": "code",
   "execution_count": 2,
   "id": "d3693af2",
   "metadata": {},
   "outputs": [],
   "source": [
    "connection_parameters = json.loads(get_secret())\n",
    "connection_parameters.update({'warehouse':'COMPUTE_WH', 'database':'ANALYTICS_PROD','schema': 'IOATAWARE',\"loglevel\":'DEBUG'})\n",
    "session = Session.builder.configs(connection_parameters).create()"
   ]
  },
  {
   "cell_type": "code",
   "execution_count": 3,
   "id": "486af731",
   "metadata": {},
   "outputs": [
    {
     "name": "stdout",
     "output_type": "stream",
     "text": [
      "Current Database and schema: \"ANALYTICS_PROD\".\"IOATAWARE\"\n",
      "Current Warehouse: \"COMPUTE_WH\"\n"
     ]
    }
   ],
   "source": [
    "print(f\"Current Database and schema: {session.get_fully_qualified_current_schema()}\")\n",
    "print(f\"Current Warehouse: {session.get_current_warehouse()}\")"
   ]
  },
  {
   "cell_type": "markdown",
   "id": "2d67dcc2",
   "metadata": {},
   "source": [
    "# Import and clean snowflake views"
   ]
  },
  {
   "cell_type": "code",
   "execution_count": 4,
   "id": "91f41bed",
   "metadata": {},
   "outputs": [],
   "source": [
    "view_name = \"VW_PAYMENTS_RAW_DATA\"\n",
    "date = \"08/02/2023\""
   ]
  },
  {
   "cell_type": "code",
   "execution_count": 5,
   "id": "b3160ace",
   "metadata": {},
   "outputs": [],
   "source": [
    "snowpark_df = session.table(view_name)"
   ]
  },
  {
   "cell_type": "code",
   "execution_count": 6,
   "id": "f29f3ac0",
   "metadata": {},
   "outputs": [],
   "source": [
    "snowflake_pd_df = snowpark_df.filter( (F.col(\"Payment Date\") == date) ).to_pandas()\n",
    "#snowflake_pd_df2 = snowpark_df.filter(F.col('Flight Date') == flight_date2 ).to_pandas() "
   ]
  },
  {
   "cell_type": "code",
   "execution_count": 7,
   "id": "378d4e12",
   "metadata": {},
   "outputs": [
    {
     "data": {
      "text/plain": [
       "Payment Date             object\n",
       "Reservation Nmbr          int32\n",
       "PNR                      object\n",
       "Payment Amount(CAN)     float64\n",
       "Payment Method           object\n",
       "Payment Description      object\n",
       "Payer                    object\n",
       "Payment Notes            object\n",
       "Receipt Number            int32\n",
       "Base Currency            object\n",
       "Base Currency Amount    float64\n",
       "Exchange Rate           float64\n",
       "dtype: object"
      ]
     },
     "execution_count": 7,
     "metadata": {},
     "output_type": "execute_result"
    }
   ],
   "source": [
    "snowflake_pd_df.dtypes"
   ]
  },
  {
   "cell_type": "code",
   "execution_count": 8,
   "id": "bb575eb7",
   "metadata": {},
   "outputs": [],
   "source": [
    "#snowflake_pd_df.to_csv(\"temp_snowflake.csv\")"
   ]
  },
  {
   "cell_type": "code",
   "execution_count": 9,
   "id": "341838fc",
   "metadata": {},
   "outputs": [],
   "source": [
    "# columns_to_remove = ['\\tPercent of Full Leg','Leg Status','Flight Time','Sales Username']\n",
    "# snowflake_pd_df = snowflake_pd_df.drop(columns=columns_to_remove)\n",
    "\n",
    "snowflake_pd_df['Payment Date'] = pd.to_datetime(snowflake_pd_df['Payment Date'])\n",
    "#snowflake_pd_df.fillna('', inplace=True)\n",
    "snowflake_pd_df.replace('', np.nan, inplace=True)\n",
    "snowflake_pd_df['Exchange Rate'] = round(snowflake_pd_df['Exchange Rate'],6)\n",
    "# snowflake_pd_df['Taxes'] = snowflake_pd_df['Taxes'].astype(float)\n",
    "# snowflake_pd_df['Total Charge'] = snowflake_pd_df['Total Charge'].astype(float)\n",
    "# snowflake_pd_df['Flight Nmbr'] = snowflake_pd_df['Flight Nmbr'].astype(int)"
   ]
  },
  {
   "cell_type": "code",
   "execution_count": 10,
   "id": "ab6b9a67",
   "metadata": {},
   "outputs": [
    {
     "data": {
      "text/plain": [
       "16343"
      ]
     },
     "execution_count": 10,
     "metadata": {},
     "output_type": "execute_result"
    }
   ],
   "source": [
    "len(snowflake_pd_df)"
   ]
  },
  {
   "cell_type": "markdown",
   "id": "0040d98b",
   "metadata": {},
   "source": [
    "# Import and clean report data"
   ]
  },
  {
   "cell_type": "code",
   "execution_count": 13,
   "id": "a1d27d5e",
   "metadata": {},
   "outputs": [],
   "source": [
    "report_df = pd.read_csv('Payment/Payments_Raw_Data_0802.csv', skiprows=0)   "
   ]
  },
  {
   "cell_type": "code",
   "execution_count": 14,
   "id": "9b7789a5",
   "metadata": {},
   "outputs": [
    {
     "data": {
      "text/plain": [
       "Source                              object\n",
       "dtm_GL_Payments_Date                object\n",
       "lng_Reservation_Nmbr                 int64\n",
       "PNR                                 object\n",
       "PaymentsTotal                       object\n",
       "str_GL_Payment_Method_Desc          object\n",
       "str_GL_Payments_Desc                object\n",
       "str_GL_Payments_Payer               object\n",
       "str_GL_Payments_Notes               object\n",
       "lng_GL_Payments_Receipt_Nmbr         int64\n",
       "str_Currency_Ident1                 object\n",
       "mny_GL_Currency_Payments_Amount     object\n",
       "mny_Exchange_Rate                  float64\n",
       "CC_Num                              object\n",
       "dtype: object"
      ]
     },
     "execution_count": 14,
     "metadata": {},
     "output_type": "execute_result"
    }
   ],
   "source": [
    "report_df.dtypes"
   ]
  },
  {
   "cell_type": "code",
   "execution_count": 15,
   "id": "5014e702",
   "metadata": {},
   "outputs": [],
   "source": [
    "def process_fee_column(value):\n",
    "    value = value.replace('$', '')  # Remove $\n",
    "    value = value.replace(')', '')   # Remove )\n",
    "    value = value.replace('(', '-') #Replace ( to -\n",
    "    value = value.replace(',', '') # Remove ,\n",
    "    return round(float(value),6)"
   ]
  },
  {
   "cell_type": "code",
   "execution_count": 16,
   "id": "c2329ccc",
   "metadata": {},
   "outputs": [
    {
     "name": "stderr",
     "output_type": "stream",
     "text": [
      "C:\\Users\\Ruiying.Zhang\\AppData\\Local\\Temp\\ipykernel_26276\\1639469494.py:11: UserWarning: Could not infer format, so each element will be parsed individually, falling back to `dateutil`. To ensure parsing is consistent and as-expected, please specify a format.\n",
      "  report_df['dtm_GL_Payments_Date'] = pd.to_datetime(report_df['dtm_GL_Payments_Date'])\n"
     ]
    }
   ],
   "source": [
    "#'LastMod_SalesUser'\n",
    "columns_to_remove = ['Source','CC_Num']\n",
    "report_df = report_df.drop(columns=columns_to_remove)\n",
    "\n",
    "columns_to_process = ['PaymentsTotal','mny_GL_Currency_Payments_Amount']\n",
    "\n",
    "# Apply the function to specified columns in the dataframe\n",
    "for col in columns_to_process:\n",
    "    report_df[col] = report_df[col].apply(process_fee_column)\n",
    "\n",
    "report_df['dtm_GL_Payments_Date'] = pd.to_datetime(report_df['dtm_GL_Payments_Date'])\n",
    "report_df['dtm_GL_Payments_Date'] =report_df['dtm_GL_Payments_Date'].dt.strftime('%m/%d/%Y')\n",
    "report_df['dtm_GL_Payments_Date'] = pd.to_datetime(report_df['dtm_GL_Payments_Date'])"
   ]
  },
  {
   "cell_type": "code",
   "execution_count": 17,
   "id": "c33a982b",
   "metadata": {},
   "outputs": [
    {
     "data": {
      "text/plain": [
       "dtm_GL_Payments_Date               datetime64[ns]\n",
       "lng_Reservation_Nmbr                        int64\n",
       "PNR                                        object\n",
       "PaymentsTotal                             float64\n",
       "str_GL_Payment_Method_Desc                 object\n",
       "str_GL_Payments_Desc                       object\n",
       "str_GL_Payments_Payer                      object\n",
       "str_GL_Payments_Notes                      object\n",
       "lng_GL_Payments_Receipt_Nmbr                int64\n",
       "str_Currency_Ident1                        object\n",
       "mny_GL_Currency_Payments_Amount           float64\n",
       "mny_Exchange_Rate                         float64\n",
       "dtype: object"
      ]
     },
     "execution_count": 17,
     "metadata": {},
     "output_type": "execute_result"
    }
   ],
   "source": [
    "report_df.dtypes"
   ]
  },
  {
   "cell_type": "code",
   "execution_count": 18,
   "id": "b118875b",
   "metadata": {},
   "outputs": [
    {
     "data": {
      "text/plain": [
       "16347"
      ]
     },
     "execution_count": 18,
     "metadata": {},
     "output_type": "execute_result"
    }
   ],
   "source": [
    "len(report_df)"
   ]
  },
  {
   "cell_type": "markdown",
   "id": "72f05fe9",
   "metadata": {},
   "source": [
    "# Compare two dataframes"
   ]
  },
  {
   "cell_type": "code",
   "execution_count": 19,
   "id": "398eb56a",
   "metadata": {},
   "outputs": [],
   "source": [
    "report_df.columns = snowflake_pd_df.columns "
   ]
  },
  {
   "cell_type": "code",
   "execution_count": 20,
   "id": "fb597347",
   "metadata": {},
   "outputs": [],
   "source": [
    "merged = snowflake_pd_df.merge(report_df, how = 'outer', indicator = True)\n",
    "snowflake_only = merged[merged['_merge'] == \"left_only\"]\n",
    "report_only = merged[merged['_merge'] == \"right_only\"]"
   ]
  },
  {
   "cell_type": "code",
   "execution_count": 21,
   "id": "8ad61759",
   "metadata": {},
   "outputs": [],
   "source": [
    "def calculate_df2_accuracy(df1, df2):\n",
    "    merged = df1.merge(df2, how = 'outer', indicator = True)\n",
    "    #matched = merged[merged['_merge'] == \"both\"]\n",
    "    df1_only = merged[merged['_merge'] == \"left_only\"]\n",
    "    df2_only = merged[merged['_merge'] == \"right_only\"]\n",
    "\n",
    "    # Calculate the total number of elements\n",
    "    total_elements = len(df2)\n",
    "\n",
    "    # Calculate accuracy as a percentage\n",
    "    accuracy = ((total_elements - len(df2_only)) / total_elements) * 100\n",
    "\n",
    "    return accuracy\n"
   ]
  },
  {
   "cell_type": "code",
   "execution_count": 22,
   "id": "acbfe73e",
   "metadata": {},
   "outputs": [
    {
     "name": "stdout",
     "output_type": "stream",
     "text": [
      "Accuracy: 100.00%\n"
     ]
    }
   ],
   "source": [
    "accuracy_percentage = calculate_df2_accuracy(report_df,snowflake_pd_df)\n",
    "print(f\"Accuracy: {accuracy_percentage:.2f}%\")"
   ]
  },
  {
   "cell_type": "code",
   "execution_count": 23,
   "id": "92cea7e6",
   "metadata": {},
   "outputs": [
    {
     "name": "stdout",
     "output_type": "stream",
     "text": [
      "Accuracy: 99.98%\n"
     ]
    }
   ],
   "source": [
    "accuracy_percentage = calculate_df2_accuracy(snowflake_pd_df, report_df)\n",
    "print(f\"Accuracy: {accuracy_percentage:.2f}%\")"
   ]
  },
  {
   "cell_type": "markdown",
   "id": "10d27906",
   "metadata": {},
   "source": [
    "# Output the difference file"
   ]
  },
  {
   "cell_type": "code",
   "execution_count": 24,
   "id": "62792626",
   "metadata": {},
   "outputs": [
    {
     "name": "stdout",
     "output_type": "stream",
     "text": [
      "No snowflake only records\n"
     ]
    }
   ],
   "source": [
    "try:\n",
    "    snowflake_only.to_csv(\"Payment/\"+\"snowflake_only_record.csv\", index=False) \n",
    "except:\n",
    "    print(\"No snowflake only records\")\n",
    "try:\n",
    "    report_only.to_csv(\"Payment/\"+\"report_only_record.csv\", index=False) \n",
    "except:\n",
    "    print(\"No report only records\")"
   ]
  }
 ],
 "metadata": {
  "kernelspec": {
   "display_name": "Python 3 (ipykernel)",
   "language": "python",
   "name": "python3"
  },
  "language_info": {
   "codemirror_mode": {
    "name": "ipython",
    "version": 3
   },
   "file_extension": ".py",
   "mimetype": "text/x-python",
   "name": "python",
   "nbconvert_exporter": "python",
   "pygments_lexer": "ipython3",
   "version": "3.8.17"
  }
 },
 "nbformat": 4,
 "nbformat_minor": 5
}
