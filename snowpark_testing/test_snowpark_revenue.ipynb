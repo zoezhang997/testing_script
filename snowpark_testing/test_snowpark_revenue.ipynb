{
 "cells": [
  {
   "cell_type": "markdown",
   "id": "afcb2955",
   "metadata": {},
   "source": [
    "\n",
    "1. Columns not tested yet:'Sales Username','Charge Date'"
   ]
  },
  {
   "cell_type": "code",
   "execution_count": 75,
   "id": "237399e9",
   "metadata": {},
   "outputs": [],
   "source": [
    "import snowflake.connector\n",
    "from get_secret import get_secret\n",
    "from snowflake.connector.pandas_tools import pd_writer\n",
    "import json\n",
    "import pandas as pd"
   ]
  },
  {
   "cell_type": "markdown",
   "id": "2d67dcc2",
   "metadata": {},
   "source": [
    "# Import and clean snowflake views"
   ]
  },
  {
   "cell_type": "code",
   "execution_count": null,
   "id": "deb08529",
   "metadata": {},
   "outputs": [],
   "source": [
    "# Set up the Snowflake connection parameters\n",
    "config_json = json.loads(get_secret())\n",
    "config_json.update({'warehouse':'COMPUTE_WH', 'database':'STAGE_DEV','schema': 'AMELIA_DBO',\"loglevel\":'DEBUG'})\n",
    "\n",
    "# Create a connection object\n",
    "conn = snowflake.connector.connect(**config_json)\n",
    "cur = conn.cursor()\n",
    "\n",
    "sql_file_path = 'Revenue/Amelia_Revenue_RAW_Data.sql'\n",
    "sql_script = read_sql_file(sql_file_path)\n",
    "cur.execute(sql_script)\n",
    "\n",
    "result_df = cur.fetch_pandas_all()"
   ]
  },
  {
   "cell_type": "code",
   "execution_count": 61,
   "id": "939477f7",
   "metadata": {},
   "outputs": [],
   "source": [
    "snowflake_pd_df = result_df"
   ]
  },
  {
   "cell_type": "code",
   "execution_count": 62,
   "id": "268af18b",
   "metadata": {},
   "outputs": [
    {
     "data": {
      "text/plain": [
       "array(['100%'], dtype=object)"
      ]
     },
     "execution_count": 62,
     "metadata": {},
     "output_type": "execute_result"
    }
   ],
   "source": [
    "snowflake_pd_df['\\tPercent of Full Leg'].unique()"
   ]
  },
  {
   "cell_type": "code",
   "execution_count": 63,
   "id": "341838fc",
   "metadata": {},
   "outputs": [],
   "source": [
    "columns_to_remove = ['\\tPercent of Full Leg','Charge Date','Sales Username']\n",
    "snowflake_pd_df = snowflake_pd_df.drop(columns=columns_to_remove)\n",
    "\n",
    "snowflake_pd_df['Flight Date'] = pd.to_datetime(snowflake_pd_df['Flight Date'])\n",
    "snowflake_pd_df['Net Charge'] = snowflake_pd_df['Net Charge'].astype(float)\n",
    "snowflake_pd_df['Taxes'] = snowflake_pd_df['Taxes'].astype(float)\n",
    "snowflake_pd_df['Total Charge'] = snowflake_pd_df['Total Charge'].astype(float)\n",
    "snowflake_pd_df['Flight Nmbr'] = snowflake_pd_df['Flight Nmbr'].astype(int)\n",
    "#snowflake_pd_df['Charge Date'] = pd.to_datetime(snowflake_pd_df['Charge Date']).dt.tz_localize('UTC').dt.tz_convert('US/Mountain').dt.strftime('%m/%d/%Y')"
   ]
  },
  {
   "cell_type": "markdown",
   "id": "0040d98b",
   "metadata": {},
   "source": [
    "# Import and clean report data"
   ]
  },
  {
   "cell_type": "code",
   "execution_count": 64,
   "id": "a1d27d5e",
   "metadata": {},
   "outputs": [],
   "source": [
    "report_df = pd.read_csv('Revenue/Revenue_Raw_Data_0910_Beta.csv', skiprows=0)   "
   ]
  },
  {
   "cell_type": "code",
   "execution_count": 66,
   "id": "c2329ccc",
   "metadata": {},
   "outputs": [],
   "source": [
    "columns_to_remove = [ 'LastMod_SalesUser','Source','ActualFlightDate','mny_Tax_1_Percentage', \"Percent\",'ChargeDate', 'Base_Charge','Base_Taxes','TotalCharge1','mny_Exchange_Rate','PositiveChargePAX','CancellationDate',\n",
    "       'PaxStatus', 'ChargeStatus', 'SeatSold']\n",
    "report_df = report_df.drop(columns=columns_to_remove)\n",
    "\n",
    "report_df['NetCharge'] = report_df['NetCharge'].str.replace('$', '')\n",
    "report_df['NetCharge'] = report_df['NetCharge'].str.replace(')', '')\n",
    "report_df['NetCharge'] = report_df['NetCharge'].str.replace('(', '-')\n",
    "report_df['NetCharge'] = report_df['NetCharge'].astype(float)\n",
    "\n",
    "report_df['Taxes'] = report_df['Taxes'].str.replace('$', '')\n",
    "report_df['Taxes'] = report_df['Taxes'].str.replace(')', '')\n",
    "report_df['Taxes'] = report_df['Taxes'].str.replace('(', '-')\n",
    "report_df['Taxes'] = report_df['Taxes'].astype(float)\n",
    "\n",
    "report_df['TotalCharge'] = report_df['TotalCharge'].str.replace('$', '')\n",
    "report_df['TotalCharge'] = report_df['TotalCharge'].str.replace(')', '')\n",
    "report_df['TotalCharge'] = report_df['TotalCharge'].str.replace('(', '-')\n",
    "report_df['TotalCharge'] = report_df['TotalCharge'].astype(float)\n",
    "\n",
    "#report_df['Percent'] = report_df['Percent'].str.replace('%', '')\n",
    "#report_df['mny_Exchange_Rate'] = report_df['mny_Exchange_Rate'].astype(float)\n",
    "report_df['FlightDate1'] = pd.to_datetime(report_df['FlightDate1'])\n",
    "report_df['FlightDate1'] = report_df['FlightDate1'].dt.strftime('%m/%d/%Y')\n",
    "report_df['FlightDate1'] = pd.to_datetime(report_df['FlightDate1'])\n"
   ]
  },
  {
   "cell_type": "markdown",
   "id": "72f05fe9",
   "metadata": {},
   "source": [
    "# Compare two dataframes"
   ]
  },
  {
   "cell_type": "code",
   "execution_count": 67,
   "id": "f25848b5",
   "metadata": {},
   "outputs": [],
   "source": [
    "report_df.columns = snowflake_pd_df.columns "
   ]
  },
  {
   "cell_type": "code",
   "execution_count": 72,
   "id": "8ad61759",
   "metadata": {},
   "outputs": [],
   "source": [
    "def calculate_df2_accuracy(df1, df2):\n",
    "    merged = df1.merge(df2, how = 'outer', indicator = True)\n",
    "    df1_only = merged[merged['_merge'] == \"left_only\"]\n",
    "    df2_only = merged[merged['_merge'] == \"right_only\"]\n",
    "\n",
    "\n",
    "    # Calculate accuracy as a percentage\n",
    "    accuracy_df1 = ((len(df1) - len(df1_only)) / len(df1)) * 100\n",
    "    accuracy_df2 = ((len(df2) - len(df2_only)) / len(df2)) * 100\n",
    "\n",
    "    return accuracy_df1,accuracy_df2,df1_only,df2_only\n"
   ]
  },
  {
   "cell_type": "code",
   "execution_count": 73,
   "id": "4187b0cb",
   "metadata": {},
   "outputs": [
    {
     "name": "stdout",
     "output_type": "stream",
     "text": [
      "Accuracy: 94.73% snowflake records in report\n",
      "The number of records in snowflake but not in report is 4406\n",
      "Accuracy: 94.73% report records in snowflake\n",
      "The number of records in report but not in snowflake is 4365\n"
     ]
    }
   ],
   "source": [
    "report_accuracy,snowflake_accuracy,report_only,snowflake_only = calculate_df2_accuracy(report_df,snowflake_pd_df)\n",
    "print(f\"Accuracy: {snowflake_accuracy:.2f}%\" \" snowflake records in report\\nThe number of records in snowflake but not in report is\", len(snowflake_only))\n",
    "print(f\"Accuracy: {report_accuracy:.2f}%\"\" report records in snowflake\\nThe number of records in report but not in snowflake is\", len(report_only))"
   ]
  },
  {
   "cell_type": "markdown",
   "id": "10d27906",
   "metadata": {},
   "source": [
    "# Output the difference file"
   ]
  },
  {
   "cell_type": "code",
   "execution_count": 74,
   "id": "62792626",
   "metadata": {},
   "outputs": [],
   "source": [
    "try:\n",
    "    snowflake_only.to_csv(\"Revenue/snowflake_only_record.csv\", index=False) \n",
    "except:\n",
    "    print(\"No snowflake only records\")\n",
    "try:\n",
    "    report_only.to_csv(\"Revenue/report_only_record.csv\", index=False) \n",
    "except:\n",
    "    print(\"No report only records\")"
   ]
  }
 ],
 "metadata": {
  "kernelspec": {
   "display_name": "Python 3 (ipykernel)",
   "language": "python",
   "name": "python3"
  },
  "language_info": {
   "codemirror_mode": {
    "name": "ipython",
    "version": 3
   },
   "file_extension": ".py",
   "mimetype": "text/x-python",
   "name": "python",
   "nbconvert_exporter": "python",
   "pygments_lexer": "ipython3",
   "version": "3.8.17"
  }
 },
 "nbformat": 4,
 "nbformat_minor": 5
}
