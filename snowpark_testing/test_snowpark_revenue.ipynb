{
 "cells": [
  {
   "cell_type": "markdown",
   "id": "afcb2955",
   "metadata": {},
   "source": [
    "## columns not tested yet, 'Leg Status','Sales Username','Charge Date'"
   ]
  },
  {
   "cell_type": "code",
   "execution_count": 1,
   "id": "c616dc23",
   "metadata": {},
   "outputs": [],
   "source": [
    "from snowflake.snowpark.session import Session\n",
    "from snowflake.snowpark.types import *\n",
    "from snowflake.snowpark.functions import col, lit\n",
    "import getpass\n",
    "import pandas as pd\n",
    "import json\n",
    "from get_secret import get_secret\n",
    "from datetime import datetime\n",
    "import snowflake.snowpark.functions as F"
   ]
  },
  {
   "cell_type": "code",
   "execution_count": 2,
   "id": "d3693af2",
   "metadata": {},
   "outputs": [],
   "source": [
    "connection_parameters = json.loads(get_secret())\n",
    "connection_parameters.update({'warehouse':'COMPUTE_WH', 'database':'ANALYTICS_PROD','schema': 'IOATAWARE',\"loglevel\":'DEBUG'})\n",
    "session = Session.builder.configs(connection_parameters).create()"
   ]
  },
  {
   "cell_type": "code",
   "execution_count": 3,
   "id": "486af731",
   "metadata": {},
   "outputs": [
    {
     "name": "stdout",
     "output_type": "stream",
     "text": [
      "Current Database and schema: \"ANALYTICS_PROD\".\"IOATAWARE\"\n",
      "Current Warehouse: \"COMPUTE_WH\"\n"
     ]
    }
   ],
   "source": [
    "print(f\"Current Database and schema: {session.get_fully_qualified_current_schema()}\")\n",
    "print(f\"Current Warehouse: {session.get_current_warehouse()}\")"
   ]
  },
  {
   "cell_type": "code",
   "execution_count": 4,
   "id": "d683c8e0",
   "metadata": {},
   "outputs": [],
   "source": [
    "import warnings\n",
    "\n",
    "# Ignore all warnings\n",
    "warnings.filterwarnings('ignore', category=Warning)"
   ]
  },
  {
   "cell_type": "markdown",
   "id": "2d67dcc2",
   "metadata": {},
   "source": [
    "# Import and clean snowflake views"
   ]
  },
  {
   "cell_type": "code",
   "execution_count": 5,
   "id": "91f41bed",
   "metadata": {},
   "outputs": [],
   "source": [
    "view_name = \"VW_REVENUE_RAW_DATA\"\n",
    "flight_date1 = \"07/30/2023\"\n",
    "flight_date2 = \"07/31/2023\""
   ]
  },
  {
   "cell_type": "code",
   "execution_count": 6,
   "id": "b3160ace",
   "metadata": {},
   "outputs": [],
   "source": [
    "snowpark_df = session.table(view_name)"
   ]
  },
  {
   "cell_type": "code",
   "execution_count": 7,
   "id": "f29f3ac0",
   "metadata": {},
   "outputs": [],
   "source": [
    "snowflake_pd_df1 = snowpark_df.filter(F.col('Flight Date') == flight_date1 ).to_pandas()\n",
    "snowflake_pd_df2 = snowpark_df.filter(F.col('Flight Date') == flight_date2 ).to_pandas() "
   ]
  },
  {
   "cell_type": "code",
   "execution_count": 8,
   "id": "230648ff",
   "metadata": {},
   "outputs": [],
   "source": [
    "snowflake_pd_df = pd.concat([snowflake_pd_df1,snowflake_pd_df2]).reset_index()"
   ]
  },
  {
   "cell_type": "code",
   "execution_count": 9,
   "id": "32f60f43",
   "metadata": {
    "scrolled": true
   },
   "outputs": [],
   "source": [
    "# snowflake_pd_df['combined_timestamp'] = pd.to_datetime(snowflake_pd_df['Flight Date'] + ' ' + snowflake_pd_df['Flight time'])\n",
    "# snowflake_pd_df['combined_timestamp_mt'] = snowflake_pd_df['combined_timestamp'].dt.tz_localize('UTC').dt.tz_convert('US/Mountain')\n",
    "# snowflake_pd_df['Flight Date'] = snowflake_pd_df['combined_timestamp_mt'].dt.date\n",
    "#snowflake_pd_df['Charge Date'] = pd.to_datetime(snowflake_pd_df['Charge Date']).dt.tz_localize('UTC').dt.tz_convert('US/Mountain')"
   ]
  },
  {
   "cell_type": "code",
   "execution_count": 10,
   "id": "45d75888",
   "metadata": {},
   "outputs": [],
   "source": [
    "snowflake_pd_df = snowflake_pd_df[snowflake_pd_df['Flight Date'] == \"07/30/2023\"]"
   ]
  },
  {
   "cell_type": "code",
   "execution_count": 11,
   "id": "1eec3bb7",
   "metadata": {},
   "outputs": [
    {
     "data": {
      "text/plain": [
       "Index(['index', 'Flight Date', 'Reservation Nmbr', 'Sked Detail Id Nmbr',\n",
       "       'Charge Date', 'Departure', 'Arrival', 'Legs Id Nmbr', 'Charge Type',\n",
       "       'Net Charge', 'Taxes', 'Total Charge', 'Charge Type Desc',\n",
       "       'Flight Nmbr', '\\tPercent of Full Leg', 'Charges Desc', 'User Id Nmbr',\n",
       "       'Leg Nmbr', 'Segments Id Nmbr', 'Agency Id Nmbr', 'Reference',\n",
       "       'Currency Ident', 'Agency Name', 'Sales Username', 'Transborder',\n",
       "       'Leg Status', 'Category', 'Ancillary Category', 'Purchase Cnt',\n",
       "       'Classification', 'Channel'],\n",
       "      dtype='object')"
      ]
     },
     "execution_count": 11,
     "metadata": {},
     "output_type": "execute_result"
    }
   ],
   "source": [
    "snowflake_pd_df.columns"
   ]
  },
  {
   "cell_type": "code",
   "execution_count": 12,
   "id": "d1ab6f08",
   "metadata": {},
   "outputs": [],
   "source": [
    "#Remove the column we are not testing for now"
   ]
  },
  {
   "cell_type": "code",
   "execution_count": 13,
   "id": "341838fc",
   "metadata": {},
   "outputs": [],
   "source": [
    "columns_to_remove = ['index','Charge Date','\\tPercent of Full Leg','Leg Status','Sales Username']\n",
    "snowflake_pd_df = snowflake_pd_df.drop(columns=columns_to_remove)\n",
    "\n",
    "snowflake_pd_df['Flight Date'] = pd.to_datetime(snowflake_pd_df['Flight Date'])\n",
    "snowflake_pd_df['Net Charge'] = snowflake_pd_df['Net Charge'].astype(float)\n",
    "snowflake_pd_df['Taxes'] = snowflake_pd_df['Taxes'].astype(float)\n",
    "snowflake_pd_df['Total Charge'] = snowflake_pd_df['Total Charge'].astype(float)\n",
    "snowflake_pd_df['Flight Nmbr'] = snowflake_pd_df['Flight Nmbr'].astype(int)"
   ]
  },
  {
   "cell_type": "code",
   "execution_count": 14,
   "id": "47161db8",
   "metadata": {},
   "outputs": [],
   "source": [
    "snowflake_pd_df = snowflake_pd_df[snowflake_pd_df['Flight Date'] == flight_date1]"
   ]
  },
  {
   "cell_type": "markdown",
   "id": "0040d98b",
   "metadata": {},
   "source": [
    "# Import and clean report data"
   ]
  },
  {
   "cell_type": "code",
   "execution_count": 15,
   "id": "a1d27d5e",
   "metadata": {},
   "outputs": [],
   "source": [
    "report_df = pd.read_csv('Revenue/Revenue_Raw_Data_0730_Beta.csv', skiprows=0)   "
   ]
  },
  {
   "cell_type": "code",
   "execution_count": 16,
   "id": "32814cd9",
   "metadata": {},
   "outputs": [
    {
     "data": {
      "text/plain": [
       "Index(['Source', 'FlightDate1', 'ActualFlightDate', 'lng_Reservation_Nmbr',\n",
       "       'lng_Sked_Detail_Id_Nmbr', 'ChargeDate', 'Departure', 'Arrival',\n",
       "       'lng_Res_Legs_Id_Nmbr', 'ChargeType', 'NetCharge', 'Taxes',\n",
       "       'mny_Tax_1_Percentage', 'TotalCharge', 'str_GL_Charge_Type_Desc',\n",
       "       'str_Flight_Nmbr', 'Percent', 'str_GL_Charges_Desc',\n",
       "       'lng_Creation_User_Id_Nmbr', 'lng_Leg_Nmbr', 'lng_Res_Segments_Id_Nmbr',\n",
       "       'lng_Agency_Id_Nmbr', 'Reference', 'str_Currency_Ident', 'Base_Charge',\n",
       "       'Base_Taxes', 'mny_Exchange_Rate', 'TotalCharge1', 'str_Agency_Name',\n",
       "       'LastMod_SalesUser', 'Transborder', 'str_Leg_Status', 'Category',\n",
       "       'AncillaryCategory', 'PurchaseCnt', 'PositiveChargePAX',\n",
       "       'Classification', 'Channel', 'CancellationDate', 'PaxStatus',\n",
       "       'ChargeStatus', 'SeatSold'],\n",
       "      dtype='object')"
      ]
     },
     "execution_count": 16,
     "metadata": {},
     "output_type": "execute_result"
    }
   ],
   "source": [
    "report_df.columns"
   ]
  },
  {
   "cell_type": "code",
   "execution_count": 17,
   "id": "c2329ccc",
   "metadata": {},
   "outputs": [],
   "source": [
    "columns_to_remove = ['LastMod_SalesUser','str_Leg_Status','Source','ActualFlightDate','mny_Tax_1_Percentage','Percent', 'ChargeDate', 'Base_Charge','Base_Taxes','TotalCharge1','mny_Exchange_Rate','PositiveChargePAX','CancellationDate',\n",
    "       'PaxStatus', 'ChargeStatus', 'SeatSold']\n",
    "report_df = report_df.drop(columns=columns_to_remove)\n",
    "\n",
    "report_df['NetCharge'] = report_df['NetCharge'].str.replace('$', '')\n",
    "report_df['NetCharge'] = report_df['NetCharge'].str.replace(')', '')\n",
    "report_df['NetCharge'] = report_df['NetCharge'].str.replace('(', '-')\n",
    "report_df['NetCharge'] = report_df['NetCharge'].astype(float)\n",
    "\n",
    "report_df['Taxes'] = report_df['Taxes'].str.replace('$', '')\n",
    "report_df['Taxes'] = report_df['Taxes'].str.replace(')', '')\n",
    "report_df['Taxes'] = report_df['Taxes'].str.replace('(', '-')\n",
    "report_df['Taxes'] = report_df['Taxes'].astype(float)\n",
    "\n",
    "report_df['TotalCharge'] = report_df['TotalCharge'].str.replace('$', '')\n",
    "report_df['TotalCharge'] = report_df['TotalCharge'].str.replace(')', '')\n",
    "report_df['TotalCharge'] = report_df['TotalCharge'].str.replace('(', '-')\n",
    "report_df['TotalCharge'] = report_df['TotalCharge'].astype(float)\n",
    "\n",
    "#report_df['Percent'] = report_df['Percent'].str.replace('%', '')\n",
    "#report_df['mny_Exchange_Rate'] = report_df['mny_Exchange_Rate'].astype(float)\n",
    "report_df['FlightDate1'] = pd.to_datetime(report_df['FlightDate1'])\n",
    "report_df['FlightDate1'] = report_df['FlightDate1'].dt.strftime('%m/%d/%Y')\n",
    "report_df['FlightDate1'] = pd.to_datetime(report_df['FlightDate1'])"
   ]
  },
  {
   "cell_type": "code",
   "execution_count": 18,
   "id": "1782345a",
   "metadata": {},
   "outputs": [],
   "source": [
    "report_df.columns = snowflake_pd_df.columns "
   ]
  },
  {
   "cell_type": "markdown",
   "id": "72f05fe9",
   "metadata": {},
   "source": [
    "# Compare two dataframes"
   ]
  },
  {
   "cell_type": "code",
   "execution_count": 19,
   "id": "fb597347",
   "metadata": {},
   "outputs": [],
   "source": [
    "merged = snowflake_pd_df.merge(report_df, how = 'outer', indicator = True)\n",
    "snowflake_only = merged[merged['_merge'] == \"left_only\"]\n",
    "report_only = merged[merged['_merge'] == \"right_only\"]"
   ]
  },
  {
   "cell_type": "code",
   "execution_count": 20,
   "id": "8ad61759",
   "metadata": {},
   "outputs": [],
   "source": [
    "def calculate_df2_accuracy(df1, df2):\n",
    "    merged = df1.merge(df2, how = 'outer', indicator = True)\n",
    "    #matched = merged[merged['_merge'] == \"both\"]\n",
    "    df1_only = merged[merged['_merge'] == \"left_only\"]\n",
    "    df2_only = merged[merged['_merge'] == \"right_only\"]\n",
    "\n",
    "    # Calculate the total number of elements\n",
    "    total_elements = len(df2)\n",
    "\n",
    "    # Calculate accuracy as a percentage\n",
    "    accuracy = ((total_elements - len(df2_only)) / total_elements) * 100\n",
    "\n",
    "    return accuracy\n"
   ]
  },
  {
   "cell_type": "code",
   "execution_count": 21,
   "id": "54007ffd",
   "metadata": {},
   "outputs": [
    {
     "name": "stdout",
     "output_type": "stream",
     "text": [
      "Accuracy: 99.13%\n"
     ]
    }
   ],
   "source": [
    "accuracy_percentage = calculate_df2_accuracy(report_df,snowflake_pd_df)\n",
    "print(f\"Accuracy: {accuracy_percentage:.2f}%\")"
   ]
  },
  {
   "cell_type": "code",
   "execution_count": 22,
   "id": "6c9cf9fd",
   "metadata": {},
   "outputs": [
    {
     "name": "stdout",
     "output_type": "stream",
     "text": [
      "Accuracy: 98.99%\n"
     ]
    }
   ],
   "source": [
    "accuracy_percentage = calculate_df2_accuracy(snowflake_pd_df, report_df)\n",
    "print(f\"Accuracy: {accuracy_percentage:.2f}%\")"
   ]
  },
  {
   "cell_type": "markdown",
   "id": "10d27906",
   "metadata": {},
   "source": [
    "# Output the difference file"
   ]
  },
  {
   "cell_type": "code",
   "execution_count": 23,
   "id": "62792626",
   "metadata": {},
   "outputs": [],
   "source": [
    "try:\n",
    "    snowflake_only.to_csv(\"snowflake_only_record.csv\", index=False) \n",
    "except:\n",
    "    print(\"No snowflake only records\")\n",
    "try:\n",
    "    report_only.to_csv(\"report_only_record.csv\", index=False) \n",
    "except:\n",
    "    print(\"No report only records\")"
   ]
  },
  {
   "cell_type": "code",
   "execution_count": null,
   "id": "40491bec",
   "metadata": {},
   "outputs": [],
   "source": []
  },
  {
   "cell_type": "code",
   "execution_count": null,
   "id": "47afa8c4",
   "metadata": {},
   "outputs": [],
   "source": []
  }
 ],
 "metadata": {
  "kernelspec": {
   "display_name": "Python 3 (ipykernel)",
   "language": "python",
   "name": "python3"
  },
  "language_info": {
   "codemirror_mode": {
    "name": "ipython",
    "version": 3
   },
   "file_extension": ".py",
   "mimetype": "text/x-python",
   "name": "python",
   "nbconvert_exporter": "python",
   "pygments_lexer": "ipython3",
   "version": "3.8.17"
  }
 },
 "nbformat": 4,
 "nbformat_minor": 5
}
