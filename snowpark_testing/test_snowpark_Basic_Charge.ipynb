{
 "cells": [
  {
   "cell_type": "markdown",
   "id": "ea681461",
   "metadata": {},
   "source": [
    "## Accuracy: 98.33% \n",
    "\n",
    "Things to note:\n",
    "1. Column to drop - purchase cnt/Ancillary Category/Resident Base Discount different\n",
    "2. \"Sked Detail Id Nmbr\" is null"
   ]
  },
  {
   "cell_type": "code",
   "execution_count": 29,
   "id": "b80fcc6d",
   "metadata": {},
   "outputs": [],
   "source": [
    "from snowflake.snowpark.session import Session\n",
    "from snowflake.snowpark.types import *\n",
    "from snowflake.snowpark.functions import col, lit\n",
    "import getpass\n",
    "import pandas as pd\n",
    "import json\n",
    "from get_secret import get_secret\n",
    "from datetime import datetime\n",
    "import snowflake.snowpark.functions as F"
   ]
  },
  {
   "cell_type": "code",
   "execution_count": 30,
   "id": "d3693af2",
   "metadata": {},
   "outputs": [],
   "source": [
    "connection_parameters = json.loads(get_secret())\n",
    "connection_parameters.update({'warehouse':'COMPUTE_WH', 'database':'ANALYTICS_PROD','schema': 'IOATAWARE',\"loglevel\":'DEBUG'})\n",
    "session = Session.builder.configs(connection_parameters).create()"
   ]
  },
  {
   "cell_type": "code",
   "execution_count": 31,
   "id": "486af731",
   "metadata": {},
   "outputs": [
    {
     "name": "stdout",
     "output_type": "stream",
     "text": [
      "Current Database and schema: \"ANALYTICS_PROD\".\"IOATAWARE\"\n",
      "Current Warehouse: \"COMPUTE_WH\"\n"
     ]
    }
   ],
   "source": [
    "print(f\"Current Database and schema: {session.get_fully_qualified_current_schema()}\")\n",
    "print(f\"Current Warehouse: {session.get_current_warehouse()}\")"
   ]
  },
  {
   "cell_type": "markdown",
   "id": "2d67dcc2",
   "metadata": {},
   "source": [
    "# Import and clean snowflake views"
   ]
  },
  {
   "cell_type": "code",
   "execution_count": 46,
   "id": "91f41bed",
   "metadata": {},
   "outputs": [],
   "source": [
    "view_name = \"VW_BASIC_CHARGE_DATA\"\n",
    "charge_date = \"08/01/2023\""
   ]
  },
  {
   "cell_type": "code",
   "execution_count": 47,
   "id": "b3160ace",
   "metadata": {},
   "outputs": [],
   "source": [
    "snowpark_df = session.table(view_name)"
   ]
  },
  {
   "cell_type": "code",
   "execution_count": 48,
   "id": "f29f3ac0",
   "metadata": {},
   "outputs": [],
   "source": [
    "snowflake_pd_df = snowpark_df.filter(F.col('Charge Date') == charge_date ).to_pandas()"
   ]
  },
  {
   "cell_type": "code",
   "execution_count": 49,
   "id": "341838fc",
   "metadata": {},
   "outputs": [
    {
     "name": "stderr",
     "output_type": "stream",
     "text": [
      "C:\\Users\\Ruiying.Zhang\\AppData\\Local\\Temp\\ipykernel_34676\\726888522.py:7: UserWarning: Could not infer format, so each element will be parsed individually, falling back to `dateutil`. To ensure parsing is consistent and as-expected, please specify a format.\n",
      "  snowflake_pd_df['CHARGE_DATE'] = pd.to_datetime(snowflake_pd_df['CHARGE_DATE'])\n"
     ]
    }
   ],
   "source": [
    "columns_to_remove = ['SOURCE','Charge Date']\n",
    "snowflake_pd_df = snowflake_pd_df.drop(columns=columns_to_remove)\n",
    "\n",
    "snowflake_pd_df['CHARGE_AMT'] = snowflake_pd_df['CHARGE_AMT'].astype(float)\n",
    "snowflake_pd_df['CHARGE TAXES'] = snowflake_pd_df['CHARGE TAXES'].astype(float)\n",
    "snowflake_pd_df['CHARGE TOTAL'] = snowflake_pd_df['CHARGE TOTAL'].astype(float)\n",
    "snowflake_pd_df['CHARGE_DATE'] = pd.to_datetime(snowflake_pd_df['CHARGE_DATE'])"
   ]
  },
  {
   "cell_type": "code",
   "execution_count": 66,
   "id": "a158cdba",
   "metadata": {},
   "outputs": [],
   "source": [
    "#snowflake_pd_df.dtypes"
   ]
  },
  {
   "cell_type": "markdown",
   "id": "0040d98b",
   "metadata": {},
   "source": [
    "# Import and clean report data"
   ]
  },
  {
   "cell_type": "code",
   "execution_count": 51,
   "id": "a1d27d5e",
   "metadata": {},
   "outputs": [],
   "source": [
    "report_df = pd.read_csv('not_start_Basic_Charge/Basic_Charges_0801_Amelia.csv', skiprows=0)   "
   ]
  },
  {
   "cell_type": "code",
   "execution_count": 52,
   "id": "5014e702",
   "metadata": {},
   "outputs": [],
   "source": [
    "def process_fee_column(value):\n",
    "    value = value.replace('$', '')  # Remove $\n",
    "    value = value.replace(')', '')   # Remove )\n",
    "    value = value.replace('(', '-')   # Replace ( with -\n",
    "    return float(value)"
   ]
  },
  {
   "cell_type": "code",
   "execution_count": 53,
   "id": "c2329ccc",
   "metadata": {},
   "outputs": [
    {
     "name": "stderr",
     "output_type": "stream",
     "text": [
      "C:\\Users\\Ruiying.Zhang\\AppData\\Local\\Temp\\ipykernel_34676\\4230663066.py:10: UserWarning: Could not infer format, so each element will be parsed individually, falling back to `dateutil`. To ensure parsing is consistent and as-expected, please specify a format.\n",
      "  report_df['CHARGE_DATE'] = pd.to_datetime(report_df['CHARGE_DATE'])\n"
     ]
    }
   ],
   "source": [
    "columns_to_remove = ['Source','SALE_USERNAME']\n",
    "report_df = report_df.drop(columns=columns_to_remove)\n",
    "\n",
    "columns_to_process = ['CHARGE_AMT', 'CHARGE_TAXES','CHARGE_TOTAL']\n",
    "\n",
    "# Apply the function to specified columns in the dataframe\n",
    "for col in columns_to_process:\n",
    "    report_df[col] = report_df[col].apply(process_fee_column)\n",
    "\n",
    "report_df['CHARGE_DATE'] = pd.to_datetime(report_df['CHARGE_DATE'])"
   ]
  },
  {
   "cell_type": "code",
   "execution_count": 54,
   "id": "c33a982b",
   "metadata": {},
   "outputs": [],
   "source": [
    "#report_df.dtypes"
   ]
  },
  {
   "cell_type": "markdown",
   "id": "72f05fe9",
   "metadata": {},
   "source": [
    "# Compare two dataframes"
   ]
  },
  {
   "cell_type": "code",
   "execution_count": 55,
   "id": "5e0c8c08",
   "metadata": {},
   "outputs": [],
   "source": [
    "snowflake_pd_df.columns = report_df.columns"
   ]
  },
  {
   "cell_type": "code",
   "execution_count": 56,
   "id": "8ad61759",
   "metadata": {},
   "outputs": [],
   "source": [
    "def calculate_df2_accuracy(df1, df2):\n",
    "    merged = df1.merge(df2, how = 'outer', indicator = True)\n",
    "    df1_only = merged[merged['_merge'] == \"left_only\"]\n",
    "    df2_only = merged[merged['_merge'] == \"right_only\"]\n",
    "\n",
    "\n",
    "    # Calculate accuracy as a percentage\n",
    "    accuracy_df1 = ((len(df1) - len(df1_only)) / len(df1)) * 100\n",
    "    accuracy_df2 = ((len(df2) - len(df2_only)) / len(df2)) * 100\n",
    "\n",
    "    return accuracy_df1,accuracy_df2,df1_only,df2_only\n"
   ]
  },
  {
   "cell_type": "code",
   "execution_count": 57,
   "id": "a519794f",
   "metadata": {},
   "outputs": [],
   "source": [
    "report_accuracy,snowflake_accuracy,report_only,snowflake_only = calculate_df2_accuracy(report_df,snowflake_pd_df)"
   ]
  },
  {
   "cell_type": "code",
   "execution_count": 58,
   "id": "03c1f944",
   "metadata": {},
   "outputs": [
    {
     "name": "stdout",
     "output_type": "stream",
     "text": [
      "Accuracy: 60.03% snowflake records in report\n",
      "The number of records in snowflake but not in report is 61783\n",
      "Accuracy: 99.99% report records in snowflake\n",
      "The number of records in report but not in snowflake is 7\n"
     ]
    }
   ],
   "source": [
    "print(f\"Accuracy: {snowflake_accuracy:.2f}%\" \" snowflake records in report\\nThe number of records in snowflake but not in report is\", len(snowflake_only))\n",
    "print(f\"Accuracy: {report_accuracy:.2f}%\"\" report records in snowflake\\nThe number of records in report but not in snowflake is\", len(report_only))"
   ]
  },
  {
   "cell_type": "markdown",
   "id": "10d27906",
   "metadata": {},
   "source": [
    "# Output the difference file"
   ]
  },
  {
   "cell_type": "code",
   "execution_count": 60,
   "id": "62792626",
   "metadata": {},
   "outputs": [],
   "source": [
    "try:\n",
    "    snowflake_only.to_csv(\"Basic_Charge/snowflake_only_record.csv\", index=False) \n",
    "except:\n",
    "    print(\"No snowflake only records\")\n",
    "try:\n",
    "    report_only.to_csv(\"Basic_Charge/report_only_record.csv\", index=False) \n",
    "except:\n",
    "    print(\"No report only records\")"
   ]
  },
  {
   "cell_type": "code",
   "execution_count": 61,
   "id": "0917d537",
   "metadata": {},
   "outputs": [],
   "source": [
    "snow_res = list(snowflake_pd_df['RES_NMBR'].unique())\n",
    "report_res = list(report_df['RES_NMBR'].unique())"
   ]
  },
  {
   "cell_type": "code",
   "execution_count": 63,
   "id": "143411ac",
   "metadata": {},
   "outputs": [],
   "source": [
    "report_file_path = \"Basic_Charge/report_reservation.txt\"\n",
    "with open(report_file_path, \"w\") as file:\n",
    "    for item in report_res:\n",
    "        file.write(\"%s,\" % item)"
   ]
  },
  {
   "cell_type": "code",
   "execution_count": 65,
   "id": "6fff31d6",
   "metadata": {},
   "outputs": [],
   "source": [
    "elements_in_snow_not_in_report = list(set(snow_res) - set(report_res))\n",
    "elements_in_report_not_in_snow = list(set(report_res)-set(snow_res))\n",
    "\n",
    "snow_file_path = \"Basic_Charge/snowonly_reservation.txt\"\n",
    "report_file_path = \"Basic_Charge/reportonly_reservation.txt\"\n",
    "\n",
    "# Open the file for writing\n",
    "with open(snow_file_path, \"w\") as file:\n",
    "    for item in elements_in_snow_not_in_report:\n",
    "        file.write(\"%s,\" % item)\n",
    "with open(report_file_path, \"w\") as file:\n",
    "    for item in elements_in_snow_not_in_report:\n",
    "        file.write(\"%s,\" % item)"
   ]
  }
 ],
 "metadata": {
  "kernelspec": {
   "display_name": "Python 3 (ipykernel)",
   "language": "python",
   "name": "python3"
  },
  "language_info": {
   "codemirror_mode": {
    "name": "ipython",
    "version": 3
   },
   "file_extension": ".py",
   "mimetype": "text/x-python",
   "name": "python",
   "nbconvert_exporter": "python",
   "pygments_lexer": "ipython3",
   "version": "3.8.17"
  }
 },
 "nbformat": 4,
 "nbformat_minor": 5
}
