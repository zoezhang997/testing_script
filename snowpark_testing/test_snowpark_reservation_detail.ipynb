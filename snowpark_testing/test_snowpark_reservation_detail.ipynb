{
 "cells": [
  {
   "cell_type": "markdown",
   "id": "ea681461",
   "metadata": {},
   "source": [
    "## Accuracy: \n",
    "\n",
    "things to change:\n",
    "1. Kilometers/Charge Delta is blank for original script\n",
    "2. str leg status is not matched\n",
    "3. LastMod_SalesUser is not matched\n",
    "4. TBL_RES_SEGMENTS join issue\n",
    "\n",
    "things to note:\n",
    "1. Route Pair doesn't matter?"
   ]
  },
  {
   "cell_type": "code",
   "execution_count": 3,
   "id": "b80fcc6d",
   "metadata": {},
   "outputs": [],
   "source": [
    "from helpfile import *"
   ]
  },
  {
   "cell_type": "markdown",
   "id": "2d67dcc2",
   "metadata": {},
   "source": [
    "# Import and clean snowflake views"
   ]
  },
  {
   "cell_type": "code",
   "execution_count": null,
   "id": "3013ec01",
   "metadata": {},
   "outputs": [],
   "source": [
    "query = \"\"\"select * from ANALYTICS_PROD.IOATAWARE.VW_RESERVATION_DETAIL_RESERVATION_NUMBER where \"Reservation Nmbr\"=6297651\n",
    "    \"\"\"\n",
    "snowflake_pd_df = get_data(query)"
   ]
  },
  {
   "cell_type": "code",
   "execution_count": null,
   "id": "341838fc",
   "metadata": {},
   "outputs": [],
   "source": [
    "columns_to_remove = ['Charge Delta','Kilometers','str Leg Status','Last Mod Sales User','Route Pair']\n",
    "snowflake_pd_df = snowflake_pd_df.drop(columns=columns_to_remove)\n",
    "\n",
    "snowflake_pd_df['Charge Date'] = pd.to_datetime(snowflake_pd_df['Charge Date'])\n",
    "\n",
    "snowflake_pd_df['Flight Date'] = pd.to_datetime(snowflake_pd_df['Flight Date'])\n",
    "snowflake_pd_df['Flight Date'] =snowflake_pd_df['Flight Date'].dt.strftime('%m/%d/%Y')\n",
    "snowflake_pd_df['Flight Date'] = pd.to_datetime(snowflake_pd_df['Flight Date'])\n",
    "\n",
    "snowflake_pd_df['Net Charge'] = snowflake_pd_df['Net Charge'].astype(float)\n",
    "snowflake_pd_df['Taxes'] = snowflake_pd_df['Taxes'].astype(float)\n",
    "snowflake_pd_df['Total Charge'] = snowflake_pd_df['Total Charge'].astype(float)\n",
    "snowflake_pd_df['Flight_Nmbr'] = snowflake_pd_df['Flight_Nmbr'].astype(int)\n",
    "snowflake_pd_df['Base NetCharge'] = snowflake_pd_df['Base NetCharge'].astype(float)\n",
    "snowflake_pd_df['Ancillary NetCharge'] = snowflake_pd_df['Ancillary NetCharge'].astype(float)\n",
    "# snowflake_pd_df['Route Pair'] = snowflake_pd_df['Route Pair'].str.replace('  ', '')\n",
    "# snowflake_pd_df['Route Pair'] = snowflake_pd_df['Route Pair'].str.replace(' ', '')\n",
    "snowflake_pd_df['Description'] = snowflake_pd_df['Description'].str.replace(r'^\\s+', '', regex=True)\n",
    "\n",
    "\n",
    "snowflake_pd_df['Percent'] = snowflake_pd_df['Percent'].replace('%', '').astype(float)\n",
    "snowflake_pd_df['Exchange Rate'] = snowflake_pd_df['Exchange Rate'].replace('%', '').astype(float)\n",
    "snowflake_pd_df['Tax Percentage'] = snowflake_pd_df['Tax Percentage'].str.replace('%', '').astype(float)\n",
    "\n",
    "snowflake_pd_df['Base Charge'] = snowflake_pd_df['Base Charge'].astype(float)\n",
    "snowflake_pd_df['Base Discount'] = snowflake_pd_df['Base Discount'].astype(float)\n",
    "snowflake_pd_df['Base Taxes'] = snowflake_pd_df['Base Taxes'].astype(float)"
   ]
  },
  {
   "cell_type": "code",
   "execution_count": null,
   "id": "a158cdba",
   "metadata": {},
   "outputs": [],
   "source": [
    "#snowflake_pd_df.dtypes"
   ]
  },
  {
   "cell_type": "markdown",
   "id": "0040d98b",
   "metadata": {},
   "source": [
    "# Import and clean report data"
   ]
  },
  {
   "cell_type": "code",
   "execution_count": null,
   "id": "a1d27d5e",
   "metadata": {},
   "outputs": [],
   "source": [
    "report_df = pd.read_csv('Reservation_Detail/Reservation_Detail_Reservation_Number_6297651.csv', skiprows=0)   "
   ]
  },
  {
   "cell_type": "code",
   "execution_count": null,
   "id": "c2329ccc",
   "metadata": {},
   "outputs": [],
   "source": [
    "columns_to_remove = ['str_Promo_Code','CASM','ChargeDelta','Kilometers','str_Leg_Status','LastMod_SalesUser','RoutePair']\n",
    "report_df = report_df.drop(columns=columns_to_remove)\n",
    "\n",
    "columns_to_process = ['NetCharge', 'Taxes','TotalCharge1','Base_NetCharge','Ancillary_NetCharge','Base_Charge','Base_Discount','Base_Taxes']\n",
    "\n",
    "# Apply the function to specified columns in the dataframe\n",
    "for col in columns_to_process:\n",
    "    report_df[col] = report_df[col].apply(process_fee_column)\n",
    "\n",
    "report_df['ChargeDate'] = pd.to_datetime(report_df['ChargeDate'])\n",
    "report_df['ChargeDate'] =report_df['ChargeDate'].dt.strftime('%m/%d/%Y')\n",
    "report_df['ChargeDate'] = pd.to_datetime(report_df['ChargeDate'])\n",
    "report_df['FlightDate'] = pd.to_datetime(report_df['FlightDate'])\n",
    "report_df['FlightDate'] =report_df['FlightDate'].dt.strftime('%m/%d/%Y')\n",
    "report_df['FlightDate'] = pd.to_datetime(report_df['FlightDate'])\n",
    "# report_df['RoutePair'] = report_df['RoutePair'].str.replace(' ', '')\n",
    "\n",
    "report_df['Percent'] = report_df['Percent'].str.replace('%', '').astype(float)\n",
    "report_df['mny_Exchange_Rate'] = report_df['mny_Exchange_Rate'].str.replace('%', '').astype(float)\n",
    "report_df['mny_Tax_1_Percentage'] = report_df['mny_Tax_1_Percentage'].str.replace('%', '').astype(float)\n",
    "\n",
    "report_df['mny_Distance'] = report_df['mny_Distance'].str.replace(',', '').astype(int)\n",
    "report_df['Exchange_Rate'] = report_df['Exchange_Rate'].str.replace('%', '').astype(float)\n",
    "report_df['Leg_TotalDistance'] = report_df['Leg_TotalDistance'].str.replace(',', '').astype(int)"
   ]
  },
  {
   "cell_type": "code",
   "execution_count": null,
   "id": "81181561",
   "metadata": {},
   "outputs": [],
   "source": [
    "#report_df.dtypes"
   ]
  },
  {
   "cell_type": "markdown",
   "id": "72f05fe9",
   "metadata": {},
   "source": [
    "# Compare two dataframes"
   ]
  },
  {
   "cell_type": "code",
   "execution_count": 8,
   "id": "acbfe73e",
   "metadata": {},
   "outputs": [
    {
     "name": "stdout",
     "output_type": "stream",
     "text": [
      "Accuracy: 78.57% snowflake records in report\n",
      "The number of records in snowflake but not in report is 12\n",
      "Accuracy: 73.33% report records in snowflake\n",
      "The number of records in report but not in snowflake is 16\n"
     ]
    }
   ],
   "source": [
    "report_accuracy,snowflake_accuracy,report_only,snowflake_only = calculate_accuracy(report_df,snowflake_pd_df)\n",
    "print(f\"Accuracy: {snowflake_accuracy:.2f}%\" \" snowflake records in report\\nThe number of records in snowflake but not in report is\", len(snowflake_only))\n",
    "print(f\"Accuracy: {report_accuracy:.2f}%\"\" report records in snowflake\\nThe number of records in report but not in snowflake is\", len(report_only))"
   ]
  },
  {
   "cell_type": "code",
   "execution_count": 27,
   "id": "fa9ef634",
   "metadata": {},
   "outputs": [
    {
     "data": {
      "text/plain": [
       "Index(['ChargeDate', 'lng_Reservation_Nmbr', 'lng_Sked_Detail_Id_Nmbr',\n",
       "       'FlightDate', 'Departure', 'Arrival', 'lng_Res_Legs_Id_Nmbr',\n",
       "       'ChargeType', 'NetCharge', 'Taxes', 'TotalCharge1', 'lng_Leg_Nmbr',\n",
       "       'str_GL_Charge_Type_Desc', 'str_Flight_Nmbr', 'str_GL_Charges_Desc',\n",
       "       'Reference', 'str_Currency_Ident', 'lng_Res_Segments_Id_Nmbr',\n",
       "       'Transborder', 'str_Airline_Codes_Ident', 'mny_Distance',\n",
       "       'Leg_TotalDistance', 'str_Agency_Name', 'Percent', 'Category',\n",
       "       'lng_GL_Charge_Type_Id_Nmbr', 'str_Tax_Configuration_Name',\n",
       "       'mny_Tax_1_Percentage', 'mny_Exchange_Rate', 'LegDeparture',\n",
       "       'LegArrival', 'Description', 'Channel', 'Local', 'AncillaryCategory',\n",
       "       'PurchaseCnt', 'Base_NetCharge', 'Ancillary_NetCharge',\n",
       "       'TicketPurchase', 'TicketRefund', 'Country', 'Classification',\n",
       "       'Exchange_Rate', 'Base_Charge', 'Base_Discount', 'Base_Taxes'],\n",
       "      dtype='object')"
      ]
     },
     "execution_count": 27,
     "metadata": {},
     "output_type": "execute_result"
    }
   ],
   "source": [
    "report_df.columns"
   ]
  },
  {
   "cell_type": "code",
   "execution_count": 28,
   "id": "4b0b5334",
   "metadata": {},
   "outputs": [
    {
     "data": {
      "text/plain": [
       "Index(['Charge Date', 'Reservation Nmbr', 'Sked Detail Id Nmbr', 'Flight Date',\n",
       "       'Departure', 'Arrival', 'Res Legs Id Nmbr', 'Charge Type', 'Net Charge',\n",
       "       'Taxes', 'Total Charge', 'lng Leg Nmbr', 'GL Charge Type Desc',\n",
       "       'Flight_Nmbr', 'GL Charges Desc', 'PNR', 'Currency Ident',\n",
       "       'Res Segments Id Nmbr', 'Transborder', 'Airline Codes Ident',\n",
       "       'Distance', 'Leg Total Distance', 'Agency_Name', 'Percent', 'Category',\n",
       "       'GL Charge Type Id Nmbr', 'Tax Name', 'Tax Percentage', 'Exchange Rate',\n",
       "       'Leg Departure', 'Leg Arrival', 'Description', 'Channel', 'Local',\n",
       "       'Ancillary Category', 'Purchase Cnt', 'Base NetCharge',\n",
       "       'Ancillary NetCharge', 'Ticket Purchase', 'Ticket Refund', 'Country',\n",
       "       'Classification', 'Exchange_Rate', 'Base Charge', 'Base Discount',\n",
       "       'Base Taxes'],\n",
       "      dtype='object')"
      ]
     },
     "execution_count": 28,
     "metadata": {},
     "output_type": "execute_result"
    }
   ],
   "source": [
    "snowflake_pd_df.columns"
   ]
  },
  {
   "cell_type": "code",
   "execution_count": 2,
   "id": "779cdb6e",
   "metadata": {},
   "outputs": [
    {
     "ename": "NameError",
     "evalue": "name 'report_df' is not defined",
     "output_type": "error",
     "traceback": [
      "\u001b[1;31m---------------------------------------------------------------------------\u001b[0m",
      "\u001b[1;31mNameError\u001b[0m                                 Traceback (most recent call last)",
      "Cell \u001b[1;32mIn[2], line 2\u001b[0m\n\u001b[0;32m      1\u001b[0m \u001b[38;5;66;03m# Convert numeric columns to strings before concatenation\u001b[39;00m\n\u001b[1;32m----> 2\u001b[0m report_df[\u001b[38;5;124m'\u001b[39m\u001b[38;5;124mkey\u001b[39m\u001b[38;5;124m'\u001b[39m] \u001b[38;5;241m=\u001b[39m \u001b[43mreport_df\u001b[49m[\u001b[38;5;124m'\u001b[39m\u001b[38;5;124mlng_Reservation_Nmbr\u001b[39m\u001b[38;5;124m'\u001b[39m]\u001b[38;5;241m.\u001b[39mastype(\u001b[38;5;28mstr\u001b[39m) \u001b[38;5;241m+\u001b[39m \u001b[38;5;124m'\u001b[39m\u001b[38;5;124m/\u001b[39m\u001b[38;5;124m'\u001b[39m \u001b[38;5;241m+\u001b[39m report_df[\u001b[38;5;124m'\u001b[39m\u001b[38;5;124mstr_Flight_Nmbr\u001b[39m\u001b[38;5;124m'\u001b[39m]\u001b[38;5;241m.\u001b[39mastype(\u001b[38;5;28mstr\u001b[39m) \u001b[38;5;241m+\u001b[39m \u001b[38;5;124m'\u001b[39m\u001b[38;5;124m/\u001b[39m\u001b[38;5;124m'\u001b[39m \u001b[38;5;241m+\u001b[39m report_df[\u001b[38;5;124m'\u001b[39m\u001b[38;5;124mlng_Res_Legs_Id_Nmbr\u001b[39m\u001b[38;5;124m'\u001b[39m]\u001b[38;5;241m.\u001b[39mastype(\u001b[38;5;28mstr\u001b[39m)\n\u001b[0;32m      3\u001b[0m snowflake_pd_df[\u001b[38;5;124m'\u001b[39m\u001b[38;5;124mkey\u001b[39m\u001b[38;5;124m'\u001b[39m] \u001b[38;5;241m=\u001b[39m snowflake_pd_df[\u001b[38;5;124m'\u001b[39m\u001b[38;5;124mReservation Nmbr\u001b[39m\u001b[38;5;124m'\u001b[39m]\u001b[38;5;241m.\u001b[39mastype(\u001b[38;5;28mstr\u001b[39m) \u001b[38;5;241m+\u001b[39m \u001b[38;5;124m'\u001b[39m\u001b[38;5;124m/\u001b[39m\u001b[38;5;124m'\u001b[39m \u001b[38;5;241m+\u001b[39m snowflake_pd_df[\u001b[38;5;124m'\u001b[39m\u001b[38;5;124mFlight_Nmbr\u001b[39m\u001b[38;5;124m'\u001b[39m]\u001b[38;5;241m.\u001b[39mastype(\u001b[38;5;28mstr\u001b[39m) \u001b[38;5;241m+\u001b[39m \u001b[38;5;124m'\u001b[39m\u001b[38;5;124m/\u001b[39m\u001b[38;5;124m'\u001b[39m \u001b[38;5;241m+\u001b[39m snowflake_pd_df[\u001b[38;5;124m'\u001b[39m\u001b[38;5;124mRes Legs Id Nmbr\u001b[39m\u001b[38;5;124m'\u001b[39m]\u001b[38;5;241m.\u001b[39mastype(\u001b[38;5;28mstr\u001b[39m)\n",
      "\u001b[1;31mNameError\u001b[0m: name 'report_df' is not defined"
     ]
    }
   ],
   "source": [
    "# Convert numeric columns to strings before concatenation\n",
    "report_df['key'] = report_df['lng_Reservation_Nmbr'].astype(str) + '/' + report_df['str_Flight_Nmbr'].astype(str) + '/' + report_df['lng_Res_Legs_Id_Nmbr'].astype(str)\n",
    "snowflake_pd_df['key'] = snowflake_pd_df['Reservation Nmbr'].astype(str) + '/' + snowflake_pd_df['Flight_Nmbr'].astype(str) + '/' + snowflake_pd_df['Res Legs Id Nmbr'].astype(str)"
   ]
  },
  {
   "cell_type": "code",
   "execution_count": 1,
   "id": "b46142a0",
   "metadata": {},
   "outputs": [
    {
     "ename": "NameError",
     "evalue": "name 'report_df' is not defined",
     "output_type": "error",
     "traceback": [
      "\u001b[1;31m---------------------------------------------------------------------------\u001b[0m",
      "\u001b[1;31mNameError\u001b[0m                                 Traceback (most recent call last)",
      "Cell \u001b[1;32mIn[1], line 1\u001b[0m\n\u001b[1;32m----> 1\u001b[0m \u001b[43mreport_df\u001b[49m\n",
      "\u001b[1;31mNameError\u001b[0m: name 'report_df' is not defined"
     ]
    }
   ],
   "source": [
    "report_df"
   ]
  },
  {
   "cell_type": "code",
   "execution_count": 34,
   "id": "9f378580",
   "metadata": {},
   "outputs": [
    {
     "name": "stdout",
     "output_type": "stream",
     "text": [
      "60\n"
     ]
    },
    {
     "data": {
      "text/plain": [
       "11"
      ]
     },
     "execution_count": 34,
     "metadata": {},
     "output_type": "execute_result"
    }
   ],
   "source": [
    "print(len(report_df))\n",
    "len(set(report_df['key']))"
   ]
  },
  {
   "cell_type": "markdown",
   "id": "10d27906",
   "metadata": {},
   "source": [
    "# Output the difference file"
   ]
  },
  {
   "cell_type": "code",
   "execution_count": 9,
   "id": "62792626",
   "metadata": {},
   "outputs": [],
   "source": [
    "try:\n",
    "    snowflake_only.to_csv(\"Reservation_Detail/\"+\"snowflake_only_record.csv\", index=False) \n",
    "except:\n",
    "    print(\"No snowflake only records\")\n",
    "try:\n",
    "    report_only.to_csv(\"Reservation_Detail/\"+\"report_only_record.csv\", index=False) \n",
    "except:\n",
    "    print(\"No report only records\")"
   ]
  },
  {
   "cell_type": "code",
   "execution_count": 10,
   "id": "0917d537",
   "metadata": {},
   "outputs": [],
   "source": [
    "snow_res = list(snowflake_pd_df['Reservation Nmbr'].unique())\n",
    "report_res = list(report_df['Reservation Nmbr'].unique())"
   ]
  },
  {
   "cell_type": "code",
   "execution_count": 11,
   "id": "6fff31d6",
   "metadata": {},
   "outputs": [],
   "source": [
    "elements_in_snow_not_in_report = list(set(snow_res) - set(report_res))\n",
    "elements_in_report_not_in_snow = list(set(report_res)-set(snow_res))\n",
    "\n",
    "snow_file_path = \"Sales/snowonly_reservation.txt\"\n",
    "report_file_path = \"Sales/reportonly_reservation.txt\"\n",
    "\n",
    "# Open the file for writing\n",
    "with open(snow_file_path, \"w\") as file:\n",
    "    for item in elements_in_snow_not_in_report:\n",
    "        file.write(\"%s,\" % item)\n",
    "with open(report_file_path, \"w\") as file:\n",
    "    for item in elements_in_snow_not_in_report:\n",
    "        file.write(\"%s,\" % item)"
   ]
  }
 ],
 "metadata": {
  "kernelspec": {
   "display_name": "Python 3 (ipykernel)",
   "language": "python",
   "name": "python3"
  },
  "language_info": {
   "codemirror_mode": {
    "name": "ipython",
    "version": 3
   },
   "file_extension": ".py",
   "mimetype": "text/x-python",
   "name": "python",
   "nbconvert_exporter": "python",
   "pygments_lexer": "ipython3",
   "version": "3.8.17"
  }
 },
 "nbformat": 4,
 "nbformat_minor": 5
}
