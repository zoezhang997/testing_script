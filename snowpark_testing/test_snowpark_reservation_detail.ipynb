{
 "cells": [
  {
   "cell_type": "markdown",
   "id": "ea681461",
   "metadata": {},
   "source": [
    "## Accuracy: \n",
    "\n",
    "things to change:\n",
    "1. Kilometers/Charge Delta is blank for original script\n",
    "2. str leg status is not matched\n",
    "3. LastMod_SalesUser is not matched\n",
    "4. TBL_RES_SEGMENTS join issue\n",
    "\n",
    "things to note:\n",
    "1. Route Pair doesn't matter?"
   ]
  },
  {
   "cell_type": "code",
   "execution_count": 1,
   "id": "b80fcc6d",
   "metadata": {},
   "outputs": [],
   "source": [
    "from helpfile import *"
   ]
  },
  {
   "cell_type": "markdown",
   "id": "2d67dcc2",
   "metadata": {},
   "source": [
    "# Import and clean snowflake views"
   ]
  },
  {
   "cell_type": "code",
   "execution_count": 2,
   "id": "3013ec01",
   "metadata": {},
   "outputs": [],
   "source": [
    "query = \"\"\"select * from ANALYTICS_PROD.IOATAWARE.VW_RESERVATION_DETAIL_RESERVATION_NUMBER where \"Reservation Nmbr\"=6297651\n",
    "    \"\"\"\n",
    "snowflake_pd_df = get_data(query)"
   ]
  },
  {
   "cell_type": "code",
   "execution_count": 3,
   "id": "341838fc",
   "metadata": {},
   "outputs": [],
   "source": [
    "columns_to_remove = ['Charge Delta','Kilometers','str Leg Status','Last Mod Sales User','Route Pair']\n",
    "snowflake_pd_df = snowflake_pd_df.drop(columns=columns_to_remove)\n",
    "\n",
    "snowflake_pd_df['Charge Date'] = pd.to_datetime(snowflake_pd_df['Charge Date'])\n",
    "\n",
    "snowflake_pd_df['Flight Date'] = pd.to_datetime(snowflake_pd_df['Flight Date'])\n",
    "snowflake_pd_df['Flight Date'] =snowflake_pd_df['Flight Date'].dt.strftime('%m/%d/%Y')\n",
    "snowflake_pd_df['Flight Date'] = pd.to_datetime(snowflake_pd_df['Flight Date'])\n",
    "\n",
    "snowflake_pd_df['Net Charge'] = snowflake_pd_df['Net Charge'].astype(float)\n",
    "snowflake_pd_df['Taxes'] = snowflake_pd_df['Taxes'].astype(float)\n",
    "snowflake_pd_df['Total Charge'] = snowflake_pd_df['Total Charge'].astype(float)\n",
    "snowflake_pd_df['Flight_Nmbr'] = snowflake_pd_df['Flight_Nmbr'].astype(int)\n",
    "snowflake_pd_df['Base NetCharge'] = snowflake_pd_df['Base NetCharge'].astype(float)\n",
    "snowflake_pd_df['Ancillary NetCharge'] = snowflake_pd_df['Ancillary NetCharge'].astype(float)\n",
    "# snowflake_pd_df['Route Pair'] = snowflake_pd_df['Route Pair'].str.replace('  ', '')\n",
    "# snowflake_pd_df['Route Pair'] = snowflake_pd_df['Route Pair'].str.replace(' ', '')\n",
    "snowflake_pd_df['Description'] = snowflake_pd_df['Description'].str.replace(r'^\\s+', '', regex=True)\n",
    "\n",
    "\n",
    "snowflake_pd_df['Percent'] = snowflake_pd_df['Percent'].replace('%', '').astype(float)\n",
    "snowflake_pd_df['Exchange Rate'] = snowflake_pd_df['Exchange Rate'].replace('%', '').astype(float)\n",
    "snowflake_pd_df['Tax Percentage'] = snowflake_pd_df['Tax Percentage'].str.replace('%', '').astype(float)\n",
    "\n",
    "snowflake_pd_df['Base Charge'] = snowflake_pd_df['Base Charge'].astype(float)\n",
    "snowflake_pd_df['Base Discount'] = snowflake_pd_df['Base Discount'].astype(float)\n",
    "snowflake_pd_df['Base Taxes'] = snowflake_pd_df['Base Taxes'].astype(float)"
   ]
  },
  {
   "cell_type": "code",
   "execution_count": 4,
   "id": "a158cdba",
   "metadata": {},
   "outputs": [],
   "source": [
    "#snowflake_pd_df.dtypes"
   ]
  },
  {
   "cell_type": "markdown",
   "id": "0040d98b",
   "metadata": {},
   "source": [
    "# Import and clean report data"
   ]
  },
  {
   "cell_type": "code",
   "execution_count": 5,
   "id": "a1d27d5e",
   "metadata": {},
   "outputs": [],
   "source": [
    "report_df = pd.read_csv('Reservation_Detail/Reservation_Detail_Reservation_Number_6297651.csv', skiprows=0)   "
   ]
  },
  {
   "cell_type": "code",
   "execution_count": 6,
   "id": "c2329ccc",
   "metadata": {},
   "outputs": [
    {
     "name": "stderr",
     "output_type": "stream",
     "text": [
      "C:\\Users\\Ruiying.Zhang\\AppData\\Local\\Temp\\ipykernel_30228\\2628606820.py:13: UserWarning: Could not infer format, so each element will be parsed individually, falling back to `dateutil`. To ensure parsing is consistent and as-expected, please specify a format.\n",
      "  report_df['FlightDate'] = pd.to_datetime(report_df['FlightDate'])\n"
     ]
    }
   ],
   "source": [
    "columns_to_remove = ['str_Promo_Code','CASM','ChargeDelta','Kilometers','str_Leg_Status','LastMod_SalesUser','RoutePair']\n",
    "report_df = report_df.drop(columns=columns_to_remove)\n",
    "\n",
    "columns_to_process = ['NetCharge', 'Taxes','TotalCharge1','Base_NetCharge','Ancillary_NetCharge','Base_Charge','Base_Discount','Base_Taxes']\n",
    "\n",
    "# Apply the function to specified columns in the dataframe\n",
    "for col in columns_to_process:\n",
    "    report_df[col] = report_df[col].apply(process_fee_column)\n",
    "\n",
    "report_df['ChargeDate'] = pd.to_datetime(report_df['ChargeDate'])\n",
    "report_df['ChargeDate'] =report_df['ChargeDate'].dt.strftime('%m/%d/%Y')\n",
    "report_df['ChargeDate'] = pd.to_datetime(report_df['ChargeDate'])\n",
    "report_df['FlightDate'] = pd.to_datetime(report_df['FlightDate'])\n",
    "report_df['FlightDate'] =report_df['FlightDate'].dt.strftime('%m/%d/%Y')\n",
    "report_df['FlightDate'] = pd.to_datetime(report_df['FlightDate'])\n",
    "# report_df['RoutePair'] = report_df['RoutePair'].str.replace(' ', '')\n",
    "\n",
    "report_df['Percent'] = report_df['Percent'].str.replace('%', '').astype(float)\n",
    "report_df['mny_Exchange_Rate'] = report_df['mny_Exchange_Rate'].str.replace('%', '').astype(float)\n",
    "report_df['mny_Tax_1_Percentage'] = report_df['mny_Tax_1_Percentage'].str.replace('%', '').astype(float)\n",
    "\n",
    "report_df['mny_Distance'] = report_df['mny_Distance'].str.replace(',', '').astype(int)\n",
    "report_df['Exchange_Rate'] = report_df['Exchange_Rate'].str.replace('%', '').astype(float)\n",
    "report_df['Leg_TotalDistance'] = report_df['Leg_TotalDistance'].str.replace(',', '').astype(int)"
   ]
  },
  {
   "cell_type": "code",
   "execution_count": 7,
   "id": "81181561",
   "metadata": {},
   "outputs": [],
   "source": [
    "#report_df.dtypes"
   ]
  },
  {
   "cell_type": "markdown",
   "id": "72f05fe9",
   "metadata": {},
   "source": [
    "# Compare two dataframes"
   ]
  },
  {
   "cell_type": "code",
   "execution_count": 8,
   "id": "acbfe73e",
   "metadata": {},
   "outputs": [
    {
     "name": "stdout",
     "output_type": "stream",
     "text": [
      "Accuracy: 78.57% snowflake records in report\n",
      "The number of records in snowflake but not in report is 12\n",
      "Accuracy: 73.33% report records in snowflake\n",
      "The number of records in report but not in snowflake is 16\n"
     ]
    }
   ],
   "source": [
    "report_accuracy,snowflake_accuracy,report_only,snowflake_only = calculate_accuracy(report_df,snowflake_pd_df)\n",
    "print(f\"Accuracy: {snowflake_accuracy:.2f}%\" \" snowflake records in report\\nThe number of records in snowflake but not in report is\", len(snowflake_only))\n",
    "print(f\"Accuracy: {report_accuracy:.2f}%\"\" report records in snowflake\\nThe number of records in report but not in snowflake is\", len(report_only))"
   ]
  },
  {
   "cell_type": "markdown",
   "id": "10d27906",
   "metadata": {},
   "source": [
    "# Output the difference file"
   ]
  },
  {
   "cell_type": "code",
   "execution_count": 9,
   "id": "62792626",
   "metadata": {},
   "outputs": [],
   "source": [
    "try:\n",
    "    snowflake_only.to_csv(\"Reservation_Detail/\"+\"snowflake_only_record.csv\", index=False) \n",
    "except:\n",
    "    print(\"No snowflake only records\")\n",
    "try:\n",
    "    report_only.to_csv(\"Reservation_Detail/\"+\"report_only_record.csv\", index=False) \n",
    "except:\n",
    "    print(\"No report only records\")"
   ]
  },
  {
   "cell_type": "code",
   "execution_count": 10,
   "id": "0917d537",
   "metadata": {},
   "outputs": [],
   "source": [
    "snow_res = list(snowflake_pd_df['Reservation Nmbr'].unique())\n",
    "report_res = list(report_df['Reservation Nmbr'].unique())"
   ]
  },
  {
   "cell_type": "code",
   "execution_count": 11,
   "id": "6fff31d6",
   "metadata": {},
   "outputs": [],
   "source": [
    "elements_in_snow_not_in_report = list(set(snow_res) - set(report_res))\n",
    "elements_in_report_not_in_snow = list(set(report_res)-set(snow_res))\n",
    "\n",
    "snow_file_path = \"Sales/snowonly_reservation.txt\"\n",
    "report_file_path = \"Sales/reportonly_reservation.txt\"\n",
    "\n",
    "# Open the file for writing\n",
    "with open(snow_file_path, \"w\") as file:\n",
    "    for item in elements_in_snow_not_in_report:\n",
    "        file.write(\"%s,\" % item)\n",
    "with open(report_file_path, \"w\") as file:\n",
    "    for item in elements_in_snow_not_in_report:\n",
    "        file.write(\"%s,\" % item)"
   ]
  }
 ],
 "metadata": {
  "kernelspec": {
   "display_name": "Python 3 (ipykernel)",
   "language": "python",
   "name": "python3"
  },
  "language_info": {
   "codemirror_mode": {
    "name": "ipython",
    "version": 3
   },
   "file_extension": ".py",
   "mimetype": "text/x-python",
   "name": "python",
   "nbconvert_exporter": "python",
   "pygments_lexer": "ipython3",
   "version": "3.8.17"
  }
 },
 "nbformat": 4,
 "nbformat_minor": 5
}
