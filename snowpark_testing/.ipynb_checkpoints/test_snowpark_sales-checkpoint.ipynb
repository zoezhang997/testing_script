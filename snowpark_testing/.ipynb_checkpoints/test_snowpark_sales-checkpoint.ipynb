{
 "cells": [
  {
   "cell_type": "markdown",
   "id": "ea681461",
   "metadata": {},
   "source": [
    "## Accuracy: 98.33% \n",
    "\n",
    "Things to note:\n",
    "1. purchase cnt/Ancillary Category/Resident Base Discount different\n",
    "2. \"Sked Detail Id Nmbr\" is null"
   ]
  },
  {
   "cell_type": "code",
   "execution_count": 4,
   "id": "b80fcc6d",
   "metadata": {},
   "outputs": [],
   "source": [
    "from snowflake.snowpark.session import Session\n",
    "from snowflake.snowpark.types import *\n",
    "from snowflake.snowpark.functions import col, lit\n",
    "import getpass\n",
    "import pandas as pd\n",
    "import json\n",
    "from get_secret import get_secret\n",
    "from datetime import datetime\n",
    "import snowflake.snowpark.functions as F"
   ]
  },
  {
   "cell_type": "code",
   "execution_count": 5,
   "id": "d3693af2",
   "metadata": {},
   "outputs": [],
   "source": [
    "connection_parameters = json.loads(get_secret())\n",
    "connection_parameters.update({'warehouse':'COMPUTE_WH', 'database':'ANALYTICS_PROD','schema': 'IOATAWARE',\"loglevel\":'DEBUG'})\n",
    "session = Session.builder.configs(connection_parameters).create()"
   ]
  },
  {
   "cell_type": "code",
   "execution_count": 6,
   "id": "486af731",
   "metadata": {},
   "outputs": [
    {
     "name": "stdout",
     "output_type": "stream",
     "text": [
      "Current Database and schema: \"ANALYTICS_PROD\".\"IOATAWARE\"\n",
      "Current Warehouse: \"COMPUTE_WH\"\n"
     ]
    }
   ],
   "source": [
    "print(f\"Current Database and schema: {session.get_fully_qualified_current_schema()}\")\n",
    "print(f\"Current Warehouse: {session.get_current_warehouse()}\")"
   ]
  },
  {
   "cell_type": "markdown",
   "id": "2d67dcc2",
   "metadata": {},
   "source": [
    "# Import and clean snowflake views"
   ]
  },
  {
   "cell_type": "code",
   "execution_count": 7,
   "id": "91f41bed",
   "metadata": {},
   "outputs": [],
   "source": [
    "view_name = \"VW_SALES_RAW_DATA\"\n",
    "charge_date = \"07/30/2023\""
   ]
  },
  {
   "cell_type": "code",
   "execution_count": 8,
   "id": "b3160ace",
   "metadata": {},
   "outputs": [],
   "source": [
    "snowpark_df = session.table(view_name)"
   ]
  },
  {
   "cell_type": "code",
   "execution_count": 9,
   "id": "f29f3ac0",
   "metadata": {},
   "outputs": [
    {
     "data": {
      "text/plain": [
       "57905"
      ]
     },
     "execution_count": 9,
     "metadata": {},
     "output_type": "execute_result"
    }
   ],
   "source": [
    "snowflake_pd_df = snowpark_df.filter(F.col('Charge Date') == charge_date ).to_pandas()\n",
    "len(snowflake_pd_df)\n",
    "#snowflake_pd_df2 = snowpark_df.filter(F.col('Flight Date') == flight_date2 ).to_pandas() "
   ]
  },
  {
   "cell_type": "code",
   "execution_count": 10,
   "id": "230648ff",
   "metadata": {},
   "outputs": [],
   "source": [
    "#snowflake_pd_df = pd.concat([snowflake_pd_df1,snowflake_pd_df2]).reset_index()"
   ]
  },
  {
   "cell_type": "code",
   "execution_count": 11,
   "id": "92533e37",
   "metadata": {},
   "outputs": [
    {
     "data": {
      "text/plain": [
       "57746"
      ]
     },
     "execution_count": 11,
     "metadata": {},
     "output_type": "execute_result"
    }
   ],
   "source": [
    "snowflake_pd_df = snowflake_pd_df[snowflake_pd_df[[\"Sked Detail Id Nmbr\"]].notna().any(axis=1)]\n",
    "len(snowflake_pd_df)"
   ]
  },
  {
   "cell_type": "code",
   "execution_count": 12,
   "id": "5e9ef69d",
   "metadata": {},
   "outputs": [],
   "source": [
    "#snowflake_pd_df[snowflake_pd_df['Reservation Nmbr'] == 8291127]"
   ]
  },
  {
   "cell_type": "code",
   "execution_count": 15,
   "id": "d1ab6f08",
   "metadata": {},
   "outputs": [],
   "source": [
    "#Remove the column we are not testing for now 'Sales Username'"
   ]
  },
  {
   "cell_type": "code",
   "execution_count": 16,
   "id": "341838fc",
   "metadata": {},
   "outputs": [],
   "source": [
    "#need change in the future 'Purchase Cnt','Ancillary Category','Resident Base Taxes'\n",
    "columns_to_remove = ['\\tPercent of Full Leg','Leg Status','Flight Time','Sales Username']\n",
    "snowflake_pd_df = snowflake_pd_df.drop(columns=columns_to_remove)\n",
    "\n",
    "snowflake_pd_df['Charge Date'] = pd.to_datetime(snowflake_pd_df['Charge Date'])\n",
    "snowflake_pd_df['Flight Date'] = pd.to_datetime(snowflake_pd_df['Flight Date'])\n",
    "snowflake_pd_df['Net Charge'] = snowflake_pd_df['Net Charge'].astype(float)\n",
    "snowflake_pd_df['Taxes'] = snowflake_pd_df['Taxes'].astype(float)\n",
    "snowflake_pd_df['Total Charge'] = snowflake_pd_df['Total Charge'].astype(float)\n",
    "snowflake_pd_df['Flight Nmbr'] = snowflake_pd_df['Flight Nmbr'].astype(int)"
   ]
  },
  {
   "cell_type": "code",
   "execution_count": 17,
   "id": "a158cdba",
   "metadata": {},
   "outputs": [
    {
     "data": {
      "text/plain": [
       "Charge Date               datetime64[ns]\n",
       "Reservation Nmbr                   int32\n",
       "Sked Detail Id Nmbr              float64\n",
       "Flight Date               datetime64[ns]\n",
       "Departure                         object\n",
       "Arrival                           object\n",
       "Legs Id Nmbr                       int32\n",
       "Charge Type                        int16\n",
       "Net Charge                       float64\n",
       "Taxes                            float64\n",
       "Total Charge                     float64\n",
       "Charge Type Desc                  object\n",
       "Flight Nmbr                        int32\n",
       "Charges Desc                      object\n",
       "User Id Nmbr                       int16\n",
       "Leg Nmbr                         float64\n",
       "Segments Id Nmbr                 float64\n",
       "Agency Id Nmbr                   float64\n",
       "Reference                         object\n",
       "Agency Name                       object\n",
       "Transborder                       object\n",
       "Category                          object\n",
       "Ancillary Category                object\n",
       "Purchase Cnt                        int8\n",
       "Classification                    object\n",
       "Channel                           object\n",
       "Residency                         object\n",
       "Resident Exchange Rate           float64\n",
       "Resident Base Charge             float64\n",
       "Resident Base Discount           float64\n",
       "Resident Base Taxes              float64\n",
       "dtype: object"
      ]
     },
     "execution_count": 17,
     "metadata": {},
     "output_type": "execute_result"
    }
   ],
   "source": [
    "snowflake_pd_df.dtypes"
   ]
  },
  {
   "cell_type": "markdown",
   "id": "0040d98b",
   "metadata": {},
   "source": [
    "# Import and clean report data"
   ]
  },
  {
   "cell_type": "code",
   "execution_count": 18,
   "id": "a1d27d5e",
   "metadata": {},
   "outputs": [],
   "source": [
    "report_df = pd.read_csv('Sales/Sales_Raw_Data_0730.csv', skiprows=0)   "
   ]
  },
  {
   "cell_type": "code",
   "execution_count": 19,
   "id": "abedafb4",
   "metadata": {},
   "outputs": [
    {
     "data": {
      "text/plain": [
       "Index(['Source', 'ChargeDate', 'lng_Reservation_Nmbr',\n",
       "       'lng_Sked_Detail_Id_Nmbr', 'FlightDate', 'ActualFlightDate',\n",
       "       'Departure', 'Arrival', 'lng_Res_Legs_Id_Nmbr', 'ChargeType',\n",
       "       'NetCharge', 'Taxes', 'mny_Tax_1_Percentage', 'TotalCharge',\n",
       "       'str_GL_Charge_Type_Desc', 'str_Flight_Nmbr', 'Percent',\n",
       "       'str_GL_Charges_Desc', 'lng_Creation_User_Id_Nmbr', 'lng_Leg_Nmbr',\n",
       "       'lng_Res_Segments_Id_Nmbr', 'lng_Agency_Id_Nmbr', 'Reference',\n",
       "       'str_Agency_Name', 'Transborder', 'str_Leg_Status', 'Category',\n",
       "       'LastMod_SalesUser', 'AncillaryCategory', 'PurchaseCnt',\n",
       "       'Classification', 'Channel', 'str_Currency_Ident1', 'Exchange_Rate',\n",
       "       'Base_Charge', 'Base_Discount', 'Base_Taxes', 'CancellationDate',\n",
       "       'PaxStatus', 'ChargeStatus', 'SeatSold'],\n",
       "      dtype='object')"
      ]
     },
     "execution_count": 19,
     "metadata": {},
     "output_type": "execute_result"
    }
   ],
   "source": [
    "report_df.columns "
   ]
  },
  {
   "cell_type": "code",
   "execution_count": 20,
   "id": "5014e702",
   "metadata": {},
   "outputs": [],
   "source": [
    "def process_fee_column(value):\n",
    "    value = value.replace('$', '')  # Remove $\n",
    "    value = value.replace(')', '')   # Remove )\n",
    "    value = value.replace('(', '-')   # Replace ( with -\n",
    "    return float(value)"
   ]
  },
  {
   "cell_type": "code",
   "execution_count": 21,
   "id": "c2329ccc",
   "metadata": {},
   "outputs": [
    {
     "name": "stderr",
     "output_type": "stream",
     "text": [
      "C:\\Users\\Ruiying.Zhang\\AppData\\Local\\Temp\\ipykernel_24472\\2793499845.py:11: UserWarning: Could not infer format, so each element will be parsed individually, falling back to `dateutil`. To ensure parsing is consistent and as-expected, please specify a format.\n",
      "  report_df['ChargeDate'] = pd.to_datetime(report_df['ChargeDate'])\n"
     ]
    }
   ],
   "source": [
    "#'LastMod_SalesUser''PurchaseCnt','AncillaryCategory','Base_Taxes'\n",
    "columns_to_remove = ['Source','mny_Tax_1_Percentage','ActualFlightDate','Percent','str_Leg_Status','LastMod_SalesUser','CancellationDate','PaxStatus', 'ChargeStatus', 'SeatSold']\n",
    "report_df = report_df.drop(columns=columns_to_remove)\n",
    "\n",
    "columns_to_process = ['NetCharge', 'Taxes','TotalCharge','Base_Charge','Base_Discount','Base_Taxes']\n",
    "\n",
    "# Apply the function to specified columns in the dataframe\n",
    "for col in columns_to_process:\n",
    "    report_df[col] = report_df[col].apply(process_fee_column)\n",
    "\n",
    "report_df['ChargeDate'] = pd.to_datetime(report_df['ChargeDate'])\n",
    "report_df['ChargeDate'] =report_df['ChargeDate'].dt.strftime('%m/%d/%Y')\n",
    "report_df['ChargeDate'] = pd.to_datetime(report_df['ChargeDate'])\n",
    "report_df['FlightDate'] = pd.to_datetime(report_df['FlightDate'])\n",
    "report_df['FlightDate'] =report_df['FlightDate'].dt.strftime('%m/%d/%Y')\n",
    "report_df['FlightDate'] = pd.to_datetime(report_df['FlightDate'])"
   ]
  },
  {
   "cell_type": "code",
   "execution_count": 22,
   "id": "68b262d4",
   "metadata": {},
   "outputs": [
    {
     "data": {
      "text/plain": [
       "57728"
      ]
     },
     "execution_count": 22,
     "metadata": {},
     "output_type": "execute_result"
    }
   ],
   "source": [
    "len(report_df)"
   ]
  },
  {
   "cell_type": "code",
   "execution_count": 23,
   "id": "c33a982b",
   "metadata": {},
   "outputs": [
    {
     "data": {
      "text/plain": [
       "ChargeDate                   datetime64[ns]\n",
       "lng_Reservation_Nmbr                  int64\n",
       "lng_Sked_Detail_Id_Nmbr               int64\n",
       "FlightDate                   datetime64[ns]\n",
       "Departure                            object\n",
       "Arrival                              object\n",
       "lng_Res_Legs_Id_Nmbr                  int64\n",
       "ChargeType                            int64\n",
       "NetCharge                           float64\n",
       "Taxes                               float64\n",
       "TotalCharge                         float64\n",
       "str_GL_Charge_Type_Desc              object\n",
       "str_Flight_Nmbr                       int64\n",
       "str_GL_Charges_Desc                  object\n",
       "lng_Creation_User_Id_Nmbr             int64\n",
       "lng_Leg_Nmbr                          int64\n",
       "lng_Res_Segments_Id_Nmbr              int64\n",
       "lng_Agency_Id_Nmbr                    int64\n",
       "Reference                            object\n",
       "str_Agency_Name                      object\n",
       "Transborder                          object\n",
       "Category                             object\n",
       "AncillaryCategory                    object\n",
       "PurchaseCnt                           int64\n",
       "Classification                       object\n",
       "Channel                              object\n",
       "str_Currency_Ident1                  object\n",
       "Exchange_Rate                       float64\n",
       "Base_Charge                         float64\n",
       "Base_Discount                       float64\n",
       "Base_Taxes                          float64\n",
       "dtype: object"
      ]
     },
     "execution_count": 23,
     "metadata": {},
     "output_type": "execute_result"
    }
   ],
   "source": [
    "report_df.dtypes"
   ]
  },
  {
   "cell_type": "code",
   "execution_count": 24,
   "id": "fded7cee",
   "metadata": {},
   "outputs": [],
   "source": [
    "#report_df.dtypes = snowflake_pd_df.dtypes\n",
    "report_df.columns = snowflake_pd_df.columns "
   ]
  },
  {
   "cell_type": "markdown",
   "id": "72f05fe9",
   "metadata": {},
   "source": [
    "# Compare two dataframes"
   ]
  },
  {
   "cell_type": "code",
   "execution_count": 26,
   "id": "8ad61759",
   "metadata": {},
   "outputs": [],
   "source": [
    "def calculate_df2_accuracy(df1, df2):\n",
    "    merged = df1.merge(df2, how = 'outer', indicator = True)\n",
    "    #matched = merged[merged['_merge'] == \"both\"]\n",
    "    df1_only = merged[merged['_merge'] == \"left_only\"]\n",
    "    df2_only = merged[merged['_merge'] == \"right_only\"]\n",
    "\n",
    "    # Calculate the total number of elements\n",
    "    total_elements = len(df2)\n",
    "\n",
    "    # Calculate accuracy as a percentage\n",
    "    accuracy = ((total_elements - len(df2_only)) / total_elements) * 100\n",
    "\n",
    "    return accuracy\n"
   ]
  },
  {
   "cell_type": "code",
   "execution_count": 27,
   "id": "acbfe73e",
   "metadata": {},
   "outputs": [
    {
     "name": "stdout",
     "output_type": "stream",
     "text": [
      "Accuracy: 94.16% snowflake records in report\n",
      "The number of records in snowflake but not in report is 3375\n"
     ]
    }
   ],
   "source": [
    "accuracy_percentage = calculate_df2_accuracy(report_df,snowflake_pd_df)\n",
    "print(f\"Accuracy: {accuracy_percentage:.2f}%\" \" snowflake records in report\\nThe number of records in snowflake but not in report is\", len(snowflake_only))"
   ]
  },
  {
   "cell_type": "code",
   "execution_count": 28,
   "id": "92cea7e6",
   "metadata": {},
   "outputs": [
    {
     "name": "stdout",
     "output_type": "stream",
     "text": [
      "Accuracy: 94.19% report records in snowflake\n",
      "The number of records in report but not in snowflake is 3356\n"
     ]
    }
   ],
   "source": [
    "accuracy_percentage = calculate_df2_accuracy(snowflake_pd_df, report_df)\n",
    "print(f\"Accuracy: {accuracy_percentage:.2f}%\"\" report records in snowflake\\nThe number of records in report but not in snowflake is\", len(report_only))"
   ]
  },
  {
   "cell_type": "markdown",
   "id": "10d27906",
   "metadata": {},
   "source": [
    "# Output the difference file"
   ]
  },
  {
   "cell_type": "code",
   "execution_count": 29,
   "id": "62792626",
   "metadata": {},
   "outputs": [],
   "source": [
    "try:\n",
    "    snowflake_only.to_csv(\"Sales/\"+\"snowflake_only_record.csv\", index=False) \n",
    "except:\n",
    "    print(\"No snowflake only records\")\n",
    "try:\n",
    "    report_only.to_csv(\"Sales/\"+\"report_only_record.csv\", index=False) \n",
    "except:\n",
    "    print(\"No report only records\")"
   ]
  },
  {
   "cell_type": "code",
   "execution_count": 27,
   "id": "0917d537",
   "metadata": {},
   "outputs": [],
   "source": [
    "snow_res = list(snowflake_pd_df['Reservation Nmbr'].unique())\n",
    "report_res = list(report_df['Reservation Nmbr'].unique())"
   ]
  },
  {
   "cell_type": "code",
   "execution_count": 28,
   "id": "6fff31d6",
   "metadata": {},
   "outputs": [],
   "source": [
    "elements_in_snow_not_in_report = list(set(snow_res) - set(report_res))\n",
    "elements_in_report_not_in_snow = list(set(report_res)-set(snow_res))\n",
    "\n",
    "snow_file_path = \"Sales/snowonly_reservation.txt\"\n",
    "report_file_path = \"Sales/reportonly_reservation.txt\"\n",
    "\n",
    "# Open the file for writing\n",
    "with open(snow_file_path, \"w\") as file:\n",
    "    for item in elements_in_snow_not_in_report:\n",
    "        file.write(\"%s,\" % item)\n",
    "with open(report_file_path, \"w\") as file:\n",
    "    for item in elements_in_snow_not_in_report:\n",
    "        file.write(\"%s,\" % item)"
   ]
  }
 ],
 "metadata": {
  "kernelspec": {
   "display_name": "Python 3 (ipykernel)",
   "language": "python",
   "name": "python3"
  },
  "language_info": {
   "codemirror_mode": {
    "name": "ipython",
    "version": 3
   },
   "file_extension": ".py",
   "mimetype": "text/x-python",
   "name": "python",
   "nbconvert_exporter": "python",
   "pygments_lexer": "ipython3",
   "version": "3.8.17"
  }
 },
 "nbformat": 4,
 "nbformat_minor": 5
}
