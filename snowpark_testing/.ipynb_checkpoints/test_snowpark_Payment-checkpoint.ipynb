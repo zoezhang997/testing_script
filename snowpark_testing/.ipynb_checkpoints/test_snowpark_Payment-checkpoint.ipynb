{
 "cells": [
  {
   "cell_type": "markdown",
   "id": "ea681461",
   "metadata": {},
   "source": [
    "## Accuracy: 100%\n",
    "Things to note\n",
    "\n",
    "1.\t08/07/2023\tRes num: 8,959,169 PNR is null in snow"
   ]
  },
  {
   "cell_type": "code",
   "execution_count": 1,
   "id": "b80fcc6d",
   "metadata": {},
   "outputs": [],
   "source": [
    "from helpfile import *\n",
    "import numpy as np"
   ]
  },
  {
   "cell_type": "markdown",
   "id": "2d67dcc2",
   "metadata": {},
   "source": [
    "# Import and clean snowflake views"
   ]
  },
  {
   "cell_type": "code",
   "execution_count": 2,
   "id": "b3a31cfa",
   "metadata": {},
   "outputs": [],
   "source": [
    "query = \"\"\"select * from ANALYTICS_PROD.IOATAWARE.VW_PAYMENTS_RAW_DATA where \"Payment Date\"='08/02/2023'\n",
    "    \"\"\"\n",
    "snowflake_pd_df = get_data(query)"
   ]
  },
  {
   "cell_type": "code",
   "execution_count": 3,
   "id": "341838fc",
   "metadata": {},
   "outputs": [],
   "source": [
    "# columns_to_remove = ['\\tPercent of Full Leg','Leg Status','Flight Time','Sales Username']\n",
    "# snowflake_pd_df = snowflake_pd_df.drop(columns=columns_to_remove)\n",
    "\n",
    "snowflake_pd_df['Payment Date'] = pd.to_datetime(snowflake_pd_df['Payment Date'])\n",
    "#snowflake_pd_df.fillna('', inplace=True)\n",
    "snowflake_pd_df.replace('', np.nan, inplace=True)\n",
    "snowflake_pd_df['Exchange Rate'] = round(snowflake_pd_df['Exchange Rate'],6)\n",
    "# snowflake_pd_df['Taxes'] = snowflake_pd_df['Taxes'].astype(float)\n",
    "# snowflake_pd_df['Total Charge'] = snowflake_pd_df['Total Charge'].astype(float)\n",
    "# snowflake_pd_df['Flight Nmbr'] = snowflake_pd_df['Flight Nmbr'].astype(int)"
   ]
  },
  {
   "cell_type": "markdown",
   "id": "0040d98b",
   "metadata": {},
   "source": [
    "# Import and clean report data"
   ]
  },
  {
   "cell_type": "code",
   "execution_count": 4,
   "id": "a1d27d5e",
   "metadata": {},
   "outputs": [],
   "source": [
    "report_df = pd.read_csv('Payment/Payments_Raw_Data_0802.csv', skiprows=0)   "
   ]
  },
  {
   "cell_type": "code",
   "execution_count": 5,
   "id": "c2329ccc",
   "metadata": {},
   "outputs": [
    {
     "name": "stderr",
     "output_type": "stream",
     "text": [
      "C:\\Users\\Ruiying.Zhang\\AppData\\Local\\Temp\\ipykernel_56148\\1639469494.py:11: UserWarning: Could not infer format, so each element will be parsed individually, falling back to `dateutil`. To ensure parsing is consistent and as-expected, please specify a format.\n",
      "  report_df['dtm_GL_Payments_Date'] = pd.to_datetime(report_df['dtm_GL_Payments_Date'])\n"
     ]
    }
   ],
   "source": [
    "#'LastMod_SalesUser'\n",
    "columns_to_remove = ['Source','CC_Num']\n",
    "report_df = report_df.drop(columns=columns_to_remove)\n",
    "\n",
    "columns_to_process = ['PaymentsTotal','mny_GL_Currency_Payments_Amount']\n",
    "\n",
    "# Apply the function to specified columns in the dataframe\n",
    "for col in columns_to_process:\n",
    "    report_df[col] = report_df[col].apply(process_fee_column)\n",
    "\n",
    "report_df['dtm_GL_Payments_Date'] = pd.to_datetime(report_df['dtm_GL_Payments_Date'])\n",
    "report_df['dtm_GL_Payments_Date'] =report_df['dtm_GL_Payments_Date'].dt.strftime('%m/%d/%Y')\n",
    "report_df['dtm_GL_Payments_Date'] = pd.to_datetime(report_df['dtm_GL_Payments_Date'])"
   ]
  },
  {
   "cell_type": "code",
   "execution_count": 7,
   "id": "c33a982b",
   "metadata": {},
   "outputs": [],
   "source": [
    "#report_df.dtypes"
   ]
  },
  {
   "cell_type": "markdown",
   "id": "72f05fe9",
   "metadata": {},
   "source": [
    "# Compare two dataframes"
   ]
  },
  {
   "cell_type": "code",
   "execution_count": 9,
   "id": "398eb56a",
   "metadata": {},
   "outputs": [
    {
     "name": "stdout",
     "output_type": "stream",
     "text": [
      "Accuracy: 99.90% snowflake records in report\n",
      "The number of records in snowflake but not in report is 17\n",
      "Accuracy: 99.98% report records in snowflake\n",
      "The number of records in report but not in snowflake is 3\n"
     ]
    }
   ],
   "source": [
    "report_accuracy,snowflake_accuracy,report_only,snowflake_only = calculate_accuracy(report_df,snowflake_pd_df)\n",
    "print(f\"Accuracy: {snowflake_accuracy:.2f}%\" \" snowflake records in report\\nThe number of records in snowflake but not in report is\", len(snowflake_only))\n",
    "print(f\"Accuracy: {report_accuracy:.2f}%\"\" report records in snowflake\\nThe number of records in report but not in snowflake is\", len(report_only))"
   ]
  },
  {
   "cell_type": "markdown",
   "id": "10d27906",
   "metadata": {},
   "source": [
    "# Output the difference file"
   ]
  },
  {
   "cell_type": "code",
   "execution_count": 10,
   "id": "62792626",
   "metadata": {},
   "outputs": [],
   "source": [
    "try:\n",
    "    snowflake_only.to_csv(\"Payment/\"+\"snowflake_only_record.csv\", index=False) \n",
    "except:\n",
    "    print(\"No snowflake only records\")\n",
    "try:\n",
    "    report_only.to_csv(\"Payment/\"+\"report_only_record.csv\", index=False) \n",
    "except:\n",
    "    print(\"No report only records\")"
   ]
  }
 ],
 "metadata": {
  "kernelspec": {
   "display_name": "Python 3 (ipykernel)",
   "language": "python",
   "name": "python3"
  },
  "language_info": {
   "codemirror_mode": {
    "name": "ipython",
    "version": 3
   },
   "file_extension": ".py",
   "mimetype": "text/x-python",
   "name": "python",
   "nbconvert_exporter": "python",
   "pygments_lexer": "ipython3",
   "version": "3.8.17"
  }
 },
 "nbformat": 4,
 "nbformat_minor": 5
}
