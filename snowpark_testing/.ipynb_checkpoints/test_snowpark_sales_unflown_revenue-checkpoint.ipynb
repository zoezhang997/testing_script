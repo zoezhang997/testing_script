{
 "cells": [
  {
   "cell_type": "markdown",
   "id": "ea681461",
   "metadata": {},
   "source": [
    "## Accuracy: 98.33% \n",
    "\n",
    "Things to note:\n"
   ]
  },
  {
   "cell_type": "code",
   "execution_count": 26,
   "id": "b80fcc6d",
   "metadata": {},
   "outputs": [],
   "source": [
    "import snowflake.connector\n",
    "import getpass\n",
    "import pandas as pd\n",
    "import json\n",
    "from get_secret import get_secret\n",
    "from datetime import datetime"
   ]
  },
  {
   "cell_type": "markdown",
   "id": "2d67dcc2",
   "metadata": {},
   "source": [
    "# Import and clean snowflake views"
   ]
  },
  {
   "cell_type": "code",
   "execution_count": 27,
   "id": "22ba8af0",
   "metadata": {},
   "outputs": [],
   "source": [
    "config_json = json.loads(get_secret())\n",
    "config_json.update({'warehouse':'COMPUTE_WH', 'database':'ANALYTICS_PROD','schema': 'IOATAWARE',\"loglevel\":'DEBUG'})\n",
    "conn = snowflake.connector.connect(**config_json)\n",
    "\n",
    "cur = conn.cursor()\n",
    "query = \"SELECT * FROM ANALYTICS_PROD.IOATAWARE.VW_UNFLOWN_REVENUE WHERE \\\"Flight Year\\\" >= '2024' and \\\"Flight Month\\\" = '4'\"\n",
    "cur.execute(query)\n",
    "results_df = cur.fetch_pandas_all()"
   ]
  },
  {
   "cell_type": "code",
   "execution_count": 28,
   "id": "4da11676",
   "metadata": {
    "scrolled": true
   },
   "outputs": [],
   "source": [
    "snowflake_pd_df = results_df"
   ]
  },
  {
   "cell_type": "code",
   "execution_count": 29,
   "id": "5c4ce7b2",
   "metadata": {},
   "outputs": [],
   "source": [
    "#snowflake_pd_df.dtypes"
   ]
  },
  {
   "cell_type": "code",
   "execution_count": 30,
   "id": "341838fc",
   "metadata": {},
   "outputs": [],
   "source": [
    "snowflake_pd_df['Charge Date'] = pd.to_datetime(snowflake_pd_df['Charge Date'])\n",
    "snowflake_pd_df['Flight Date'] = pd.to_datetime(snowflake_pd_df['Flight Date'])\n",
    "snowflake_pd_df['Flight Year'] = snowflake_pd_df['Flight Year'].astype(int)\n",
    "snowflake_pd_df['Flight Month'] = snowflake_pd_df['Flight Month'].astype(int)\n",
    "snowflake_pd_df['Net Charge Total'] = snowflake_pd_df['Net Charge Total'].astype(float)\n",
    "snowflake_pd_df['Taxes Total'] = snowflake_pd_df['Taxes Total'].astype(float)\n",
    "snowflake_pd_df['Charge Total'] = snowflake_pd_df['Charge Total'].astype(float)"
   ]
  },
  {
   "cell_type": "markdown",
   "id": "0040d98b",
   "metadata": {},
   "source": [
    "# Import and clean report data"
   ]
  },
  {
   "cell_type": "code",
   "execution_count": 31,
   "id": "a1d27d5e",
   "metadata": {},
   "outputs": [],
   "source": [
    "report_df = pd.read_csv('Unflown_Revenue/Unflown_Revenue_2404.csv', skiprows=0)   "
   ]
  },
  {
   "cell_type": "code",
   "execution_count": 32,
   "id": "abedafb4",
   "metadata": {},
   "outputs": [],
   "source": [
    "#report_df.dtypes "
   ]
  },
  {
   "cell_type": "code",
   "execution_count": 33,
   "id": "5014e702",
   "metadata": {},
   "outputs": [],
   "source": [
    "def process_fee_column(value):\n",
    "    value = value.replace('$', '')  # Remove $\n",
    "    value = value.replace(')', '')   # Remove )\n",
    "    value = value.replace('(', '-')   # Replace ( with -\n",
    "    return float(value)"
   ]
  },
  {
   "cell_type": "code",
   "execution_count": 34,
   "id": "c2329ccc",
   "metadata": {},
   "outputs": [],
   "source": [
    "#'LastMod_SalesUser''PurchaseCnt','AncillaryCategory','Base_Taxes'\n",
    "\n",
    "columns_to_process = ['NetChargeTotal', 'TaxesTotal','ChargeTotal']\n",
    "\n",
    "# Apply the function to specified columns in the dataframe\n",
    "for col in columns_to_process:\n",
    "    report_df[col] = report_df[col].apply(process_fee_column)\n",
    "\n",
    "report_df['ChargeDateSimple'] = pd.to_datetime(report_df['ChargeDateSimple'])\n",
    "report_df['FlightDate'] = pd.to_datetime(report_df['FlightDate'])"
   ]
  },
  {
   "cell_type": "markdown",
   "id": "72f05fe9",
   "metadata": {},
   "source": [
    "# Compare two dataframes"
   ]
  },
  {
   "cell_type": "code",
   "execution_count": null,
   "id": "4d5c3cad",
   "metadata": {},
   "outputs": [],
   "source": [
    "report_df.columns = snowflake_pd_df.columns "
   ]
  },
  {
   "cell_type": "code",
   "execution_count": 42,
   "id": "c56020ea",
   "metadata": {},
   "outputs": [],
   "source": [
    "def calculate_df2_accuracy(df1, df2):\n",
    "    merged = df1.merge(df2, how = 'outer', indicator = True)\n",
    "    df1_only = merged[merged['_merge'] == \"left_only\"]\n",
    "    df2_only = merged[merged['_merge'] == \"right_only\"]\n",
    "\n",
    "\n",
    "    # Calculate accuracy as a percentage\n",
    "    accuracy_df1 = ((len(df1) - len(df1_only)) / len(df1)) * 100\n",
    "    accuracy_df2 = ((len(df2) - len(df2_only)) / len(df2)) * 100\n",
    "\n",
    "    return accuracy_df1,accuracy_df2,df1_only,df2_only\n"
   ]
  },
  {
   "cell_type": "code",
   "execution_count": 43,
   "id": "c5602807",
   "metadata": {},
   "outputs": [],
   "source": [
    "report_accuracy,snowflake_accuracy,report_only,snowflake_only = calculate_df2_accuracy(report_df,snowflake_pd_df)"
   ]
  },
  {
   "cell_type": "code",
   "execution_count": 44,
   "id": "da90aecf",
   "metadata": {},
   "outputs": [
    {
     "name": "stdout",
     "output_type": "stream",
     "text": [
      "Accuracy: 16.40% snowflake records in report\n",
      "The number of records in snowflake but not in report is 9017\n",
      "Accuracy: 98.06% report records in snowflake\n",
      "The number of records in report but not in snowflake is 35\n"
     ]
    }
   ],
   "source": [
    "print(f\"Accuracy: {snowflake_accuracy:.2f}%\" \" snowflake records in report\\nThe number of records in snowflake but not in report is\", len(snowflake_only))\n",
    "print(f\"Accuracy: {report_accuracy:.2f}%\"\" report records in snowflake\\nThe number of records in report but not in snowflake is\", len(report_only))"
   ]
  },
  {
   "cell_type": "markdown",
   "id": "10d27906",
   "metadata": {},
   "source": [
    "# Output the difference file"
   ]
  },
  {
   "cell_type": "code",
   "execution_count": 45,
   "id": "62792626",
   "metadata": {},
   "outputs": [],
   "source": [
    "try:\n",
    "    snowflake_only.to_csv(\"Unflown_Revenue/\"+\"snowflake_only_record.csv\", index=False) \n",
    "except:\n",
    "    print(\"No snowflake only records\")\n",
    "try:\n",
    "    report_only.to_csv(\"Unflown_Revenue/\"+\"report_only_record.csv\", index=False) \n",
    "except:\n",
    "    print(\"No report only records\")"
   ]
  },
  {
   "cell_type": "code",
   "execution_count": 46,
   "id": "0917d537",
   "metadata": {},
   "outputs": [],
   "source": [
    "snow_res = list(snowflake_pd_df['Reservation #'].unique())\n",
    "report_res = list(report_df['Reservation #'].unique())"
   ]
  },
  {
   "cell_type": "code",
   "execution_count": 47,
   "id": "6fff31d6",
   "metadata": {},
   "outputs": [],
   "source": [
    "elements_in_snow_not_in_report = list(set(snow_res) - set(report_res))\n",
    "elements_in_report_not_in_snow = list(set(report_res)-set(snow_res))\n",
    "\n",
    "snow_file_path = \"Unflown_Revenue/snowonly_reservation.txt\"\n",
    "report_file_path = \"Unflown_Revenue/reportonly_reservation.txt\"\n",
    "\n",
    "# Open the file for writing\n",
    "with open(snow_file_path, \"w\") as file:\n",
    "    for item in elements_in_snow_not_in_report:\n",
    "        file.write(\"%s,\" % item)\n",
    "with open(report_file_path, \"w\") as file:\n",
    "    for item in elements_in_snow_not_in_report:\n",
    "        file.write(\"%s,\" % item)"
   ]
  }
 ],
 "metadata": {
  "kernelspec": {
   "display_name": "Python 3 (ipykernel)",
   "language": "python",
   "name": "python3"
  },
  "language_info": {
   "codemirror_mode": {
    "name": "ipython",
    "version": 3
   },
   "file_extension": ".py",
   "mimetype": "text/x-python",
   "name": "python",
   "nbconvert_exporter": "python",
   "pygments_lexer": "ipython3",
   "version": "3.8.17"
  }
 },
 "nbformat": 4,
 "nbformat_minor": 5
}
