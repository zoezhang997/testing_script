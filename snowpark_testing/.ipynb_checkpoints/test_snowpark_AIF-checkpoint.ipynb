{
 "cells": [
  {
   "cell_type": "markdown",
   "id": "1a93dfdb",
   "metadata": {},
   "source": [
    "# Accuracy:98.73% \n",
    "\n",
    "Things to note:\n",
    "1. Columns dropped- 'Total_PAX_Deplaned2','CAPACITY'\n",
    "2. Capacity incorrect in Iotware"
   ]
  },
  {
   "cell_type": "code",
   "execution_count": 31,
   "id": "be20d79b",
   "metadata": {},
   "outputs": [],
   "source": [
    "import getpass\n",
    "import pandas as pd\n",
    "import json\n",
    "from get_secret import get_secret\n",
    "import snowflake.connector"
   ]
  },
  {
   "cell_type": "markdown",
   "id": "2d67dcc2",
   "metadata": {},
   "source": [
    "# Import and clean snowflake views"
   ]
  },
  {
   "cell_type": "code",
   "execution_count": 38,
   "id": "f36305d3",
   "metadata": {},
   "outputs": [],
   "source": [
    "# Set up the Snowflake connection parameters\n",
    "config_json = json.loads(get_secret())\n",
    "config_json.update({'warehouse':'COMPUTE_WH', 'database':'ANALYTICS_PROD','schema': 'IOATAWARE',\"loglevel\":'DEBUG'})\n",
    "\n",
    "# Create a connection object\n",
    "conn = snowflake.connector.connect(**config_json)\n",
    "\n",
    "# Create a cursor object to execute SQL queries\n",
    "cur = conn.cursor()\n",
    "#Execute a sample SQL query\n",
    "query = \"\"\"\n",
    "select * from ANALYTICS_PROD.IOATAWARE.VW_AIF_REPORT where  \"FlightDate\"='06/03/2023' \n",
    "\"\"\"\n",
    "cur.execute(query)\n",
    "# Fetch the results\n",
    "results_df = cur.fetch_pandas_all()"
   ]
  },
  {
   "cell_type": "code",
   "execution_count": 40,
   "id": "f29f3ac0",
   "metadata": {},
   "outputs": [],
   "source": [
    "snowflake_pd_df = results_df"
   ]
  },
  {
   "cell_type": "code",
   "execution_count": 41,
   "id": "341838fc",
   "metadata": {},
   "outputs": [],
   "source": [
    "columns_to_remove = ['Total_PAX_Deplaned2','CAPACITY']\n",
    "snowflake_pd_df = snowflake_pd_df.drop(columns=columns_to_remove)\n",
    "snowflake_pd_df['FlightDate'] = pd.to_datetime(snowflake_pd_df['FlightDate'])\n",
    "snowflake_pd_df['FlightNum'] = snowflake_pd_df['FlightNum'].astype(int)"
   ]
  },
  {
   "cell_type": "markdown",
   "id": "0040d98b",
   "metadata": {},
   "source": [
    "# Import and clean report data"
   ]
  },
  {
   "cell_type": "code",
   "execution_count": 42,
   "id": "a1d27d5e",
   "metadata": {},
   "outputs": [],
   "source": [
    "report_df = pd.read_csv('AIF_REPORT/AIF_Report_0603.csv', skiprows=3)   "
   ]
  },
  {
   "cell_type": "code",
   "execution_count": 43,
   "id": "c2329ccc",
   "metadata": {},
   "outputs": [],
   "source": [
    "columns_to_remove = ['Total_PAX_Deplaned2','Capacity']\n",
    "report_df = report_df.drop(columns=columns_to_remove)\n",
    "\n",
    "report_df['FlightDate'] = pd.to_datetime(report_df['FlightDate'])"
   ]
  },
  {
   "cell_type": "markdown",
   "id": "72f05fe9",
   "metadata": {},
   "source": [
    "# Compare two dataframes"
   ]
  },
  {
   "cell_type": "code",
   "execution_count": 44,
   "id": "691c6edd",
   "metadata": {},
   "outputs": [],
   "source": [
    "snowflake_pd_df.columns = report_df.columns"
   ]
  },
  {
   "cell_type": "code",
   "execution_count": 45,
   "id": "8ad61759",
   "metadata": {},
   "outputs": [],
   "source": [
    "def calculate_df2_accuracy(df1, df2):\n",
    "    merged = df1.merge(df2, how = 'outer', indicator = True)\n",
    "    df1_only = merged[merged['_merge'] == \"left_only\"]\n",
    "    df2_only = merged[merged['_merge'] == \"right_only\"]\n",
    "\n",
    "\n",
    "    # Calculate accuracy as a percentage\n",
    "    accuracy_df1 = ((len(df1) - len(df1_only)) / len(df1)) * 100\n",
    "    accuracy_df2 = ((len(df2) - len(df2_only)) / len(df2)) * 100\n",
    "\n",
    "    return accuracy_df1,accuracy_df2,df1_only,df2_only\n"
   ]
  },
  {
   "cell_type": "code",
   "execution_count": 46,
   "id": "85592bb0",
   "metadata": {},
   "outputs": [],
   "source": [
    "report_accuracy,snowflake_accuracy,report_only,snowflake_only = calculate_df2_accuracy(report_df,snowflake_pd_df)"
   ]
  },
  {
   "cell_type": "code",
   "execution_count": 47,
   "id": "ced46804",
   "metadata": {},
   "outputs": [
    {
     "name": "stdout",
     "output_type": "stream",
     "text": [
      "Accuracy: 98.73% snowflake records in report\n",
      "The number of records in snowflake but not in report is 1\n",
      "Accuracy: 98.73% report records in snowflake\n",
      "The number of records in report but not in snowflake is 1\n"
     ]
    }
   ],
   "source": [
    "print(f\"Accuracy: {snowflake_accuracy:.2f}%\" \" snowflake records in report\\nThe number of records in snowflake but not in report is\", len(snowflake_only))\n",
    "print(f\"Accuracy: {report_accuracy:.2f}%\"\" report records in snowflake\\nThe number of records in report but not in snowflake is\", len(report_only))"
   ]
  },
  {
   "cell_type": "markdown",
   "id": "10d27906",
   "metadata": {},
   "source": [
    "# Output the difference file"
   ]
  },
  {
   "cell_type": "code",
   "execution_count": 18,
   "id": "62792626",
   "metadata": {},
   "outputs": [],
   "source": [
    "try:\n",
    "    snowflake_only.to_csv(\"AIF_Report/snowflake_only_record.csv\", index=False) \n",
    "except:\n",
    "    print(\"No snowflake only records\")\n",
    "try:\n",
    "    report_only.to_csv(\"AIF_Report/report_only_record.csv\", index=False) \n",
    "except:\n",
    "    print(\"No report only records\")"
   ]
  }
 ],
 "metadata": {
  "kernelspec": {
   "display_name": "Python 3 (ipykernel)",
   "language": "python",
   "name": "python3"
  },
  "language_info": {
   "codemirror_mode": {
    "name": "ipython",
    "version": 3
   },
   "file_extension": ".py",
   "mimetype": "text/x-python",
   "name": "python",
   "nbconvert_exporter": "python",
   "pygments_lexer": "ipython3",
   "version": "3.8.17"
  }
 },
 "nbformat": 4,
 "nbformat_minor": 5
}
