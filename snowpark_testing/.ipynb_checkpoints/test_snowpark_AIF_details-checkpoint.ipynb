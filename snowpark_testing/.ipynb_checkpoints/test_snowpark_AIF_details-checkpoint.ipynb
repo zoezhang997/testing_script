{
 "cells": [
  {
   "cell_type": "code",
   "execution_count": 8,
   "id": "0a879853",
   "metadata": {},
   "outputs": [],
   "source": [
    "import getpass\n",
    "import pandas as pd\n",
    "import json\n",
    "from get_secret import get_secret\n",
    "import snowflake.connector"
   ]
  },
  {
   "cell_type": "markdown",
   "id": "2d67dcc2",
   "metadata": {},
   "source": [
    "# Import and clean snowflake views"
   ]
  },
  {
   "cell_type": "code",
   "execution_count": 22,
   "id": "3a11d809",
   "metadata": {},
   "outputs": [],
   "source": [
    "config_json = json.loads(get_secret())\n",
    "config_json.update({'warehouse':'COMPUTE_WH', 'database':'ANALYTICS_PROD','schema': 'IOATAWARE',\"loglevel\":'DEBUG'})\n",
    "\n",
    "# Create a connection object\n",
    "conn = snowflake.connector.connect(**config_json)\n",
    "# Create a cursor object to execute SQL queries\n",
    "cur = conn.cursor()\n",
    "\n",
    "# Execute a sample SQL query\n",
    "query = \"\"\"\n",
    "select * from ANALYTICS_PROD.IOATAWARE.VW_AIF_REPORT_DETAIL where \"Flight Date\"='2023/06/03' and \"Flight ID\" = 111554\n",
    "\"\"\"\n",
    "# query = \"\"\"\n",
    "# select * from ANALYTICS_PROD.IOATAWARE.VW_AIF_REPORT_DETAIL limit 5\n",
    "# \"\"\"\n",
    "cur.execute(query)\n",
    "\n",
    "# Fetch the results\n",
    "results_df = cur.fetch_pandas_all()"
   ]
  },
  {
   "cell_type": "code",
   "execution_count": 26,
   "id": "f29f3ac0",
   "metadata": {},
   "outputs": [],
   "source": [
    "snowflake_pd_df = results_df"
   ]
  },
  {
   "cell_type": "code",
   "execution_count": 27,
   "id": "32f60f43",
   "metadata": {
    "scrolled": true
   },
   "outputs": [],
   "source": [
    "snowflake_pd_df['combined_timestamp'] = pd.to_datetime(snowflake_pd_df['Flight Date'] + ' ' + snowflake_pd_df['Flight time'])\n",
    "snowflake_pd_df['combined_timestamp_mt'] = snowflake_pd_df['combined_timestamp'].dt.tz_localize('UTC').dt.tz_convert('US/Mountain')\n",
    "snowflake_pd_df['Flight Date'] = snowflake_pd_df['combined_timestamp_mt'].dt.date"
   ]
  },
  {
   "cell_type": "code",
   "execution_count": 29,
   "id": "341838fc",
   "metadata": {},
   "outputs": [],
   "source": [
    "#Remove the columns we are not testing --Charge Date\n",
    "columns_to_remove = ['First Name','Flight ID', 'Last Name','Charge Date', 'combined_timestamp','combined_timestamp_mt','Flight time']\n",
    "snowflake_pd_df = snowflake_pd_df.drop(columns=columns_to_remove)\n",
    "snowflake_pd_df['Flight Date'] = pd.to_datetime(snowflake_pd_df['Flight Date'])\n",
    "snowflake_pd_df['Reservation Number'] = snowflake_pd_df['Reservation Number'].astype(int)\n",
    "snowflake_pd_df['Leg Number'] = snowflake_pd_df['Leg Number'].astype(int)\n",
    "snowflake_pd_df['Net Charge'] = snowflake_pd_df['Net Charge'].astype(float)"
   ]
  },
  {
   "cell_type": "code",
   "execution_count": 30,
   "id": "ad4c2336",
   "metadata": {},
   "outputs": [
    {
     "data": {
      "text/plain": [
       "Flight Date           datetime64[ns]\n",
       "Departure                     object\n",
       "Arrival                       object\n",
       "Reservation Number             int32\n",
       "Leg Number                     int32\n",
       "PNR                           object\n",
       "Check In Boarded              object\n",
       "Status                        object\n",
       "Charge Type                   object\n",
       "Net Charge                   float64\n",
       "Leg Start                     object\n",
       "Leg End                       object\n",
       "dtype: object"
      ]
     },
     "execution_count": 30,
     "metadata": {},
     "output_type": "execute_result"
    }
   ],
   "source": [
    "snowflake_pd_df.dtypes"
   ]
  },
  {
   "cell_type": "markdown",
   "id": "0040d98b",
   "metadata": {},
   "source": [
    "# Import and clean report data"
   ]
  },
  {
   "cell_type": "code",
   "execution_count": 31,
   "id": "a1d27d5e",
   "metadata": {},
   "outputs": [],
   "source": [
    "report_df = pd.read_csv('AIF_DETAIL/AIF_Report_Detail_111554.csv', skiprows=3)   "
   ]
  },
  {
   "cell_type": "code",
   "execution_count": 32,
   "id": "c2329ccc",
   "metadata": {},
   "outputs": [],
   "source": [
    "columns_to_remove = ['str_First_Name', 'str_Last_Name','ChargeDate']\n",
    "report_df = report_df.drop(columns=columns_to_remove)\n",
    "\n",
    "report_df['FlightDate1'] = pd.to_datetime(report_df['FlightDate1'])\n",
    "report_df['lng_Reservation_Nmbr'] = report_df['lng_Reservation_Nmbr'].astype(int)\n",
    "report_df['lng_Leg_Nmbr'] = report_df['lng_Leg_Nmbr'].astype(int)\n",
    "report_df['NetCharge'] = report_df['NetCharge'].str.replace('$', '')\n",
    "report_df['NetCharge'] = report_df['NetCharge'].str.replace(')', '')\n",
    "report_df['NetCharge'] = report_df['NetCharge'].str.replace('(', '-')\n",
    "report_df['NetCharge'] = report_df['NetCharge'].astype(float)"
   ]
  },
  {
   "cell_type": "markdown",
   "id": "72f05fe9",
   "metadata": {},
   "source": [
    "# Compare two dataframes"
   ]
  },
  {
   "cell_type": "code",
   "execution_count": 35,
   "id": "691c6edd",
   "metadata": {},
   "outputs": [],
   "source": [
    "snowflake_pd_df.columns = report_df.columns"
   ]
  },
  {
   "cell_type": "code",
   "execution_count": 36,
   "id": "fb597347",
   "metadata": {},
   "outputs": [],
   "source": [
    "merged = snowflake_pd_df.merge(report_df, how = 'outer', indicator = True)\n",
    "snowflake_only = merged[merged['_merge'] == \"left_only\"]\n",
    "common = merged[merged['_merge'] == \"both\"]\n",
    "report_only = merged[merged['_merge'] == \"right_only\"]"
   ]
  },
  {
   "cell_type": "code",
   "execution_count": 41,
   "id": "8ad61759",
   "metadata": {},
   "outputs": [],
   "source": [
    "def calculate_df2_accuracy(df1, df2):\n",
    "    merged = df1.merge(df2, how = 'outer', indicator = True)\n",
    "    df1_only = merged[merged['_merge'] == \"left_only\"]\n",
    "    df2_only = merged[merged['_merge'] == \"right_only\"]\n",
    "\n",
    "\n",
    "    # Calculate accuracy as a percentage\n",
    "    accuracy_df1 = ((len(df1) - len(df1_only)) / len(df1)) * 100\n",
    "    accuracy_df2 = ((len(df2) - len(df2_only)) / len(df2)) * 100\n",
    "\n",
    "    return accuracy_df1,accuracy_df2,df1_only,df2_only\n"
   ]
  },
  {
   "cell_type": "code",
   "execution_count": 42,
   "id": "599301cc",
   "metadata": {},
   "outputs": [],
   "source": [
    "report_accuracy,snowflake_accuracy,report_only,snowflake_only = calculate_df2_accuracy(report_df,snowflake_pd_df)"
   ]
  },
  {
   "cell_type": "code",
   "execution_count": 43,
   "id": "92cea7e6",
   "metadata": {},
   "outputs": [
    {
     "name": "stdout",
     "output_type": "stream",
     "text": [
      "Accuracy: 100.00% snowflake records in report\n",
      "The number of records in snowflake but not in report is 0\n",
      "Accuracy: 100.00% report records in snowflake\n",
      "The number of records in report but not in snowflake is 0\n"
     ]
    }
   ],
   "source": [
    "print(f\"Accuracy: {snowflake_accuracy:.2f}%\" \" snowflake records in report\\nThe number of records in snowflake but not in report is\", len(snowflake_only))\n",
    "print(f\"Accuracy: {report_accuracy:.2f}%\"\" report records in snowflake\\nThe number of records in report but not in snowflake is\", len(report_only))"
   ]
  },
  {
   "cell_type": "markdown",
   "id": "10d27906",
   "metadata": {},
   "source": [
    "# Output the difference file"
   ]
  },
  {
   "cell_type": "code",
   "execution_count": 29,
   "id": "62792626",
   "metadata": {},
   "outputs": [],
   "source": [
    "try:\n",
    "    snowflake_only.to_csv(\"snowflake_only_record.csv\", index=False) \n",
    "except:\n",
    "    print(\"No snowflake only records\")\n",
    "try:\n",
    "    report_only.to_csv(\"report_only_record.csv\", index=False) \n",
    "except:\n",
    "    print(\"No report only records\")"
   ]
  },
  {
   "cell_type": "code",
   "execution_count": null,
   "id": "d8c66d87",
   "metadata": {},
   "outputs": [],
   "source": []
  }
 ],
 "metadata": {
  "kernelspec": {
   "display_name": "Python 3 (ipykernel)",
   "language": "python",
   "name": "python3"
  },
  "language_info": {
   "codemirror_mode": {
    "name": "ipython",
    "version": 3
   },
   "file_extension": ".py",
   "mimetype": "text/x-python",
   "name": "python",
   "nbconvert_exporter": "python",
   "pygments_lexer": "ipython3",
   "version": "3.8.17"
  }
 },
 "nbformat": 4,
 "nbformat_minor": 5
}
