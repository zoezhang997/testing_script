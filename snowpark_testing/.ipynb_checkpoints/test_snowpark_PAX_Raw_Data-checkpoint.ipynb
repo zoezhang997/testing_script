{
 "cells": [
  {
   "cell_type": "code",
   "execution_count": 1,
   "id": "0a879853",
   "metadata": {},
   "outputs": [],
   "source": [
    "from snowflake.snowpark.session import Session\n",
    "from snowflake.snowpark.types import *\n",
    "from snowflake.snowpark.functions import col, lit\n",
    "import getpass\n",
    "import pandas as pd\n",
    "import json\n",
    "from get_secret import get_secret\n",
    "from snowflake.snowpark.session import Session\n",
    "import snowflake.connector"
   ]
  },
  {
   "cell_type": "code",
   "execution_count": 2,
   "id": "d3693af2",
   "metadata": {},
   "outputs": [],
   "source": [
    "connection_parameters = json.loads(get_secret())\n",
    "connection_parameters.update({'warehouse':'COMPUTE_WH', 'database':'ANALYTICS_PROD','schema': 'IOATAWARE',\"loglevel\":'DEBUG'})\n",
    "\n",
    "# Set up the Snowflake connection parameters\n",
    "config_json = json.loads(get_secret())\n",
    "config_json.update({'warehouse':'COMPUTE_WH', 'database':'ANALYTICS_PROD','schema': 'IOATAWARE',\"loglevel\":'DEBUG'})\n",
    "\n",
    "# Create a connection object\n",
    "conn = snowflake.connector.connect(**config_json)"
   ]
  },
  {
   "cell_type": "code",
   "execution_count": 3,
   "id": "486af731",
   "metadata": {},
   "outputs": [],
   "source": [
    "# print(f\"Current Database and schema: {session.get_fully_qualified_current_schema()}\")\n",
    "# print(f\"Current Warehouse: {session.get_current_warehouse()}\")"
   ]
  },
  {
   "cell_type": "markdown",
   "id": "2d67dcc2",
   "metadata": {},
   "source": [
    "# Import and clean snowflake views"
   ]
  },
  {
   "cell_type": "code",
   "execution_count": 4,
   "id": "f36305d3",
   "metadata": {},
   "outputs": [],
   "source": [
    "# Create a cursor object to execute SQL queries\n",
    "cur = conn.cursor()\n",
    "\n",
    "# Execute a sample SQL query\n",
    "query = \"select * from ANALYTICS_PROD.IOATAWARE.VW_AIF_REPORT where \\\"FlightDate\\\" ='06/03/2023' \"\n",
    "cur.execute(query)\n",
    "\n",
    "# Fetch the results\n",
    "results_df = cur.fetch_pandas_all()"
   ]
  },
  {
   "cell_type": "code",
   "execution_count": 5,
   "id": "f29f3ac0",
   "metadata": {},
   "outputs": [],
   "source": [
    "snowflake_pd_df = results_df"
   ]
  },
  {
   "cell_type": "code",
   "execution_count": 6,
   "id": "33052860",
   "metadata": {},
   "outputs": [
    {
     "data": {
      "text/plain": [
       "Flight_ID                 int32\n",
       "FlightDate               object\n",
       "FlightNum                object\n",
       "Departure                object\n",
       "Arrival                  object\n",
       "Tail_Identifier          object\n",
       "Total_PAX_OnBoard         int64\n",
       "Total_PAX_Enplaned        int64\n",
       "Total_PAX_NonRev          int64\n",
       "Total_PAX_FlowThru         int8\n",
       "Total_PAX_Connecting       int8\n",
       "Total_PAX_Deplaned        int64\n",
       "Total_PAX_Deplaned2       int64\n",
       "CAPACITY                float64\n",
       "dtype: object"
      ]
     },
     "execution_count": 6,
     "metadata": {},
     "output_type": "execute_result"
    }
   ],
   "source": [
    "snowflake_pd_df.dtypes"
   ]
  },
  {
   "cell_type": "code",
   "execution_count": 7,
   "id": "1a585a20",
   "metadata": {},
   "outputs": [
    {
     "data": {
      "text/html": [
       "<div>\n",
       "<style scoped>\n",
       "    .dataframe tbody tr th:only-of-type {\n",
       "        vertical-align: middle;\n",
       "    }\n",
       "\n",
       "    .dataframe tbody tr th {\n",
       "        vertical-align: top;\n",
       "    }\n",
       "\n",
       "    .dataframe thead th {\n",
       "        text-align: right;\n",
       "    }\n",
       "</style>\n",
       "<table border=\"1\" class=\"dataframe\">\n",
       "  <thead>\n",
       "    <tr style=\"text-align: right;\">\n",
       "      <th></th>\n",
       "      <th>Flight_ID</th>\n",
       "      <th>FlightDate</th>\n",
       "      <th>FlightNum</th>\n",
       "      <th>Departure</th>\n",
       "      <th>Arrival</th>\n",
       "      <th>Tail_Identifier</th>\n",
       "      <th>Total_PAX_OnBoard</th>\n",
       "      <th>Total_PAX_Enplaned</th>\n",
       "      <th>Total_PAX_NonRev</th>\n",
       "      <th>Total_PAX_FlowThru</th>\n",
       "      <th>Total_PAX_Connecting</th>\n",
       "      <th>Total_PAX_Deplaned</th>\n",
       "      <th>Total_PAX_Deplaned2</th>\n",
       "      <th>CAPACITY</th>\n",
       "    </tr>\n",
       "  </thead>\n",
       "  <tbody>\n",
       "    <tr>\n",
       "      <th>0</th>\n",
       "      <td>122516</td>\n",
       "      <td>06/03/2023</td>\n",
       "      <td>1607</td>\n",
       "      <td>SFB</td>\n",
       "      <td>YYZ</td>\n",
       "      <td>918</td>\n",
       "      <td>148</td>\n",
       "      <td>148</td>\n",
       "      <td>0</td>\n",
       "      <td>0</td>\n",
       "      <td>0</td>\n",
       "      <td>148</td>\n",
       "      <td>0</td>\n",
       "      <td>189.0</td>\n",
       "    </tr>\n",
       "    <tr>\n",
       "      <th>1</th>\n",
       "      <td>104615</td>\n",
       "      <td>06/03/2023</td>\n",
       "      <td>303</td>\n",
       "      <td>YHZ</td>\n",
       "      <td>YOW</td>\n",
       "      <td>912</td>\n",
       "      <td>131</td>\n",
       "      <td>131</td>\n",
       "      <td>0</td>\n",
       "      <td>0</td>\n",
       "      <td>0</td>\n",
       "      <td>131</td>\n",
       "      <td>0</td>\n",
       "      <td>189.0</td>\n",
       "    </tr>\n",
       "    <tr>\n",
       "      <th>2</th>\n",
       "      <td>148131</td>\n",
       "      <td>06/03/2023</td>\n",
       "      <td>758</td>\n",
       "      <td>YLW</td>\n",
       "      <td>YEG</td>\n",
       "      <td>913</td>\n",
       "      <td>144</td>\n",
       "      <td>141</td>\n",
       "      <td>3</td>\n",
       "      <td>0</td>\n",
       "      <td>0</td>\n",
       "      <td>144</td>\n",
       "      <td>0</td>\n",
       "      <td>189.0</td>\n",
       "    </tr>\n",
       "    <tr>\n",
       "      <th>3</th>\n",
       "      <td>148173</td>\n",
       "      <td>06/03/2023</td>\n",
       "      <td>759</td>\n",
       "      <td>YEG</td>\n",
       "      <td>YLW</td>\n",
       "      <td>913</td>\n",
       "      <td>146</td>\n",
       "      <td>146</td>\n",
       "      <td>0</td>\n",
       "      <td>0</td>\n",
       "      <td>0</td>\n",
       "      <td>146</td>\n",
       "      <td>0</td>\n",
       "      <td>189.0</td>\n",
       "    </tr>\n",
       "    <tr>\n",
       "      <th>4</th>\n",
       "      <td>113534</td>\n",
       "      <td>06/03/2023</td>\n",
       "      <td>644</td>\n",
       "      <td>YWG</td>\n",
       "      <td>YYZ</td>\n",
       "      <td>A320CJL</td>\n",
       "      <td>148</td>\n",
       "      <td>148</td>\n",
       "      <td>0</td>\n",
       "      <td>0</td>\n",
       "      <td>0</td>\n",
       "      <td>148</td>\n",
       "      <td>0</td>\n",
       "      <td>174.0</td>\n",
       "    </tr>\n",
       "    <tr>\n",
       "      <th>...</th>\n",
       "      <td>...</td>\n",
       "      <td>...</td>\n",
       "      <td>...</td>\n",
       "      <td>...</td>\n",
       "      <td>...</td>\n",
       "      <td>...</td>\n",
       "      <td>...</td>\n",
       "      <td>...</td>\n",
       "      <td>...</td>\n",
       "      <td>...</td>\n",
       "      <td>...</td>\n",
       "      <td>...</td>\n",
       "      <td>...</td>\n",
       "      <td>...</td>\n",
       "    </tr>\n",
       "    <tr>\n",
       "      <th>74</th>\n",
       "      <td>123418</td>\n",
       "      <td>06/03/2023</td>\n",
       "      <td>1777</td>\n",
       "      <td>LAS</td>\n",
       "      <td>YEG</td>\n",
       "      <td>909</td>\n",
       "      <td>136</td>\n",
       "      <td>136</td>\n",
       "      <td>0</td>\n",
       "      <td>0</td>\n",
       "      <td>0</td>\n",
       "      <td>136</td>\n",
       "      <td>0</td>\n",
       "      <td>189.0</td>\n",
       "    </tr>\n",
       "    <tr>\n",
       "      <th>75</th>\n",
       "      <td>106785</td>\n",
       "      <td>06/03/2023</td>\n",
       "      <td>503</td>\n",
       "      <td>YYC</td>\n",
       "      <td>YXX</td>\n",
       "      <td>913</td>\n",
       "      <td>121</td>\n",
       "      <td>121</td>\n",
       "      <td>0</td>\n",
       "      <td>0</td>\n",
       "      <td>0</td>\n",
       "      <td>121</td>\n",
       "      <td>0</td>\n",
       "      <td>189.0</td>\n",
       "    </tr>\n",
       "    <tr>\n",
       "      <th>76</th>\n",
       "      <td>148828</td>\n",
       "      <td>06/03/2023</td>\n",
       "      <td>1710</td>\n",
       "      <td>YEG</td>\n",
       "      <td>LAX</td>\n",
       "      <td>803</td>\n",
       "      <td>80</td>\n",
       "      <td>79</td>\n",
       "      <td>1</td>\n",
       "      <td>0</td>\n",
       "      <td>0</td>\n",
       "      <td>80</td>\n",
       "      <td>0</td>\n",
       "      <td>189.0</td>\n",
       "    </tr>\n",
       "    <tr>\n",
       "      <th>77</th>\n",
       "      <td>112666</td>\n",
       "      <td>06/03/2023</td>\n",
       "      <td>638</td>\n",
       "      <td>YEG</td>\n",
       "      <td>YYZ</td>\n",
       "      <td>803</td>\n",
       "      <td>157</td>\n",
       "      <td>152</td>\n",
       "      <td>5</td>\n",
       "      <td>0</td>\n",
       "      <td>0</td>\n",
       "      <td>157</td>\n",
       "      <td>0</td>\n",
       "      <td>189.0</td>\n",
       "    </tr>\n",
       "    <tr>\n",
       "      <th>78</th>\n",
       "      <td>122496</td>\n",
       "      <td>06/03/2023</td>\n",
       "      <td>1606</td>\n",
       "      <td>YYZ</td>\n",
       "      <td>SFB</td>\n",
       "      <td>918</td>\n",
       "      <td>31</td>\n",
       "      <td>31</td>\n",
       "      <td>0</td>\n",
       "      <td>0</td>\n",
       "      <td>0</td>\n",
       "      <td>31</td>\n",
       "      <td>0</td>\n",
       "      <td>189.0</td>\n",
       "    </tr>\n",
       "  </tbody>\n",
       "</table>\n",
       "<p>79 rows × 14 columns</p>\n",
       "</div>"
      ],
      "text/plain": [
       "    Flight_ID  FlightDate FlightNum Departure Arrival Tail_Identifier  \\\n",
       "0      122516  06/03/2023      1607     SFB     YYZ               918   \n",
       "1      104615  06/03/2023       303     YHZ     YOW               912   \n",
       "2      148131  06/03/2023       758     YLW     YEG               913   \n",
       "3      148173  06/03/2023       759     YEG     YLW               913   \n",
       "4      113534  06/03/2023       644     YWG     YYZ           A320CJL   \n",
       "..        ...         ...       ...       ...     ...             ...   \n",
       "74     123418  06/03/2023      1777     LAS     YEG               909   \n",
       "75     106785  06/03/2023       503     YYC     YXX               913   \n",
       "76     148828  06/03/2023      1710     YEG     LAX               803   \n",
       "77     112666  06/03/2023       638     YEG     YYZ               803   \n",
       "78     122496  06/03/2023      1606     YYZ     SFB               918   \n",
       "\n",
       "    Total_PAX_OnBoard  Total_PAX_Enplaned  Total_PAX_NonRev  \\\n",
       "0                 148                 148                 0   \n",
       "1                 131                 131                 0   \n",
       "2                 144                 141                 3   \n",
       "3                 146                 146                 0   \n",
       "4                 148                 148                 0   \n",
       "..                ...                 ...               ...   \n",
       "74                136                 136                 0   \n",
       "75                121                 121                 0   \n",
       "76                 80                  79                 1   \n",
       "77                157                 152                 5   \n",
       "78                 31                  31                 0   \n",
       "\n",
       "    Total_PAX_FlowThru  Total_PAX_Connecting  Total_PAX_Deplaned  \\\n",
       "0                    0                     0                 148   \n",
       "1                    0                     0                 131   \n",
       "2                    0                     0                 144   \n",
       "3                    0                     0                 146   \n",
       "4                    0                     0                 148   \n",
       "..                 ...                   ...                 ...   \n",
       "74                   0                     0                 136   \n",
       "75                   0                     0                 121   \n",
       "76                   0                     0                  80   \n",
       "77                   0                     0                 157   \n",
       "78                   0                     0                  31   \n",
       "\n",
       "    Total_PAX_Deplaned2  CAPACITY  \n",
       "0                     0     189.0  \n",
       "1                     0     189.0  \n",
       "2                     0     189.0  \n",
       "3                     0     189.0  \n",
       "4                     0     174.0  \n",
       "..                  ...       ...  \n",
       "74                    0     189.0  \n",
       "75                    0     189.0  \n",
       "76                    0     189.0  \n",
       "77                    0     189.0  \n",
       "78                    0     189.0  \n",
       "\n",
       "[79 rows x 14 columns]"
      ]
     },
     "execution_count": 7,
     "metadata": {},
     "output_type": "execute_result"
    }
   ],
   "source": [
    "snowflake_pd_df"
   ]
  },
  {
   "cell_type": "code",
   "execution_count": 8,
   "id": "341838fc",
   "metadata": {},
   "outputs": [],
   "source": [
    "columns_to_remove = ['Total_PAX_Deplaned2','CAPACITY']\n",
    "snowflake_pd_df = snowflake_pd_df.drop(columns=columns_to_remove)\n",
    "snowflake_pd_df['FlightDate'] = pd.to_datetime(snowflake_pd_df['FlightDate'])\n",
    "snowflake_pd_df['FlightNum'] = snowflake_pd_df['FlightNum'].astype(int)"
   ]
  },
  {
   "cell_type": "code",
   "execution_count": 9,
   "id": "ad4c2336",
   "metadata": {},
   "outputs": [
    {
     "data": {
      "text/plain": [
       "Flight_ID                        int32\n",
       "FlightDate              datetime64[ns]\n",
       "FlightNum                        int32\n",
       "Departure                       object\n",
       "Arrival                         object\n",
       "Tail_Identifier                 object\n",
       "Total_PAX_OnBoard                int64\n",
       "Total_PAX_Enplaned               int64\n",
       "Total_PAX_NonRev                 int64\n",
       "Total_PAX_FlowThru                int8\n",
       "Total_PAX_Connecting              int8\n",
       "Total_PAX_Deplaned               int64\n",
       "dtype: object"
      ]
     },
     "execution_count": 9,
     "metadata": {},
     "output_type": "execute_result"
    }
   ],
   "source": [
    "snowflake_pd_df.dtypes"
   ]
  },
  {
   "cell_type": "markdown",
   "id": "0040d98b",
   "metadata": {},
   "source": [
    "# Import and clean report data"
   ]
  },
  {
   "cell_type": "code",
   "execution_count": 10,
   "id": "a1d27d5e",
   "metadata": {},
   "outputs": [],
   "source": [
    "report_df = pd.read_csv('AIF_REPORT/AIF_Report_0603.csv', skiprows=3)   "
   ]
  },
  {
   "cell_type": "code",
   "execution_count": 11,
   "id": "30bb3111",
   "metadata": {},
   "outputs": [
    {
     "data": {
      "text/plain": [
       "Flight_ID                int64\n",
       "FlightDate              object\n",
       "FlightNum                int64\n",
       "Departure               object\n",
       "Arrival                 object\n",
       "Tail_Identifier         object\n",
       "Total_PAX_OnBoard        int64\n",
       "Total_PAX_Enplaned       int64\n",
       "Total_PAX_NonRev         int64\n",
       "Total_PAX_FlowThru       int64\n",
       "Total_PAX_Connecting     int64\n",
       "Total_PAX_Deplaned       int64\n",
       "Total_PAX_Deplaned2      int64\n",
       "Capacity                 int64\n",
       "dtype: object"
      ]
     },
     "execution_count": 11,
     "metadata": {},
     "output_type": "execute_result"
    }
   ],
   "source": [
    "report_df.dtypes"
   ]
  },
  {
   "cell_type": "code",
   "execution_count": 12,
   "id": "c2329ccc",
   "metadata": {},
   "outputs": [],
   "source": [
    "columns_to_remove = ['Total_PAX_Deplaned2','Capacity']\n",
    "report_df = report_df.drop(columns=columns_to_remove)\n",
    "\n",
    "report_df['FlightDate'] = pd.to_datetime(report_df['FlightDate'])"
   ]
  },
  {
   "cell_type": "markdown",
   "id": "72f05fe9",
   "metadata": {},
   "source": [
    "# Compare two dataframes"
   ]
  },
  {
   "cell_type": "code",
   "execution_count": 13,
   "id": "691c6edd",
   "metadata": {},
   "outputs": [],
   "source": [
    "snowflake_pd_df.columns = report_df.columns"
   ]
  },
  {
   "cell_type": "code",
   "execution_count": 14,
   "id": "fb597347",
   "metadata": {},
   "outputs": [],
   "source": [
    "merged = snowflake_pd_df.merge(report_df, how = 'outer', indicator = True)\n",
    "snowflake_only = merged[merged['_merge'] == \"left_only\"]\n",
    "common = merged[merged['_merge'] == \"both\"]\n",
    "report_only = merged[merged['_merge'] == \"right_only\"]"
   ]
  },
  {
   "cell_type": "code",
   "execution_count": 15,
   "id": "8ad61759",
   "metadata": {},
   "outputs": [],
   "source": [
    "def calculate_df2_accuracy(df1, df2):\n",
    "    merged = df1.merge(df2, how = 'outer', indicator = True)\n",
    "    #matched = merged[merged['_merge'] == \"both\"]\n",
    "    df1_only = merged[merged['_merge'] == \"left_only\"]\n",
    "    df2_only = merged[merged['_merge'] == \"right_only\"]\n",
    "\n",
    "    # Calculate the total number of elements\n",
    "    total_elements = len(df2)\n",
    "\n",
    "    # Calculate accuracy as a percentage\n",
    "    accuracy = ((total_elements - len(df2_only)) / total_elements) * 100\n",
    "\n",
    "    return accuracy\n"
   ]
  },
  {
   "cell_type": "code",
   "execution_count": 16,
   "id": "92cea7e6",
   "metadata": {},
   "outputs": [
    {
     "name": "stdout",
     "output_type": "stream",
     "text": [
      "Accuracy: 98.73% snowflake records in report\n",
      "The number of records in snowflake but not in report is 1\n"
     ]
    }
   ],
   "source": [
    "accuracy_percentage = calculate_df2_accuracy(report_df,snowflake_pd_df)\n",
    "print(f\"Accuracy: {accuracy_percentage:.2f}%\" \" snowflake records in report\\nThe number of records in snowflake but not in report is\", len(snowflake_only))"
   ]
  },
  {
   "cell_type": "code",
   "execution_count": 17,
   "id": "94d058cc",
   "metadata": {},
   "outputs": [
    {
     "name": "stdout",
     "output_type": "stream",
     "text": [
      "Accuracy: 98.73% report records in snowflake\n",
      "The number of records in report but not in snowflake is 1\n"
     ]
    }
   ],
   "source": [
    "accuracy_percentage = calculate_df2_accuracy(snowflake_pd_df, report_df)\n",
    "print(f\"Accuracy: {accuracy_percentage:.2f}%\"\" report records in snowflake\\nThe number of records in report but not in snowflake is\", len(report_only))"
   ]
  },
  {
   "cell_type": "markdown",
   "id": "10d27906",
   "metadata": {},
   "source": [
    "# Output the difference file"
   ]
  },
  {
   "cell_type": "code",
   "execution_count": 18,
   "id": "62792626",
   "metadata": {},
   "outputs": [],
   "source": [
    "try:\n",
    "    snowflake_only.to_csv(\"AIF_Report/snowflake_only_record.csv\", index=False) \n",
    "except:\n",
    "    print(\"No snowflake only records\")\n",
    "try:\n",
    "    report_only.to_csv(\"AIF_Report/report_only_record.csv\", index=False) \n",
    "except:\n",
    "    print(\"No report only records\")"
   ]
  },
  {
   "cell_type": "code",
   "execution_count": null,
   "id": "d8c66d87",
   "metadata": {},
   "outputs": [],
   "source": []
  }
 ],
 "metadata": {
  "kernelspec": {
   "display_name": "Python 3 (ipykernel)",
   "language": "python",
   "name": "python3"
  },
  "language_info": {
   "codemirror_mode": {
    "name": "ipython",
    "version": 3
   },
   "file_extension": ".py",
   "mimetype": "text/x-python",
   "name": "python",
   "nbconvert_exporter": "python",
   "pygments_lexer": "ipython3",
   "version": "3.8.17"
  }
 },
 "nbformat": 4,
 "nbformat_minor": 5
}
