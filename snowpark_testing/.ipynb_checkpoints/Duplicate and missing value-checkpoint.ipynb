{
 "cells": [
  {
   "cell_type": "code",
   "execution_count": 251,
   "id": "0a879853",
   "metadata": {},
   "outputs": [],
   "source": [
    "from snowflake.snowpark.session import Session\n",
    "from snowflake.snowpark.types import *\n",
    "from snowflake.snowpark.functions import col, lit\n",
    "import getpass\n",
    "import pandas as pd\n",
    "import json\n",
    "from get_secret import get_secret\n",
    "from datetime import datetime\n",
    "import snowflake.snowpark.functions as F"
   ]
  },
  {
   "cell_type": "code",
   "execution_count": 252,
   "id": "d3693af2",
   "metadata": {},
   "outputs": [],
   "source": [
    "connection_parameters = json.loads(get_secret())\n",
    "connection_parameters.update({'warehouse':'COMPUTE_WH', 'database':'ANALYTICS_PROD','schema': 'IOATAWARE',\"loglevel\":'DEBUG'})\n",
    "session = Session.builder.configs(connection_parameters).create()"
   ]
  },
  {
   "cell_type": "code",
   "execution_count": 253,
   "id": "486af731",
   "metadata": {},
   "outputs": [
    {
     "name": "stdout",
     "output_type": "stream",
     "text": [
      "Current Database and schema: \"ANALYTICS_PROD\".\"IOATAWARE\"\n",
      "Current Warehouse: \"COMPUTE_WH\"\n"
     ]
    }
   ],
   "source": [
    "print(f\"Current Database and schema: {session.get_fully_qualified_current_schema()}\")\n",
    "print(f\"Current Warehouse: {session.get_current_warehouse()}\")"
   ]
  },
  {
   "cell_type": "code",
   "execution_count": 254,
   "id": "2e519e93",
   "metadata": {},
   "outputs": [],
   "source": [
    "import warnings\n",
    "\n",
    "# Ignore all warnings\n",
    "warnings.filterwarnings('ignore', category=Warning)"
   ]
  },
  {
   "cell_type": "markdown",
   "id": "2d67dcc2",
   "metadata": {},
   "source": [
    "# For snowflake views"
   ]
  },
  {
   "cell_type": "code",
   "execution_count": 255,
   "id": "91f41bed",
   "metadata": {},
   "outputs": [],
   "source": [
    "view_name = \"VW_REVENUE_RAW_DATA\"\n",
    "flight_date1 = \"07/30/2023\"\n",
    "flight_date2 = \"07/31/2023\""
   ]
  },
  {
   "cell_type": "code",
   "execution_count": 256,
   "id": "b3160ace",
   "metadata": {},
   "outputs": [],
   "source": [
    "snowpark_df = session.table(view_name)"
   ]
  },
  {
   "cell_type": "code",
   "execution_count": 257,
   "id": "f29f3ac0",
   "metadata": {},
   "outputs": [],
   "source": [
    "snowflake_pd_df1 = snowpark_df.filter(F.col('Flight Date') == flight_date1).to_pandas()\n",
    "snowflake_pd_df2 = snowpark_df.filter(F.col('Flight Date') == flight_date2).to_pandas() \n",
    "snowflake_pd_df = pd.concat([snowflake_pd_df1,snowflake_pd_df2]).reset_index()"
   ]
  },
  {
   "cell_type": "code",
   "execution_count": 258,
   "id": "32f60f43",
   "metadata": {
    "scrolled": true
   },
   "outputs": [],
   "source": [
    "snowflake_pd_df['Flight Date'] = snowflake_pd_df['Flight MST Date'].dt.date\n",
    "snowflake_pd_df['Flight Date'] = pd.to_datetime(snowflake_pd_df['Flight Date'], format='%Y-%m-%d')\n",
    "snowflake_pd_df = snowflake_pd_df[snowflake_pd_df['Flight Date'] == \"2023-07-30\"]"
   ]
  },
  {
   "cell_type": "markdown",
   "id": "0505bef1",
   "metadata": {},
   "source": [
    "# Check the Duplicates for snowflake"
   ]
  },
  {
   "cell_type": "code",
   "execution_count": 259,
   "id": "3501df4a",
   "metadata": {},
   "outputs": [],
   "source": [
    "columns_check = ['Legs Id Nmbr','Charge Date','Total Charge' ,'Charges Desc']"
   ]
  },
  {
   "cell_type": "code",
   "execution_count": 260,
   "id": "dbb6ebc2",
   "metadata": {},
   "outputs": [],
   "source": [
    "duplicate_mask = snowflake_pd_df.duplicated(subset=columns_check, keep=False)\n",
    "\n",
    "# Filter the DataFrame to show only the duplicate rows\n",
    "duplicates_df = snowflake_pd_df[duplicate_mask]"
   ]
  },
  {
   "cell_type": "code",
   "execution_count": 261,
   "id": "b1c209f7",
   "metadata": {},
   "outputs": [],
   "source": [
    "#duplicates_df.to_csv(\"Duplicate_records.csv\")"
   ]
  },
  {
   "cell_type": "code",
   "execution_count": 262,
   "id": "80343a0b",
   "metadata": {},
   "outputs": [
    {
     "name": "stdout",
     "output_type": "stream",
     "text": [
      "Duplicate records percentage:  2.855145656320444 %\n"
     ]
    }
   ],
   "source": [
    "print( \"Duplicate records percentage: \",(len(duplicates_df)/len(snowflake_pd_df))*100,\"%\")"
   ]
  },
  {
   "cell_type": "markdown",
   "id": "296c5ab4",
   "metadata": {},
   "source": [
    "# For report"
   ]
  },
  {
   "cell_type": "code",
   "execution_count": 263,
   "id": "c3c42e3d",
   "metadata": {},
   "outputs": [],
   "source": [
    "report_df = pd.read_csv('Revenue/Revenue_Raw_Data_0730.csv', skiprows=0)   "
   ]
  },
  {
   "cell_type": "code",
   "execution_count": 264,
   "id": "bd61fcaa",
   "metadata": {},
   "outputs": [],
   "source": [
    "#report_df.columns"
   ]
  },
  {
   "cell_type": "code",
   "execution_count": 265,
   "id": "c9b9eddb",
   "metadata": {},
   "outputs": [],
   "source": [
    "report_select = report_df[['lng_Reservation_Nmbr','TotalCharge']]\n",
    "\n",
    "report_select['TotalCharge'] = report_select['TotalCharge'].str.replace('$', '')\n",
    "report_select['TotalCharge'] = report_select['TotalCharge'].str.replace(')', '')\n",
    "report_select['TotalCharge'] = report_select['TotalCharge'].str.replace('(', '-')\n",
    "\n",
    "report_select['TotalCharge'] = report_select['TotalCharge'].astype(float)"
   ]
  },
  {
   "cell_type": "code",
   "execution_count": 266,
   "id": "d4b80af3",
   "metadata": {},
   "outputs": [],
   "source": [
    "iot_count_df = report_select.groupby(by =['lng_Reservation_Nmbr']).size().to_frame()\n",
    "iot_sum_df = report_select.groupby(by =['lng_Reservation_Nmbr']).sum()"
   ]
  },
  {
   "cell_type": "code",
   "execution_count": 267,
   "id": "18ca93f6",
   "metadata": {},
   "outputs": [],
   "source": [
    "iot_df = iot_sum_df.join(iot_count_df, on = 'lng_Reservation_Nmbr', how= 'left',lsuffix='sum')"
   ]
  },
  {
   "cell_type": "code",
   "execution_count": 268,
   "id": "97cf0ed3",
   "metadata": {},
   "outputs": [],
   "source": [
    "iot_df.columns = ['TotalCharge','Count']"
   ]
  },
  {
   "cell_type": "markdown",
   "id": "aa1949cf",
   "metadata": {},
   "source": [
    "# Check duplicates for report"
   ]
  },
  {
   "cell_type": "code",
   "execution_count": 270,
   "id": "80bdadc4",
   "metadata": {},
   "outputs": [],
   "source": [
    "columns_check = ['lng_Res_Legs_Id_Nmbr','ChargeDate','TotalCharge' ,'str_GL_Charges_Desc']"
   ]
  },
  {
   "cell_type": "code",
   "execution_count": 271,
   "id": "65365724",
   "metadata": {},
   "outputs": [],
   "source": [
    "duplicate_mask = report_df.duplicated(subset=columns_check, keep=False)\n",
    "\n",
    "# Filter the DataFrame to show only the duplicate rows\n",
    "duplicates_df = report_df[duplicate_mask]"
   ]
  },
  {
   "cell_type": "code",
   "execution_count": 272,
   "id": "9ae3aa3c",
   "metadata": {},
   "outputs": [],
   "source": [
    "#duplicates_df"
   ]
  },
  {
   "cell_type": "code",
   "execution_count": 45,
   "id": "094ab73f",
   "metadata": {},
   "outputs": [],
   "source": [
    "#duplicates_df.to_csv(\"Duplicate_report_records.csv\")"
   ]
  },
  {
   "cell_type": "code",
   "execution_count": 273,
   "id": "6bca19fb",
   "metadata": {},
   "outputs": [
    {
     "name": "stdout",
     "output_type": "stream",
     "text": [
      "Duplicate records percentage:  1.0773604668562022 %\n"
     ]
    }
   ],
   "source": [
    "print( \"Duplicate records percentage: \",(len(duplicates_df)/len(report_df))*100,\"%\")"
   ]
  },
  {
   "cell_type": "markdown",
   "id": "aebb7bd8",
   "metadata": {},
   "source": [
    "# Missing records"
   ]
  },
  {
   "cell_type": "code",
   "execution_count": 275,
   "id": "0fa39aab",
   "metadata": {},
   "outputs": [],
   "source": [
    "snow_df = snowflake_pd_df[['Reservation Nmbr','Total Charge']]\n",
    "\n",
    "snow_df['Total Charge'] = snow_df['Total Charge'].astype(float)\n",
    "snow_count_df = snow_df.groupby(by =['Reservation Nmbr']).size().to_frame()\n",
    "snow_sum_df = snow_df.groupby(by =['Reservation Nmbr']).sum()\n",
    "\n",
    "snow_result_df = snow_sum_df.join(snow_count_df, on = 'Reservation Nmbr', how= 'left',lsuffix='sum')\n",
    "\n",
    "snow_result_df.columns = ['Total Charge','Count']\n",
    "snow_result_df['Total Charge'] = round(snow_result_df['Total Charge'],2)"
   ]
  },
  {
   "cell_type": "code",
   "execution_count": 276,
   "id": "29f895ea",
   "metadata": {},
   "outputs": [],
   "source": [
    "snow_result_df['Reservation Number'] = snow_result_df.index\n",
    "snow_result_df = snow_result_df.reset_index(drop=True)"
   ]
  },
  {
   "cell_type": "code",
   "execution_count": 277,
   "id": "16e77daf",
   "metadata": {},
   "outputs": [],
   "source": [
    "iot_df['Reservation Number'] = iot_df.index\n",
    "iot_df = iot_df.reset_index(drop=True)\n",
    "iot_df.columns = snow_result_df.columns"
   ]
  },
  {
   "cell_type": "code",
   "execution_count": 282,
   "id": "9972a986",
   "metadata": {},
   "outputs": [],
   "source": [
    "iot_df['Total Charge'] = iot_df['Total Charge'].round(2)\n",
    "snow_result_df['Total Charge'] = snow_result_df['Total Charge'].round(2)"
   ]
  },
  {
   "cell_type": "code",
   "execution_count": 283,
   "id": "b67b66b7",
   "metadata": {},
   "outputs": [],
   "source": [
    "iot_df = iot_df.fillna(0)\n",
    "snow_result_df = snow_result_df.fillna(0)\n",
    "#snow_result_df.dtypes =  snow_result_df.astype(iot_df.dtypes) "
   ]
  },
  {
   "cell_type": "code",
   "execution_count": 284,
   "id": "e3ecc8a9",
   "metadata": {},
   "outputs": [],
   "source": [
    "left_join_df =  pd.merge(snow_result_df, iot_df, on='Reservation Number', how='left',suffixes=('_snowflake', '_iot'))"
   ]
  },
  {
   "cell_type": "code",
   "execution_count": 287,
   "id": "dfafba2a",
   "metadata": {},
   "outputs": [],
   "source": [
    "left_join_df ['Difference Charge'] = left_join_df['Total Charge_snowflake'] - left_join_df['Total Charge_iot']\n",
    "left_join_df ['Difference Count'] = left_join_df['Count_snowflake'] - left_join_df['Count_iot']"
   ]
  },
  {
   "cell_type": "code",
   "execution_count": 288,
   "id": "0e55a5df",
   "metadata": {},
   "outputs": [],
   "source": [
    "missing = left_join_df[left_join_df['Difference Charge'] != 0]"
   ]
  },
  {
   "cell_type": "code",
   "execution_count": 289,
   "id": "0a9d6c94",
   "metadata": {},
   "outputs": [],
   "source": [
    "reservation_number = duplicates_df['lng_Reservation_Nmbr'].unique()"
   ]
  },
  {
   "cell_type": "code",
   "execution_count": 290,
   "id": "a5a27db3",
   "metadata": {},
   "outputs": [],
   "source": [
    "final_df = missing[~missing['Reservation Number'].isin(reservation_number)]"
   ]
  },
  {
   "cell_type": "code",
   "execution_count": 291,
   "id": "90482e90",
   "metadata": {},
   "outputs": [
    {
     "data": {
      "text/html": [
       "<div>\n",
       "<style scoped>\n",
       "    .dataframe tbody tr th:only-of-type {\n",
       "        vertical-align: middle;\n",
       "    }\n",
       "\n",
       "    .dataframe tbody tr th {\n",
       "        vertical-align: top;\n",
       "    }\n",
       "\n",
       "    .dataframe thead th {\n",
       "        text-align: right;\n",
       "    }\n",
       "</style>\n",
       "<table border=\"1\" class=\"dataframe\">\n",
       "  <thead>\n",
       "    <tr style=\"text-align: right;\">\n",
       "      <th></th>\n",
       "      <th>Total Charge_snowflake</th>\n",
       "      <th>Count_snowflake</th>\n",
       "      <th>Reservation Number</th>\n",
       "      <th>Total Charge_iot</th>\n",
       "      <th>Count_iot</th>\n",
       "      <th>Difference Charge</th>\n",
       "      <th>Difference Count</th>\n",
       "    </tr>\n",
       "  </thead>\n",
       "  <tbody>\n",
       "    <tr>\n",
       "      <th>3</th>\n",
       "      <td>189.46</td>\n",
       "      <td>30</td>\n",
       "      <td>2656739</td>\n",
       "      <td>90.01</td>\n",
       "      <td>8.0</td>\n",
       "      <td>99.45</td>\n",
       "      <td>22.0</td>\n",
       "    </tr>\n",
       "    <tr>\n",
       "      <th>7</th>\n",
       "      <td>160.81</td>\n",
       "      <td>10</td>\n",
       "      <td>3485044</td>\n",
       "      <td>NaN</td>\n",
       "      <td>NaN</td>\n",
       "      <td>NaN</td>\n",
       "      <td>NaN</td>\n",
       "    </tr>\n",
       "    <tr>\n",
       "      <th>8</th>\n",
       "      <td>507.27</td>\n",
       "      <td>42</td>\n",
       "      <td>3598360</td>\n",
       "      <td>320.21</td>\n",
       "      <td>18.0</td>\n",
       "      <td>187.06</td>\n",
       "      <td>24.0</td>\n",
       "    </tr>\n",
       "    <tr>\n",
       "      <th>9</th>\n",
       "      <td>474.27</td>\n",
       "      <td>60</td>\n",
       "      <td>3598556</td>\n",
       "      <td>193.68</td>\n",
       "      <td>24.0</td>\n",
       "      <td>280.59</td>\n",
       "      <td>36.0</td>\n",
       "    </tr>\n",
       "    <tr>\n",
       "      <th>13</th>\n",
       "      <td>0.00</td>\n",
       "      <td>110</td>\n",
       "      <td>4049975</td>\n",
       "      <td>-1034.90</td>\n",
       "      <td>85.0</td>\n",
       "      <td>1034.90</td>\n",
       "      <td>25.0</td>\n",
       "    </tr>\n",
       "    <tr>\n",
       "      <th>...</th>\n",
       "      <td>...</td>\n",
       "      <td>...</td>\n",
       "      <td>...</td>\n",
       "      <td>...</td>\n",
       "      <td>...</td>\n",
       "      <td>...</td>\n",
       "      <td>...</td>\n",
       "    </tr>\n",
       "    <tr>\n",
       "      <th>17759</th>\n",
       "      <td>0.00</td>\n",
       "      <td>10</td>\n",
       "      <td>8831540</td>\n",
       "      <td>NaN</td>\n",
       "      <td>NaN</td>\n",
       "      <td>NaN</td>\n",
       "      <td>NaN</td>\n",
       "    </tr>\n",
       "    <tr>\n",
       "      <th>17760</th>\n",
       "      <td>0.00</td>\n",
       "      <td>6</td>\n",
       "      <td>8831561</td>\n",
       "      <td>NaN</td>\n",
       "      <td>NaN</td>\n",
       "      <td>NaN</td>\n",
       "      <td>NaN</td>\n",
       "    </tr>\n",
       "    <tr>\n",
       "      <th>17769</th>\n",
       "      <td>0.00</td>\n",
       "      <td>20</td>\n",
       "      <td>8831842</td>\n",
       "      <td>NaN</td>\n",
       "      <td>NaN</td>\n",
       "      <td>NaN</td>\n",
       "      <td>NaN</td>\n",
       "    </tr>\n",
       "    <tr>\n",
       "      <th>17777</th>\n",
       "      <td>0.00</td>\n",
       "      <td>8</td>\n",
       "      <td>8832374</td>\n",
       "      <td>NaN</td>\n",
       "      <td>NaN</td>\n",
       "      <td>NaN</td>\n",
       "      <td>NaN</td>\n",
       "    </tr>\n",
       "    <tr>\n",
       "      <th>17779</th>\n",
       "      <td>0.00</td>\n",
       "      <td>10</td>\n",
       "      <td>8833130</td>\n",
       "      <td>NaN</td>\n",
       "      <td>NaN</td>\n",
       "      <td>NaN</td>\n",
       "      <td>NaN</td>\n",
       "    </tr>\n",
       "  </tbody>\n",
       "</table>\n",
       "<p>6608 rows × 7 columns</p>\n",
       "</div>"
      ],
      "text/plain": [
       "       Total Charge_snowflake  Count_snowflake  Reservation Number  \\\n",
       "3                      189.46               30             2656739   \n",
       "7                      160.81               10             3485044   \n",
       "8                      507.27               42             3598360   \n",
       "9                      474.27               60             3598556   \n",
       "13                       0.00              110             4049975   \n",
       "...                       ...              ...                 ...   \n",
       "17759                    0.00               10             8831540   \n",
       "17760                    0.00                6             8831561   \n",
       "17769                    0.00               20             8831842   \n",
       "17777                    0.00                8             8832374   \n",
       "17779                    0.00               10             8833130   \n",
       "\n",
       "       Total Charge_iot  Count_iot  Difference Charge  Difference Count  \n",
       "3                 90.01        8.0              99.45              22.0  \n",
       "7                   NaN        NaN                NaN               NaN  \n",
       "8                320.21       18.0             187.06              24.0  \n",
       "9                193.68       24.0             280.59              36.0  \n",
       "13             -1034.90       85.0            1034.90              25.0  \n",
       "...                 ...        ...                ...               ...  \n",
       "17759               NaN        NaN                NaN               NaN  \n",
       "17760               NaN        NaN                NaN               NaN  \n",
       "17769               NaN        NaN                NaN               NaN  \n",
       "17777               NaN        NaN                NaN               NaN  \n",
       "17779               NaN        NaN                NaN               NaN  \n",
       "\n",
       "[6608 rows x 7 columns]"
      ]
     },
     "execution_count": 291,
     "metadata": {},
     "output_type": "execute_result"
    }
   ],
   "source": [
    "#checking with Jeremy what's table is left join\n",
    "final_df"
   ]
  }
 ],
 "metadata": {
  "kernelspec": {
   "display_name": "Python 3 (ipykernel)",
   "language": "python",
   "name": "python3"
  },
  "language_info": {
   "codemirror_mode": {
    "name": "ipython",
    "version": 3
   },
   "file_extension": ".py",
   "mimetype": "text/x-python",
   "name": "python",
   "nbconvert_exporter": "python",
   "pygments_lexer": "ipython3",
   "version": "3.8.17"
  }
 },
 "nbformat": 4,
 "nbformat_minor": 5
}
