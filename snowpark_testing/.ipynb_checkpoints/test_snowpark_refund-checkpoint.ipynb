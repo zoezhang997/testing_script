{
 "cells": [
  {
   "cell_type": "markdown",
   "id": "ea681461",
   "metadata": {},
   "source": [
    "## Accuracy: 98.31%\n",
    "\n",
    "Things to note:\n",
    "1. "
   ]
  },
  {
   "cell_type": "code",
   "execution_count": 1,
   "id": "b80fcc6d",
   "metadata": {},
   "outputs": [],
   "source": [
    "from snowflake.snowpark.session import Session\n",
    "from snowflake.snowpark.types import *\n",
    "from snowflake.snowpark.functions import col, lit\n",
    "import getpass\n",
    "import pandas as pd\n",
    "import json\n",
    "from get_secret import get_secret\n",
    "from datetime import datetime\n",
    "import snowflake.snowpark.functions as F"
   ]
  },
  {
   "cell_type": "code",
   "execution_count": 2,
   "id": "f4ef5b34",
   "metadata": {},
   "outputs": [],
   "source": [
    "def process_fee_column(value):\n",
    "    value = value.replace('$', '')  # Remove $\n",
    "    value = value.replace(')', '')   # Remove )\n",
    "    value = value.replace('(', '-')   # Replace ( with -\n",
    "    return float(value)"
   ]
  },
  {
   "cell_type": "code",
   "execution_count": 3,
   "id": "64abc6d5",
   "metadata": {},
   "outputs": [],
   "source": [
    "def convert_to_hms(time_string):\n",
    "    input_formats = [\"%I:%M %p\", \"%I:%M:%S %p\"]\n",
    "    output_format = \"%H:%M:%S\"\n",
    "    \n",
    "    formatted_time = None\n",
    "    \n",
    "    for input_format in input_formats:\n",
    "        try:\n",
    "            input_time = datetime.strptime(time_string, input_format)\n",
    "            formatted_time = input_time.strftime(output_format)\n",
    "            break\n",
    "        except ValueError:\n",
    "            pass\n",
    "    \n",
    "    return formatted_time"
   ]
  },
  {
   "cell_type": "code",
   "execution_count": 4,
   "id": "d3693af2",
   "metadata": {},
   "outputs": [],
   "source": [
    "connection_parameters = json.loads(get_secret())\n",
    "connection_parameters.update({'warehouse':'COMPUTE_WH', 'database':'ANALYTICS_PROD','schema': 'IOATAWARE',\"loglevel\":'DEBUG'})\n",
    "session = Session.builder.configs(connection_parameters).create()"
   ]
  },
  {
   "cell_type": "code",
   "execution_count": 5,
   "id": "486af731",
   "metadata": {},
   "outputs": [],
   "source": [
    "print(f\"Current Database and schema: {session.get_fully_qualified_current_schema()}\")\n",
    "print(f\"Current Warehouse: {session.get_current_warehouse()}\")"
   ]
  },
  {
   "cell_type": "markdown",
   "id": "2d67dcc2",
   "metadata": {},
   "source": [
    "# Import and clean snowflake views"
   ]
  },
  {
   "cell_type": "code",
   "execution_count": 6,
   "id": "91f41bed",
   "metadata": {},
   "outputs": [],
   "source": [
    "view_name = \"VW_REFUNDS_RAW_DATA\"\n",
    "date = \"08/01/2023\""
   ]
  },
  {
   "cell_type": "code",
   "execution_count": 7,
   "id": "b3160ace",
   "metadata": {},
   "outputs": [],
   "source": [
    "snowpark_df = session.table(view_name)"
   ]
  },
  {
   "cell_type": "code",
   "execution_count": 8,
   "id": "f29f3ac0",
   "metadata": {},
   "outputs": [],
   "source": [
    "snowflake_pd_df = snowpark_df.filter(F.col('Refund Date') == date ).to_pandas()\n",
    "len(snowflake_pd_df)\n",
    "#snowflake_pd_df2 = snowpark_df.filter(F.col('Flight Date') == flight_date2 ).to_pandas() "
   ]
  },
  {
   "cell_type": "code",
   "execution_count": 9,
   "id": "5c4ce7b2",
   "metadata": {},
   "outputs": [],
   "source": [
    "snowflake_pd_df.dtypes"
   ]
  },
  {
   "cell_type": "code",
   "execution_count": 28,
   "id": "341838fc",
   "metadata": {},
   "outputs": [],
   "source": [
    "#need change in the future 'Purchase Cnt','Ancillary Category','Resident Base Taxes'\n",
    "# columns_to_remove = ['Refund Time']\n",
    "# snowflake_pd_df = snowflake_pd_df.drop(columns=columns_to_remove).\n",
    "snowflake_pd_df['Refund Date'] = pd.to_datetime(snowflake_pd_df['Refund Date'])\n",
    "snowflake_pd_df['Refund Time'] = snowflake_pd_df['Refund Time'].apply(convert_to_hms)\n",
    "snowflake_pd_df['Exchange Rate'] = round(snowflake_pd_df['Exchange Rate'],6)\n",
    "snowflake_pd_df['Refund Amount (CAN)'] = snowflake_pd_df['Refund Amount (CAN)'].astype(float)\n",
    "snowflake_pd_df['Base Currency Amount'] = snowflake_pd_df['Base Currency Amount'].astype(float)\n",
    "snowflake_pd_df['lng GL Payments Receipt Nmbr'] = snowflake_pd_df['lng GL Payments Receipt Nmbr'].astype(int)"
   ]
  },
  {
   "cell_type": "markdown",
   "id": "0040d98b",
   "metadata": {},
   "source": [
    "# Import and clean report data"
   ]
  },
  {
   "cell_type": "code",
   "execution_count": 29,
   "id": "a1d27d5e",
   "metadata": {},
   "outputs": [],
   "source": [
    "report_df = pd.read_csv('Refunds/Refunds_Raw_Data_0801.csv', skiprows=0)   "
   ]
  },
  {
   "cell_type": "code",
   "execution_count": 30,
   "id": "c2329ccc",
   "metadata": {},
   "outputs": [],
   "source": [
    "#'LastMod_SalesUser''PurchaseCnt','AncillaryCategory','Base_Taxes'\n",
    "columns_to_remove = ['CC_Num']\n",
    "report_df = report_df.drop(columns=columns_to_remove)\n",
    "\n",
    "columns_to_process = ['RefundTotal', 'mny_GL_Currency_Payments_Amount']\n",
    "\n",
    "# Apply the function to specified columns in the dataframe\n",
    "for col in columns_to_process:\n",
    "    report_df[col] = report_df[col].apply(process_fee_column)\n",
    "\n",
    "report_df['dtm_Refund_Date'] = pd.to_datetime(report_df['dtm_Refund_Date'])\n",
    "report_df['dtm_Refund_Date'] =report_df['dtm_Refund_Date'].dt.strftime('%m/%d/%Y')\n",
    "report_df['dtm_Refund_Date'] = pd.to_datetime(report_df['dtm_Refund_Date'])\n",
    "\n",
    "report_df['dtm_Refund_Date1'] = report_df['dtm_Refund_Date1'].apply(convert_to_hms)"
   ]
  },
  {
   "cell_type": "code",
   "execution_count": 31,
   "id": "68b262d4",
   "metadata": {},
   "outputs": [],
   "source": [
    "len(report_df)"
   ]
  },
  {
   "cell_type": "code",
   "execution_count": 32,
   "id": "c33a982b",
   "metadata": {},
   "outputs": [],
   "source": [
    "report_df.dtypes"
   ]
  },
  {
   "cell_type": "code",
   "execution_count": 15,
   "id": "cbd25dc9",
   "metadata": {},
   "outputs": [],
   "source": [
    "report_df = report_df.fillna('')"
   ]
  },
  {
   "cell_type": "code",
   "execution_count": 16,
   "id": "fded7cee",
   "metadata": {},
   "outputs": [],
   "source": [
    "#report_df.dtypes = snowflake_pd_df.dtypes\n",
    "report_df.columns = snowflake_pd_df.columns "
   ]
  },
  {
   "cell_type": "markdown",
   "id": "72f05fe9",
   "metadata": {},
   "source": [
    "# Compare two dataframes"
   ]
  },
  {
   "cell_type": "code",
   "execution_count": 17,
   "id": "fb597347",
   "metadata": {},
   "outputs": [],
   "source": [
    "merged = snowflake_pd_df.merge(report_df, how = 'outer', indicator = True)\n",
    "snowflake_only = merged[merged['_merge'] == \"left_only\"]\n",
    "report_only = merged[merged['_merge'] == \"right_only\"]"
   ]
  },
  {
   "cell_type": "code",
   "execution_count": 18,
   "id": "8ad61759",
   "metadata": {},
   "outputs": [],
   "source": [
    "def calculate_df2_accuracy(df1, df2):\n",
    "    merged = df1.merge(df2, how = 'outer', indicator = True)\n",
    "    #matched = merged[merged['_merge'] == \"both\"]\n",
    "    df1_only = merged[merged['_merge'] == \"left_only\"]\n",
    "    df2_only = merged[merged['_merge'] == \"right_only\"]\n",
    "\n",
    "    # Calculate the total number of elements\n",
    "    total_elements = len(df2)\n",
    "\n",
    "    # Calculate accuracy as a percentage\n",
    "    accuracy = ((total_elements - len(df2_only)) / total_elements) * 100\n",
    "\n",
    "    return accuracy\n"
   ]
  },
  {
   "cell_type": "code",
   "execution_count": 26,
   "id": "acbfe73e",
   "metadata": {},
   "outputs": [],
   "source": [
    "accuracy_percentage = calculate_df2_accuracy(report_df,snowflake_pd_df)\n",
    "print(f\"Accuracy: {accuracy_percentage:.2f}%\" \" snowflake records in report\\nThe number of records in snowflake but not in report is\", len(snowflake_only))"
   ]
  },
  {
   "cell_type": "code",
   "execution_count": 20,
   "id": "92cea7e6",
   "metadata": {},
   "outputs": [],
   "source": [
    "accuracy_percentage = calculate_df2_accuracy(snowflake_pd_df, report_df)\n",
    "print(f\"Accuracy: {accuracy_percentage:.2f}%\"\" report records in snowflake\\nThe number of records in report but not in snowflake is\", len(report_only))"
   ]
  },
  {
   "cell_type": "markdown",
   "id": "10d27906",
   "metadata": {},
   "source": [
    "# Output the difference file"
   ]
  },
  {
   "cell_type": "code",
   "execution_count": 25,
   "id": "62792626",
   "metadata": {},
   "outputs": [],
   "source": [
    "try:\n",
    "    snowflake_only.to_csv(\"Refunds/\"+\"snowflake_only_record.csv\", index=False) \n",
    "except:\n",
    "    print(\"No snowflake only records\")\n",
    "try:\n",
    "    report_only.to_csv(\"Refunds/\"+\"report_only_record.csv\", index=False) \n",
    "except:\n",
    "    print(\"No report only records\")"
   ]
  },
  {
   "cell_type": "code",
   "execution_count": 22,
   "id": "0917d537",
   "metadata": {},
   "outputs": [],
   "source": [
    "snow_res = list(snowflake_pd_df['Reservation Nmbr'].unique())\n",
    "report_res = list(report_df['Reservation Nmbr'].unique())"
   ]
  },
  {
   "cell_type": "code",
   "execution_count": 23,
   "id": "6fff31d6",
   "metadata": {},
   "outputs": [],
   "source": [
    "elements_in_snow_not_in_report = list(set(snow_res) - set(report_res))\n",
    "elements_in_report_not_in_snow = list(set(report_res)-set(snow_res))\n",
    "\n",
    "snow_file_path = \"Refunds/snowonly_reservation.txt\"\n",
    "report_file_path = \"Refunds/reportonly_reservation.txt\"\n",
    "\n",
    "# Open the file for writing\n",
    "with open(snow_file_path, \"w\") as file:\n",
    "    for item in elements_in_snow_not_in_report:\n",
    "        file.write(\"%s,\" % item)\n",
    "with open(report_file_path, \"w\") as file:\n",
    "    for item in elements_in_snow_not_in_report:\n",
    "        file.write(\"%s,\" % item)"
   ]
  }
 ],
 "metadata": {
  "kernelspec": {
   "display_name": "Python 3 (ipykernel)",
   "language": "python",
   "name": "python3"
  },
  "language_info": {
   "codemirror_mode": {
    "name": "ipython",
    "version": 3
   },
   "file_extension": ".py",
   "mimetype": "text/x-python",
   "name": "python",
   "nbconvert_exporter": "python",
   "pygments_lexer": "ipython3",
   "version": "3.8.17"
  }
 },
 "nbformat": 4,
 "nbformat_minor": 5
}
