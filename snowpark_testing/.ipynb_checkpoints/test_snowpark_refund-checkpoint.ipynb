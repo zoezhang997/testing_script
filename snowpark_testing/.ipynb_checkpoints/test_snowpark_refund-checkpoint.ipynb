{
 "cells": [
  {
   "cell_type": "markdown",
   "id": "ea681461",
   "metadata": {},
   "source": [
    "## Accuracy:100%\n",
    "\n",
    "Things to note:\n",
    "1. N/A"
   ]
  },
  {
   "cell_type": "code",
   "execution_count": 37,
   "id": "b80fcc6d",
   "metadata": {},
   "outputs": [],
   "source": [
    "from helpfile import *"
   ]
  },
  {
   "cell_type": "markdown",
   "id": "2d67dcc2",
   "metadata": {},
   "source": [
    "# Import and clean snowflake views"
   ]
  },
  {
   "cell_type": "code",
   "execution_count": 38,
   "id": "54766814",
   "metadata": {},
   "outputs": [],
   "source": [
    "query = \"\"\"select * from ANALYTICS_PROD.IOATAWARE.VW_REFUNDS_RAW_DATA where \"Refund Date\"='08/01/2023'\n",
    "    \"\"\"\n",
    "snowflake_pd_df = get_data(query)"
   ]
  },
  {
   "cell_type": "code",
   "execution_count": 40,
   "id": "341838fc",
   "metadata": {},
   "outputs": [],
   "source": [
    "#need change in the future 'Purchase Cnt','Ancillary Category','Resident Base Taxes'\n",
    "# columns_to_remove = ['Refund Time']\n",
    "# snowflake_pd_df = snowflake_pd_df.drop(columns=columns_to_remove).\n",
    "snowflake_pd_df['Refund Date'] = pd.to_datetime(snowflake_pd_df['Refund Date'])\n",
    "snowflake_pd_df['Refund Time'] = snowflake_pd_df['Refund Time'].apply(convert_to_hms)\n",
    "snowflake_pd_df['Exchange Rate'] = round(snowflake_pd_df['Exchange Rate'],6)\n",
    "snowflake_pd_df['Refund Amount (CAN)'] = snowflake_pd_df['Refund Amount (CAN)'].astype(float)\n",
    "snowflake_pd_df['Base Currency Amount'] = snowflake_pd_df['Base Currency Amount'].astype(float)\n",
    "snowflake_pd_df['lng GL Payments Receipt Nmbr'] = snowflake_pd_df['lng GL Payments Receipt Nmbr'].astype(int)"
   ]
  },
  {
   "cell_type": "code",
   "execution_count": 41,
   "id": "40cc8601",
   "metadata": {},
   "outputs": [],
   "source": [
    "#snowflake_pd_df.dtypes"
   ]
  },
  {
   "cell_type": "markdown",
   "id": "0040d98b",
   "metadata": {},
   "source": [
    "# Import and clean report data"
   ]
  },
  {
   "cell_type": "code",
   "execution_count": 42,
   "id": "a1d27d5e",
   "metadata": {},
   "outputs": [],
   "source": [
    "report_df = pd.read_csv('Refunds/Refunds_Raw_Data_0801.csv', skiprows=0)   "
   ]
  },
  {
   "cell_type": "code",
   "execution_count": 43,
   "id": "c2329ccc",
   "metadata": {},
   "outputs": [],
   "source": [
    "#'LastMod_SalesUser''PurchaseCnt','AncillaryCategory','Base_Taxes'\n",
    "columns_to_remove = ['CC_Num']\n",
    "report_df = report_df.drop(columns=columns_to_remove)\n",
    "\n",
    "columns_to_process = ['RefundTotal', 'mny_GL_Currency_Payments_Amount']\n",
    "\n",
    "# Apply the function to specified columns in the dataframe\n",
    "for col in columns_to_process:\n",
    "    report_df[col] = report_df[col].apply(process_fee_column)\n",
    "\n",
    "report_df['dtm_Refund_Date'] = pd.to_datetime(report_df['dtm_Refund_Date'])\n",
    "report_df['dtm_Refund_Date'] =report_df['dtm_Refund_Date'].dt.strftime('%m/%d/%Y')\n",
    "report_df['dtm_Refund_Date'] = pd.to_datetime(report_df['dtm_Refund_Date'])\n",
    "report_df['dtm_Refund_Date1'] = report_df['dtm_Refund_Date1'].apply(convert_to_hms)"
   ]
  },
  {
   "cell_type": "code",
   "execution_count": 44,
   "id": "c33a982b",
   "metadata": {},
   "outputs": [],
   "source": [
    "#report_df.dtypes"
   ]
  },
  {
   "cell_type": "code",
   "execution_count": 45,
   "id": "cbd25dc9",
   "metadata": {},
   "outputs": [],
   "source": [
    "report_df = report_df.fillna('')"
   ]
  },
  {
   "cell_type": "markdown",
   "id": "72f05fe9",
   "metadata": {},
   "source": [
    "# Compare two dataframes"
   ]
  },
  {
   "cell_type": "code",
   "execution_count": 46,
   "id": "d9c376a0",
   "metadata": {},
   "outputs": [
    {
     "name": "stdout",
     "output_type": "stream",
     "text": [
      "Accuracy: 100.00% snowflake records in report\n",
      "The number of records in snowflake but not in report is 0\n",
      "Accuracy: 100.00% report records in snowflake\n",
      "The number of records in report but not in snowflake is 0\n"
     ]
    }
   ],
   "source": [
    "report_accuracy,snowflake_accuracy,report_only,snowflake_only = calculate_accuracy(report_df,snowflake_pd_df)\n",
    "print(f\"Accuracy: {snowflake_accuracy:.2f}%\" \" snowflake records in report\\nThe number of records in snowflake but not in report is\", len(snowflake_only))\n",
    "print(f\"Accuracy: {report_accuracy:.2f}%\"\" report records in snowflake\\nThe number of records in report but not in snowflake is\", len(report_only))"
   ]
  },
  {
   "cell_type": "markdown",
   "id": "10d27906",
   "metadata": {},
   "source": [
    "# Output the difference file"
   ]
  },
  {
   "cell_type": "code",
   "execution_count": 47,
   "id": "62792626",
   "metadata": {},
   "outputs": [],
   "source": [
    "try:\n",
    "    snowflake_only.to_csv(\"Refunds/\"+\"snowflake_only_record.csv\", index=False) \n",
    "except:\n",
    "    print(\"No snowflake only records\")\n",
    "try:\n",
    "    report_only.to_csv(\"Refunds/\"+\"report_only_record.csv\", index=False) \n",
    "except:\n",
    "    print(\"No report only records\")"
   ]
  },
  {
   "cell_type": "code",
   "execution_count": 48,
   "id": "0917d537",
   "metadata": {},
   "outputs": [],
   "source": [
    "snow_res = list(snowflake_pd_df['Reservation Nmbr'].unique())\n",
    "report_res = list(report_df['Reservation Nmbr'].unique())"
   ]
  },
  {
   "cell_type": "code",
   "execution_count": 49,
   "id": "6fff31d6",
   "metadata": {},
   "outputs": [],
   "source": [
    "elements_in_snow_not_in_report = list(set(snow_res) - set(report_res))\n",
    "elements_in_report_not_in_snow = list(set(report_res)-set(snow_res))\n",
    "\n",
    "snow_file_path = \"Refunds/snowonly_reservation.txt\"\n",
    "report_file_path = \"Refunds/reportonly_reservation.txt\"\n",
    "\n",
    "# Open the file for writing\n",
    "with open(snow_file_path, \"w\") as file:\n",
    "    for item in elements_in_snow_not_in_report:\n",
    "        file.write(\"%s,\" % item)\n",
    "with open(report_file_path, \"w\") as file:\n",
    "    for item in elements_in_snow_not_in_report:\n",
    "        file.write(\"%s,\" % item)"
   ]
  }
 ],
 "metadata": {
  "kernelspec": {
   "display_name": "Python 3 (ipykernel)",
   "language": "python",
   "name": "python3"
  },
  "language_info": {
   "codemirror_mode": {
    "name": "ipython",
    "version": 3
   },
   "file_extension": ".py",
   "mimetype": "text/x-python",
   "name": "python",
   "nbconvert_exporter": "python",
   "pygments_lexer": "ipython3",
   "version": "3.8.17"
  }
 },
 "nbformat": 4,
 "nbformat_minor": 5
}
