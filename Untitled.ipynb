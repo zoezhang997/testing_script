{
 "cells": [
  {
   "cell_type": "code",
   "execution_count": 3,
   "id": "f8217b6e",
   "metadata": {},
   "outputs": [],
   "source": [
    "import pandas as pd\n",
    "\n",
    "# Sample data for left dataframe\n",
    "data_left = {'Key': ['A', 'B', 'C', 'D','B'],\n",
    "             'Value_left': [1, 2, 3, 4,2]}\n",
    "df_left = pd.DataFrame(data_left)\n",
    "\n",
    "# Sample data for right dataframe\n",
    "data_right = {'Key': ['B', 'D', 'E', 'F'],\n",
    "              'Value_right': [5, 6, 7, 8]}\n",
    "df_right = pd.DataFrame(data_right)\n",
    "\n",
    "# Perform Left Join\n",
    "left_join_df = df_left.merge(df_right, on='Key', how='left')\n",
    "left_join_df = df_left.merge(df_right, on='Key', how='right')\n",
    "left_join_df = df_left.merge(df_right, on='Key', how='inner')\n",
    "left_join_df = df_left.merge(df_right, on='Key', how='outer')"
   ]
  },
  {
   "cell_type": "code",
   "execution_count": 4,
   "id": "465dea55",
   "metadata": {},
   "outputs": [
    {
     "data": {
      "text/html": [
       "<div>\n",
       "<style scoped>\n",
       "    .dataframe tbody tr th:only-of-type {\n",
       "        vertical-align: middle;\n",
       "    }\n",
       "\n",
       "    .dataframe tbody tr th {\n",
       "        vertical-align: top;\n",
       "    }\n",
       "\n",
       "    .dataframe thead th {\n",
       "        text-align: right;\n",
       "    }\n",
       "</style>\n",
       "<table border=\"1\" class=\"dataframe\">\n",
       "  <thead>\n",
       "    <tr style=\"text-align: right;\">\n",
       "      <th></th>\n",
       "      <th>Key</th>\n",
       "      <th>Value_left</th>\n",
       "      <th>Value_right</th>\n",
       "    </tr>\n",
       "  </thead>\n",
       "  <tbody>\n",
       "    <tr>\n",
       "      <th>0</th>\n",
       "      <td>A</td>\n",
       "      <td>1</td>\n",
       "      <td>NaN</td>\n",
       "    </tr>\n",
       "    <tr>\n",
       "      <th>1</th>\n",
       "      <td>B</td>\n",
       "      <td>2</td>\n",
       "      <td>5.0</td>\n",
       "    </tr>\n",
       "    <tr>\n",
       "      <th>2</th>\n",
       "      <td>C</td>\n",
       "      <td>3</td>\n",
       "      <td>NaN</td>\n",
       "    </tr>\n",
       "    <tr>\n",
       "      <th>3</th>\n",
       "      <td>D</td>\n",
       "      <td>4</td>\n",
       "      <td>6.0</td>\n",
       "    </tr>\n",
       "    <tr>\n",
       "      <th>4</th>\n",
       "      <td>B</td>\n",
       "      <td>2</td>\n",
       "      <td>5.0</td>\n",
       "    </tr>\n",
       "  </tbody>\n",
       "</table>\n",
       "</div>"
      ],
      "text/plain": [
       "  Key  Value_left  Value_right\n",
       "0   A           1          NaN\n",
       "1   B           2          5.0\n",
       "2   C           3          NaN\n",
       "3   D           4          6.0\n",
       "4   B           2          5.0"
      ]
     },
     "execution_count": 4,
     "metadata": {},
     "output_type": "execute_result"
    }
   ],
   "source": [
    "left_join_df"
   ]
  },
  {
   "cell_type": "code",
   "execution_count": null,
   "id": "389b0b2f",
   "metadata": {},
   "outputs": [],
   "source": []
  }
 ],
 "metadata": {
  "kernelspec": {
   "display_name": "Python 3 (ipykernel)",
   "language": "python",
   "name": "python3"
  },
  "language_info": {
   "codemirror_mode": {
    "name": "ipython",
    "version": 3
   },
   "file_extension": ".py",
   "mimetype": "text/x-python",
   "name": "python",
   "nbconvert_exporter": "python",
   "pygments_lexer": "ipython3",
   "version": "3.8.17"
  }
 },
 "nbformat": 4,
 "nbformat_minor": 5
}
